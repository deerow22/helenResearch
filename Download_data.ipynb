{
 "cells": [
  {
   "cell_type": "code",
   "execution_count": 12,
   "metadata": {},
   "outputs": [],
   "source": [
    "import pandas as pd\n",
    "from astroquery.mast import Observations, Catalogs\n",
    "import matplotlib.pyplot as plt\n",
    "import numpy as np\n",
    "\n",
    "# import glob\n",
    "# from astropy.io import ascii\n",
    "# from astropy.table import Table, join, vstack\n",
    "# from astropy.io import fits\n",
    "# import lightkurve as lk\n",
    "# from operator import itemgetter"
   ]
  },
  {
   "cell_type": "code",
   "execution_count": null,
   "metadata": {},
   "outputs": [],
   "source": [
    "# NOTE TO ME: CHANGE THIS TO TAKE IN ONE SECTOR AT A TIME...ELIMINATE\n",
    "# NEED TO COMMENT/UNCOMMENT LINES IN EVERY CELL"
   ]
  },
  {
   "cell_type": "markdown",
   "metadata": {},
   "source": [
    "## Notebook Goals:\n",
    "- 1) gets/opens sector tic id lists\n",
    "- 2) downloads tic catalog based on tic ids (temp cuts, get ra/dec)\n",
    "- 3) uses ra/dec for mast query to get data urls\n",
    "- 4) creates shell script to download raw lc files \n",
    "\n",
    "- 5) merges/matches pipeline stats into tic catalog\n",
    "\n",
    "- 6) Download vilanova Kepler EB catalog lcs"
   ]
  },
  {
   "cell_type": "markdown",
   "metadata": {},
   "source": [
    "### Useful Functions"
   ]
  },
  {
   "cell_type": "code",
   "execution_count": 2,
   "metadata": {},
   "outputs": [],
   "source": [
    "# unique item finder\n",
    "\n",
    "def uniquefinder(mylist):\n",
    "    seen = {}\n",
    "    dupes = []\n",
    "    uniq_tics = []\n",
    "    for x in mylist:\n",
    "        if x not in seen:\n",
    "            seen[x] = 1\n",
    "            uniq_tics.append(x)\n",
    "        else:\n",
    "            if seen[x] == 1:\n",
    "                dupes.append(x)\n",
    "            seen[x] += 1\n",
    "    uniques = len(uniq_tics)\n",
    "    print('there are {} unique tics. Use the first output dictionary'.format(uniques), \\\n",
    "          'to see number of occurances for duplicates')\n",
    "    return seen, uniq_tics"
   ]
  },
  {
   "cell_type": "code",
   "execution_count": 3,
   "metadata": {},
   "outputs": [],
   "source": [
    "#for ease of switching file location\n",
    "\n",
    "externalpath = '/Volumes/Seagate-stars/'"
   ]
  },
  {
   "cell_type": "markdown",
   "metadata": {},
   "source": [
    "# ONE"
   ]
  },
  {
   "cell_type": "code",
   "execution_count": 4,
   "metadata": {},
   "outputs": [
    {
     "data": {
      "text/html": [
       "<div>\n",
       "<style scoped>\n",
       "    .dataframe tbody tr th:only-of-type {\n",
       "        vertical-align: middle;\n",
       "    }\n",
       "\n",
       "    .dataframe tbody tr th {\n",
       "        vertical-align: top;\n",
       "    }\n",
       "\n",
       "    .dataframe thead th {\n",
       "        text-align: right;\n",
       "    }\n",
       "</style>\n",
       "<table border=\"1\" class=\"dataframe\">\n",
       "  <thead>\n",
       "    <tr style=\"text-align: right;\">\n",
       "      <th></th>\n",
       "      <th>TICID</th>\n",
       "      <th>Camera</th>\n",
       "      <th>CCD</th>\n",
       "      <th>Tmag</th>\n",
       "      <th>RA</th>\n",
       "      <th>Dec</th>\n",
       "    </tr>\n",
       "  </thead>\n",
       "  <tbody>\n",
       "    <tr>\n",
       "      <th>0</th>\n",
       "      <td>7582594</td>\n",
       "      <td>2</td>\n",
       "      <td>3</td>\n",
       "      <td>8.57</td>\n",
       "      <td>272.3966</td>\n",
       "      <td>45.8308</td>\n",
       "    </tr>\n",
       "    <tr>\n",
       "      <th>1</th>\n",
       "      <td>7582633</td>\n",
       "      <td>2</td>\n",
       "      <td>3</td>\n",
       "      <td>9.92</td>\n",
       "      <td>272.3288</td>\n",
       "      <td>45.9244</td>\n",
       "    </tr>\n",
       "    <tr>\n",
       "      <th>2</th>\n",
       "      <td>7582634</td>\n",
       "      <td>2</td>\n",
       "      <td>3</td>\n",
       "      <td>10.48</td>\n",
       "      <td>272.3307</td>\n",
       "      <td>45.9255</td>\n",
       "    </tr>\n",
       "    <tr>\n",
       "      <th>3</th>\n",
       "      <td>7583285</td>\n",
       "      <td>2</td>\n",
       "      <td>2</td>\n",
       "      <td>11.30</td>\n",
       "      <td>272.3711</td>\n",
       "      <td>47.2259</td>\n",
       "    </tr>\n",
       "    <tr>\n",
       "      <th>4</th>\n",
       "      <td>7584049</td>\n",
       "      <td>2</td>\n",
       "      <td>2</td>\n",
       "      <td>8.50</td>\n",
       "      <td>272.5282</td>\n",
       "      <td>47.0887</td>\n",
       "    </tr>\n",
       "    <tr>\n",
       "      <th>...</th>\n",
       "      <td>...</td>\n",
       "      <td>...</td>\n",
       "      <td>...</td>\n",
       "      <td>...</td>\n",
       "      <td>...</td>\n",
       "      <td>...</td>\n",
       "    </tr>\n",
       "    <tr>\n",
       "      <th>19995</th>\n",
       "      <td>1980752885</td>\n",
       "      <td>2</td>\n",
       "      <td>1</td>\n",
       "      <td>16.91</td>\n",
       "      <td>303.1632</td>\n",
       "      <td>60.2862</td>\n",
       "    </tr>\n",
       "    <tr>\n",
       "      <th>19996</th>\n",
       "      <td>1980968952</td>\n",
       "      <td>2</td>\n",
       "      <td>1</td>\n",
       "      <td>8.65</td>\n",
       "      <td>301.3995</td>\n",
       "      <td>63.7061</td>\n",
       "    </tr>\n",
       "    <tr>\n",
       "      <th>19997</th>\n",
       "      <td>1980968953</td>\n",
       "      <td>2</td>\n",
       "      <td>1</td>\n",
       "      <td>8.76</td>\n",
       "      <td>301.3993</td>\n",
       "      <td>63.7056</td>\n",
       "    </tr>\n",
       "    <tr>\n",
       "      <th>19998</th>\n",
       "      <td>1981207128</td>\n",
       "      <td>2</td>\n",
       "      <td>1</td>\n",
       "      <td>7.88</td>\n",
       "      <td>300.4913</td>\n",
       "      <td>65.8903</td>\n",
       "    </tr>\n",
       "    <tr>\n",
       "      <th>19999</th>\n",
       "      <td>1981303680</td>\n",
       "      <td>3</td>\n",
       "      <td>2</td>\n",
       "      <td>8.20</td>\n",
       "      <td>300.3917</td>\n",
       "      <td>70.4546</td>\n",
       "    </tr>\n",
       "  </tbody>\n",
       "</table>\n",
       "<p>20000 rows × 6 columns</p>\n",
       "</div>"
      ],
      "text/plain": [
       "            TICID   Camera   CCD   Tmag        RA      Dec\n",
       "0         7582594        2     3   8.57  272.3966  45.8308\n",
       "1         7582633        2     3   9.92  272.3288  45.9244\n",
       "2         7582634        2     3  10.48  272.3307  45.9255\n",
       "3         7583285        2     2  11.30  272.3711  47.2259\n",
       "4         7584049        2     2   8.50  272.5282  47.0887\n",
       "...           ...      ...   ...    ...       ...      ...\n",
       "19995  1980752885        2     1  16.91  303.1632  60.2862\n",
       "19996  1980968952        2     1   8.65  301.3995  63.7061\n",
       "19997  1980968953        2     1   8.76  301.3993  63.7056\n",
       "19998  1981207128        2     1   7.88  300.4913  65.8903\n",
       "19999  1981303680        3     2   8.20  300.3917  70.4546\n",
       "\n",
       "[20000 rows x 6 columns]"
      ]
     },
     "execution_count": 4,
     "metadata": {},
     "output_type": "execute_result"
    }
   ],
   "source": [
    "## open tic id lists per sector\n",
    "# lists downloaded from https://tess.mit.edu under top menu item \"Observations\"-->\"Target Lists\" OR Sectors\"-->\"Sector #\"--->scroll down to list dl .txt or .csv\n",
    "# NOTE: weird error with ^^ those files, need to 1)add space after \"colname, \" AND 2)use 'skiprows' below to get read by pandas\n",
    "\n",
    "sec14_file = pd.read_csv('data/SECTORS/all_targets_S014_v1.csv',skiprows=5) #overlaps kepler\n",
    "sec15_file = pd.read_csv('data/SECTORS/all_targets_S015_v1.csv',skiprows=5) #overlaps kepler\n",
    "sec14_file \n",
    "# sec15_file"
   ]
  },
  {
   "cell_type": "code",
   "execution_count": 5,
   "metadata": {},
   "outputs": [
    {
     "data": {
      "text/plain": [
       "(20000, 20000)"
      ]
     },
     "execution_count": 5,
     "metadata": {},
     "output_type": "execute_result"
    }
   ],
   "source": [
    "#pull tic ids\n",
    "ticid_sec15 = sec15_file['TICID'].to_numpy() #full sample\n",
    "ticid_sec14 = sec14_file['TICID'].to_numpy() #full sample\n",
    "\n",
    "\n",
    "len(ticid_sec15),len(ticid_sec14)"
   ]
  },
  {
   "cell_type": "markdown",
   "metadata": {},
   "source": [
    " # TWO"
   ]
  },
  {
   "cell_type": "code",
   "execution_count": 6,
   "metadata": {},
   "outputs": [
    {
     "data": {
      "text/html": [
       "<i>Table masked=True length=5</i>\n",
       "<table id=\"table4863836688\" class=\"table-striped table-bordered table-condensed\">\n",
       "<thead><tr><th>target_name</th><th>version</th><th>HIP</th><th>TYC</th><th>UCAC</th><th>TWOMASS</th><th>SDSS</th><th>ALLWISE</th><th>GAIA</th><th>APASS</th><th>KIC</th><th>objType</th><th>typeSrc</th><th>ra</th><th>dec</th><th>POSflag</th><th>pmRA</th><th>e_pmRA</th><th>pmDEC</th><th>e_pmDEC</th><th>PMflag</th><th>plx</th><th>e_plx</th><th>PARflag</th><th>gallong</th><th>gallat</th><th>eclong</th><th>eclat</th><th>Bmag</th><th>e_Bmag</th><th>Vmag</th><th>e_Vmag</th><th>umag</th><th>e_umag</th><th>gmag</th><th>e_gmag</th><th>rmag</th><th>e_rmag</th><th>imag</th><th>e_imag</th><th>zmag</th><th>e_zmag</th><th>Jmag</th><th>e_Jmag</th><th>Hmag</th><th>e_Hmag</th><th>Kmag</th><th>e_Kmag</th><th>TWOMflag</th><th>prox</th><th>w1mag</th><th>e_w1mag</th><th>w2mag</th><th>e_w2mag</th><th>w3mag</th><th>e_w3mag</th><th>w4mag</th><th>e_w4mag</th><th>GAIAmag</th><th>e_GAIAmag</th><th>Tmag</th><th>e_Tmag</th><th>TESSflag</th><th>SPFlag</th><th>Teff</th><th>e_Teff</th><th>logg</th><th>e_logg</th><th>MH</th><th>e_MH</th><th>rad</th><th>e_rad</th><th>mass</th><th>e_mass</th><th>rho</th><th>e_rho</th><th>lumclass</th><th>lum</th><th>e_lum</th><th>d</th><th>e_d</th><th>ebv</th><th>e_ebv</th><th>numcont</th><th>contratio</th><th>disposition</th><th>duplicate_id</th><th>priority</th><th>eneg_EBV</th><th>epos_EBV</th><th>EBVflag</th><th>eneg_Mass</th><th>epos_Mass</th><th>eneg_Rad</th><th>epos_Rad</th><th>eneg_rho</th><th>epos_rho</th><th>eneg_logg</th><th>epos_logg</th><th>eneg_lum</th><th>epos_lum</th><th>eneg_dist</th><th>epos_dist</th><th>distflag</th><th>eneg_Teff</th><th>epos_Teff</th><th>TeffFlag</th><th>gaiabp</th><th>e_gaiabp</th><th>gaiarp</th><th>e_gaiarp</th><th>gaiaqflag</th><th>starchareFlag</th><th>VmagFlag</th><th>BmagFlag</th><th>splists</th><th>e_RA</th><th>e_Dec</th><th>RA_orig</th><th>Dec_orig</th><th>e_RA_orig</th><th>e_Dec_orig</th><th>raddflag</th><th>wdflag</th><th>objID</th></tr></thead>\n",
       "<thead><tr><th>str10</th><th>str8</th><th>int64</th><th>str12</th><th>str10</th><th>str16</th><th>str19</th><th>str19</th><th>str19</th><th>str8</th><th>int64</th><th>str4</th><th>str11</th><th>float64</th><th>float64</th><th>str11</th><th>float64</th><th>float64</th><th>float64</th><th>float64</th><th>str6</th><th>float64</th><th>float64</th><th>str5</th><th>float64</th><th>float64</th><th>float64</th><th>float64</th><th>float64</th><th>float64</th><th>float64</th><th>float64</th><th>float64</th><th>float64</th><th>float64</th><th>float64</th><th>float64</th><th>float64</th><th>float64</th><th>float64</th><th>float64</th><th>float64</th><th>float64</th><th>float64</th><th>float64</th><th>float64</th><th>float64</th><th>float64</th><th>str19</th><th>float64</th><th>float64</th><th>float64</th><th>float64</th><th>float64</th><th>float64</th><th>float64</th><th>float64</th><th>float64</th><th>float64</th><th>float64</th><th>float64</th><th>float64</th><th>str5</th><th>str5</th><th>float64</th><th>float64</th><th>float64</th><th>float64</th><th>float64</th><th>float64</th><th>float64</th><th>float64</th><th>float64</th><th>float64</th><th>float64</th><th>float64</th><th>str5</th><th>float64</th><th>float64</th><th>float64</th><th>float64</th><th>float64</th><th>float64</th><th>int64</th><th>float64</th><th>str5</th><th>str1</th><th>float64</th><th>float64</th><th>float64</th><th>str9</th><th>float64</th><th>float64</th><th>float64</th><th>float64</th><th>float64</th><th>float64</th><th>float64</th><th>float64</th><th>float64</th><th>float64</th><th>float64</th><th>float64</th><th>str6</th><th>float64</th><th>float64</th><th>str6</th><th>float64</th><th>float64</th><th>float64</th><th>float64</th><th>int64</th><th>str1</th><th>str11</th><th>str8</th><th>str15</th><th>float64</th><th>float64</th><th>float64</th><th>float64</th><th>float64</th><th>float64</th><th>int64</th><th>int64</th><th>str9</th></tr></thead>\n",
       "<tr><td>86378010</td><td>20190415</td><td>--</td><td>4142-00290-1</td><td>777-026823</td><td>09394442+6517542</td><td>1237663531340005408</td><td>J093944.40+651753.6</td><td>1064936836101769088</td><td>59791205</td><td>--</td><td>STAR</td><td>tmgaia2</td><td>144.935072883975</td><td>65.2984086893993</td><td>tmgaia2</td><td>-9.49785</td><td>0.030933</td><td>-50.0193</td><td>0.0393627</td><td>gaia2</td><td>7.347</td><td>0.0276672</td><td>gaia2</td><td>147.424919778241</td><td>41.5663317476576</td><td>120.458150928839</td><td>47.5639330380079</td><td>11.905</td><td>0.116</td><td>11.201</td><td>0.008</td><td>15.7385</td><td>0.0107012</td><td>11.7932</td><td>0.000900966</td><td>11.018</td><td>0.000842068</td><td>10.8461</td><td>0.0016471</td><td>11.4257</td><td>0.00286948</td><td>9.817</td><td>0.022</td><td>9.447</td><td>0.022</td><td>9.365</td><td>0.02</td><td>AAA-222-111-000-0-0</td><td>nan</td><td>9.327</td><td>0.022</td><td>9.382</td><td>0.02</td><td>9.366</td><td>0.041</td><td>8.371</td><td>nan</td><td>11.0374</td><td>0.000649</td><td>10.5243</td><td>0.0061</td><td>rered</td><td>gaia2</td><td>5328.0</td><td>128.324</td><td>4.50918</td><td>0.0794761</td><td>nan</td><td>nan</td><td>0.883289</td><td>0.0493643</td><td>0.919</td><td>0.114993</td><td>1.33354</td><td>0.296112</td><td>DWARF</td><td>0.566444159</td><td>0.01598915</td><td>135.578</td><td>0.5125</td><td>0.0122598</td><td>0.007237535</td><td>35</td><td>0.00206631725</td><td>--</td><td>--</td><td>0.00222908775</td><td>0.00544062</td><td>0.00903445</td><td>panstarrs</td><td>0.130945</td><td>0.0990415</td><td>0.0502447</td><td>0.0484839</td><td>0.296146</td><td>0.296078</td><td>0.0807992</td><td>0.0781531</td><td>0.0195403</td><td>0.012438</td><td>0.511</td><td>0.514</td><td>bj2018</td><td>122.397</td><td>134.251</td><td>dered</td><td>11.4717</td><td>0.001056</td><td>10.482</td><td>0.000778</td><td>1</td><td>--</td><td>tycho2v3</td><td>tycho2b3</td><td>--</td><td>0.569639411354915</td><td>0.610494489824118</td><td>144.934975027373</td><td>65.2981933285543</td><td>0.0151389867404792</td><td>0.0213272187166399</td><td>1</td><td>0</td><td>138545460</td></tr>\n",
       "<tr><td>841257506</td><td>20190415</td><td>--</td><td>--</td><td>--</td><td>--</td><td>--</td><td>--</td><td>1070737855153980160</td><td>--</td><td>--</td><td>STAR</td><td>gaia2</td><td>144.124922853682</td><td>68.1974732470316</td><td>gaia2</td><td>31.5066</td><td>0.142326</td><td>-78.8204</td><td>0.170878</td><td>gaia2</td><td>6.11102</td><td>0.143933</td><td>gaia2</td><td>144.270337689575</td><td>39.8948279604807</td><td>117.874238210289</td><td>49.9316253628915</td><td>nan</td><td>nan</td><td>17.459</td><td>0.0459</td><td>nan</td><td>nan</td><td>nan</td><td>nan</td><td>nan</td><td>nan</td><td>nan</td><td>nan</td><td>nan</td><td>nan</td><td>nan</td><td>nan</td><td>nan</td><td>nan</td><td>nan</td><td>nan</td><td>--</td><td>nan</td><td>nan</td><td>nan</td><td>nan</td><td>nan</td><td>nan</td><td>nan</td><td>nan</td><td>nan</td><td>17.4377</td><td>0.001328</td><td>17.5892</td><td>0.0309</td><td>rered</td><td>gaia2</td><td>nan</td><td>nan</td><td>nan</td><td>nan</td><td>nan</td><td>nan</td><td>nan</td><td>nan</td><td>nan</td><td>nan</td><td>nan</td><td>nan</td><td>--</td><td>nan</td><td>nan</td><td>163.008</td><td>3.8565</td><td>0.0456363</td><td>0.0006623975</td><td>--</td><td>nan</td><td>--</td><td>--</td><td>nan</td><td>0.000654138</td><td>0.000670657</td><td>schlegel</td><td>nan</td><td>nan</td><td>nan</td><td>nan</td><td>nan</td><td>nan</td><td>nan</td><td>nan</td><td>nan</td><td>nan</td><td>3.767</td><td>3.946</td><td>bj2018</td><td>nan</td><td>nan</td><td>--</td><td>17.3286</td><td>0.008235</td><td>17.4968</td><td>0.008622</td><td>--</td><td>--</td><td>gaia2</td><td>--</td><td>--</td><td>2.66521280409442</td><td>2.65105888875672</td><td>144.125288093882</td><td>68.1971338818192</td><td>0.0777898076546595</td><td>0.113945586904639</td><td>--</td><td>0</td><td>138525904</td></tr>\n",
       "<tr><td>430246167</td><td>20190415</td><td>47119</td><td>4389-01750-1</td><td>822-015688</td><td>09360674+7419075</td><td>--</td><td>J093606.72+741907.4</td><td>1121271791819779072</td><td>--</td><td>--</td><td>STAR</td><td>tmgaia2</td><td>144.028224206007</td><td>74.3188079331561</td><td>tmgaia2</td><td>-20.0635</td><td>0.0709739</td><td>-24.3244</td><td>0.0714913</td><td>gaia2</td><td>6.52852</td><td>0.0477083</td><td>gaia2</td><td>137.628695750044</td><td>36.6811454202369</td><td>112.479274444205</td><td>55.1030457481009</td><td>6.355</td><td>0.022</td><td>6.45472</td><td>0.023</td><td>nan</td><td>nan</td><td>nan</td><td>nan</td><td>nan</td><td>nan</td><td>nan</td><td>nan</td><td>nan</td><td>nan</td><td>6.582</td><td>0.023</td><td>6.666</td><td>0.024</td><td>6.663</td><td>0.021</td><td>AAA-111-111-000-0-0</td><td>nan</td><td>6.698</td><td>0.073</td><td>6.692</td><td>0.023</td><td>6.765</td><td>0.016</td><td>6.816</td><td>0.074</td><td>6.43342</td><td>0.000635336</td><td>6.54097</td><td>0.0064</td><td>rered</td><td>spect</td><td>11753.0</td><td>101.879</td><td>4.22027</td><td>0.0607295</td><td>nan</td><td>nan</td><td>2.26938</td><td>0.0503016</td><td>3.119</td><td>0.401438</td><td>0.266866</td><td>0.0399712</td><td>DWARF</td><td>88.53285</td><td>3.857645</td><td>152.51</td><td>1.118</td><td>0.00760644</td><td>0.002797525</td><td>43</td><td>0.000260314933</td><td>--</td><td>--</td><td>0.00279215653</td><td>0.00230303</td><td>0.00329202</td><td>panstarrs</td><td>0.413981</td><td>0.388895</td><td>0.0542116</td><td>0.0463915</td><td>0.0315234</td><td>0.0484189</td><td>0.0693978</td><td>0.0520612</td><td>4.15444</td><td>3.56085</td><td>1.118</td><td>1.118</td><td>bj2018</td><td>128.303</td><td>75.4546</td><td>spect</td><td>6.40705</td><td>0.002147</td><td>6.52128</td><td>0.002387</td><td>1</td><td>--</td><td>sirful</td><td>tycho2b3</td><td>--</td><td>1.38078747234968</td><td>1.10893210621884</td><td>144.027904600034</td><td>74.3187032033319</td><td>0.0340655125965786</td><td>0.0425585542920897</td><td>1</td><td>0</td><td>138476161</td></tr>\n",
       "<tr><td>356672782</td><td>20190415</td><td>47198</td><td>4386-01565-1</td><td>811-019239</td><td>09370932+7204493</td><td>--</td><td>J093709.07+720448.2</td><td>1120015565425300224</td><td>--</td><td>--</td><td>STAR</td><td>tmgaia2</td><td>144.288944728599</td><td>72.0803381444219</td><td>tmgaia2</td><td>-126.856</td><td>0.0411763</td><td>-96.9293</td><td>0.0542842</td><td>gaia2</td><td>17.8069</td><td>0.0288986</td><td>gaia2</td><td>139.944259055236</td><td>37.9562100204471</td><td>114.696559247233</td><td>53.2770020290701</td><td>7.887</td><td>0.024</td><td>7.43378</td><td>0.023</td><td>nan</td><td>nan</td><td>nan</td><td>nan</td><td>nan</td><td>nan</td><td>nan</td><td>nan</td><td>nan</td><td>nan</td><td>6.542</td><td>0.03</td><td>6.338</td><td>0.042</td><td>6.3</td><td>0.018</td><td>AAA-111-111-000-0-0</td><td>nan</td><td>6.292</td><td>0.088</td><td>6.207</td><td>0.027</td><td>6.318</td><td>0.015</td><td>6.167</td><td>0.047</td><td>7.311</td><td>0.000241</td><td>6.9813</td><td>0.006</td><td>gbprp</td><td>spect</td><td>6454.56</td><td>115.837</td><td>4.31369</td><td>0.0828833</td><td>nan</td><td>nan</td><td>1.32077</td><td>0.0535326</td><td>1.31</td><td>0.198002</td><td>0.56858</td><td>0.124102</td><td>DWARF</td><td>2.72781324</td><td>0.101430751</td><td>56.067</td><td>0.0915</td><td>0.0</td><td>0.0</td><td>48</td><td>0.0002567304</td><td>--</td><td>--</td><td>0.00582867069</td><td>0.0</td><td>0.0</td><td>--</td><td>0.14667</td><td>0.249333</td><td>0.0559206</td><td>0.0511447</td><td>0.0914894</td><td>0.156714</td><td>0.0657365</td><td>0.10003</td><td>0.0657525</td><td>0.137109</td><td>0.0914</td><td>0.0916</td><td>bj2018</td><td>109.187</td><td>122.486</td><td>spect</td><td>7.57089</td><td>0.001641</td><td>6.94695</td><td>0.001553</td><td>1</td><td>--</td><td>sirful</td><td>tycho2b3</td><td>--</td><td>0.789559195438295</td><td>0.841881115308853</td><td>144.287169572712</td><td>72.079920817983</td><td>0.0202632878348836</td><td>0.0283067131201854</td><td>1</td><td>0</td><td>138470090</td></tr>\n",
       "<tr><td>356672736</td><td>20190415</td><td>--</td><td>4386-01505-1</td><td>812-018381</td><td>09372561+7215380</td><td>--</td><td>J093725.59+721538.2</td><td>1120022162495011712</td><td>60246768</td><td>--</td><td>STAR</td><td>tmgaia2</td><td>144.356706841163</td><td>72.2605768176234</td><td>tmgaia2</td><td>-7.66638</td><td>0.0324931</td><td>20.2798</td><td>0.0489306</td><td>gaia2</td><td>7.92208</td><td>0.0239932</td><td>gaia2</td><td>139.737065010352</td><td>37.8774790374139</td><td>114.562276989152</td><td>53.4397716175544</td><td>11.412</td><td>0.088</td><td>10.674</td><td>0.006</td><td>nan</td><td>nan</td><td>nan</td><td>nan</td><td>nan</td><td>nan</td><td>nan</td><td>nan</td><td>nan</td><td>nan</td><td>9.519</td><td>0.022</td><td>9.167</td><td>0.049</td><td>9.118</td><td>0.022</td><td>AAA-212-111-000-0-0</td><td>nan</td><td>9.091</td><td>0.023</td><td>9.129</td><td>0.02</td><td>9.116</td><td>0.027</td><td>8.865</td><td>0.335</td><td>10.5885</td><td>0.000227</td><td>10.1366</td><td>0.006</td><td>rered</td><td>gaia2</td><td>5695.0</td><td>131.787</td><td>4.56845</td><td>0.0754903</td><td>nan</td><td>nan</td><td>0.86662</td><td>0.0436181</td><td>1.014</td><td>0.127521</td><td>1.55794</td><td>0.338223</td><td>DWARF</td><td>0.71175015</td><td>0.02188045</td><td>125.771</td><td>0.3825</td><td>0.0130207</td><td>0.00719555</td><td>51</td><td>0.000909168564</td><td>--</td><td>--</td><td>0.00323408</td><td>0.00478344</td><td>0.00960766</td><td>panstarrs</td><td>0.11205</td><td>0.142991</td><td>0.0514437</td><td>0.0357925</td><td>0.316626</td><td>0.35982</td><td>0.0673685</td><td>0.0836122</td><td>0.020548</td><td>0.0232129</td><td>0.381</td><td>0.384</td><td>bj2018</td><td>131.653</td><td>131.921</td><td>dered</td><td>10.9517</td><td>0.001304</td><td>10.0886</td><td>0.000737</td><td>1</td><td>--</td><td>tycho2v3</td><td>tycho2b3</td><td>--</td><td>0.623780393865117</td><td>0.758811028786693</td><td>144.35659850748</td><td>72.2606641334593</td><td>0.0162286294954244</td><td>0.024223100087106</td><td>1</td><td>0</td><td>138470044</td></tr>\n",
       "</table>"
      ],
      "text/plain": [
       "<Table masked=True length=5>\n",
       "target_name version   HIP      TYC      ... raddflag wdflag   objID  \n",
       "   str10      str8   int64    str12     ...  int64   int64     str9  \n",
       "----------- -------- ----- ------------ ... -------- ------ ---------\n",
       "   86378010 20190415    -- 4142-00290-1 ...        1      0 138545460\n",
       "  841257506 20190415    --           -- ...       --      0 138525904\n",
       "  430246167 20190415 47119 4389-01750-1 ...        1      0 138476161\n",
       "  356672782 20190415 47198 4386-01565-1 ...        1      0 138470090\n",
       "  356672736 20190415    -- 4386-01505-1 ...        1      0 138470044"
      ]
     },
     "execution_count": 6,
     "metadata": {},
     "output_type": "execute_result"
    }
   ],
   "source": [
    "## get tic catalog to do teff cut prior to lc dl\n",
    "catalog_data_sec15 = Catalogs.query_criteria(catalog='Tic',ID=ticid_sec15)\n",
    "catalog_data_sec14 = Catalogs.query_criteria(catalog='Tic',ID=ticid_sec14)\n",
    "\n",
    "\n",
    "\n",
    "#rename TIC ID column to match target name from Mast file for matching ease later\n",
    "catalog_data_sec15.rename_column('ID', 'target_name')\n",
    "catalog_data_sec14.rename_column('ID', 'target_name')\n",
    "# catalog_data_sec15#[0:5] # astropy.table\n",
    "catalog_data_sec14[0:5]"
   ]
  },
  {
   "cell_type": "code",
   "execution_count": 7,
   "metadata": {},
   "outputs": [
    {
     "name": "stderr",
     "output_type": "stream",
     "text": [
      "/Users/helenfellow/opt/anaconda3/lib/python3.7/site-packages/astropy/table/column.py:1020: RuntimeWarning: invalid value encountered in less\n",
      "  result = getattr(super(), op)(other)\n"
     ]
    },
    {
     "name": "stdout",
     "output_type": "stream",
     "text": [
      "Sector-15 full sample size: 20000\n",
      "Sector-15 after temp cut size: 16367\n",
      "Sector-14 full sample size: 20000\n",
      "Sector-14 after temp cut size: 16326\n"
     ]
    }
   ],
   "source": [
    "# do temp cut\n",
    "#sec15\n",
    "tempcut_sec15 = catalog_data_sec15[catalog_data_sec15['Teff']<6500]\n",
    "tics_sec15 = list(tempcut_sec15['target_name']) #strings #cool stars only\n",
    "#sec14\n",
    "tempcut_sec14 = catalog_data_sec14[catalog_data_sec14['Teff']<6500]\n",
    "tics_sec14 = list(tempcut_sec14['target_name']) #strings #cool stars only\n",
    "\n",
    "\n",
    "print('Sector-15 full sample size:',len(catalog_data_sec15))\n",
    "print('Sector-15 after temp cut size:',len(tempcut_sec15))\n",
    "print('Sector-14 full sample size:',len(catalog_data_sec14))\n",
    "print('Sector-14 after temp cut size:',len(tempcut_sec14))"
   ]
  },
  {
   "cell_type": "markdown",
   "metadata": {},
   "source": [
    "# THREE"
   ]
  },
  {
   "cell_type": "code",
   "execution_count": 8,
   "metadata": {},
   "outputs": [
    {
     "name": "stdout",
     "output_type": "stream",
     "text": [
      "RA-sec15 (min/max): 165.406361318066 334.524244023761\n",
      "DEC-sec15 (min/max): 19.9359797307246 80.8258934762107\n",
      "RA-sec45 (min/max): 129.860802745736 313.263354607941\n",
      "DEC-sec14 (min/max): 14.6338868250958 87.2147697265926\n"
     ]
    },
    {
     "data": {
      "image/png": "[encoded data removed]",
      "text/plain": [
       "<Figure size 432x288 with 1 Axes>"
      ]
     },
     "metadata": {
      "needs_background": "light"
     },
     "output_type": "display_data"
    }
   ],
   "source": [
    "#determine RA/DEC bounds for mast url query\n",
    "\n",
    "ra_sec15 = tempcut_sec15['ra']\n",
    "dec_sec15 = tempcut_sec15['dec']\n",
    "print('RA-sec15 (min/max):',min(ra_sec15),max(ra_sec15))\n",
    "print('DEC-sec15 (min/max):',min(dec_sec15),max(dec_sec15))\n",
    "\n",
    "ra_sec14 = tempcut_sec14['ra']\n",
    "dec_sec14 = tempcut_sec14['dec']\n",
    "print('RA-sec45 (min/max):',min(ra_sec14),max(ra_sec14))\n",
    "print('DEC-sec14 (min/max):',min(dec_sec14),max(dec_sec14))\n",
    "\n",
    "# plt.plot(ra_sec15,dec_sec15);plt.xlabel('RA');plt.ylabel('DEC');plt.title('Sector-15');\n",
    "plt.plot(ra_sec14,dec_sec14);plt.xlabel('RA');plt.ylabel('DEC');plt.title('Sector-14');"
   ]
  },
  {
   "cell_type": "code",
   "execution_count": 9,
   "metadata": {},
   "outputs": [
    {
     "name": "stdout",
     "output_type": "stream",
     "text": [
      "northern hemp total number of files: 249883\n"
     ]
    },
    {
     "data": {
      "text/html": [
       "<div>\n",
       "<style scoped>\n",
       "    .dataframe tbody tr th:only-of-type {\n",
       "        vertical-align: middle;\n",
       "    }\n",
       "\n",
       "    .dataframe tbody tr th {\n",
       "        vertical-align: top;\n",
       "    }\n",
       "\n",
       "    .dataframe thead th {\n",
       "        text-align: right;\n",
       "    }\n",
       "</style>\n",
       "<table border=\"1\" class=\"dataframe\">\n",
       "  <thead>\n",
       "    <tr style=\"text-align: right;\">\n",
       "      <th></th>\n",
       "      <th>dataproduct_type</th>\n",
       "      <th>calib_level</th>\n",
       "      <th>obs_collection</th>\n",
       "      <th>obs_id</th>\n",
       "      <th>target_name</th>\n",
       "      <th>s_ra</th>\n",
       "      <th>s_dec</th>\n",
       "      <th>t_min</th>\n",
       "      <th>t_max</th>\n",
       "      <th>t_exptime</th>\n",
       "      <th>...</th>\n",
       "      <th>provenance_name</th>\n",
       "      <th>s_region</th>\n",
       "      <th>jpegURL</th>\n",
       "      <th>dataURL</th>\n",
       "      <th>dataRights</th>\n",
       "      <th>mtFlag</th>\n",
       "      <th>srcDen</th>\n",
       "      <th>intentType</th>\n",
       "      <th>obsid</th>\n",
       "      <th>objID</th>\n",
       "    </tr>\n",
       "  </thead>\n",
       "  <tbody>\n",
       "    <tr>\n",
       "      <th>0</th>\n",
       "      <td>timeseries</td>\n",
       "      <td>3</td>\n",
       "      <td>TESS</td>\n",
       "      <td>tess2019331140908-s0019-0000000310341755-0164-s</td>\n",
       "      <td>310341755</td>\n",
       "      <td>82.994473</td>\n",
       "      <td>51.395750</td>\n",
       "      <td>58815.575983</td>\n",
       "      <td>58840.648195</td>\n",
       "      <td>120</td>\n",
       "      <td>...</td>\n",
       "      <td>SPOC</td>\n",
       "      <td>CIRCLE ICRS 82.99447268 51.39575048 0.00138889</td>\n",
       "      <td>NaN</td>\n",
       "      <td>mast:TESS/product/tess2019331140908-s0019-0000...</td>\n",
       "      <td>PUBLIC</td>\n",
       "      <td>False</td>\n",
       "      <td>NaN</td>\n",
       "      <td>science</td>\n",
       "      <td>17000696530</td>\n",
       "      <td>17003836598</td>\n",
       "    </tr>\n",
       "    <tr>\n",
       "      <th>1</th>\n",
       "      <td>timeseries</td>\n",
       "      <td>3</td>\n",
       "      <td>TESS</td>\n",
       "      <td>tess2019331140908-s0019-0000000243353559-0164-s</td>\n",
       "      <td>243353559</td>\n",
       "      <td>290.355795</td>\n",
       "      <td>57.766808</td>\n",
       "      <td>58815.575983</td>\n",
       "      <td>58840.648195</td>\n",
       "      <td>120</td>\n",
       "      <td>...</td>\n",
       "      <td>SPOC</td>\n",
       "      <td>CIRCLE ICRS 290.35579495 57.76680784 0.00138889</td>\n",
       "      <td>NaN</td>\n",
       "      <td>mast:TESS/product/tess2019331140908-s0019-0000...</td>\n",
       "      <td>PUBLIC</td>\n",
       "      <td>False</td>\n",
       "      <td>NaN</td>\n",
       "      <td>science</td>\n",
       "      <td>17000696546</td>\n",
       "      <td>17003836630</td>\n",
       "    </tr>\n",
       "    <tr>\n",
       "      <th>2</th>\n",
       "      <td>timeseries</td>\n",
       "      <td>3</td>\n",
       "      <td>TESS</td>\n",
       "      <td>tess2019331140908-s0019-0000000127968322-0164-s</td>\n",
       "      <td>127968322</td>\n",
       "      <td>81.726321</td>\n",
       "      <td>35.457272</td>\n",
       "      <td>58815.575983</td>\n",
       "      <td>58840.648195</td>\n",
       "      <td>120</td>\n",
       "      <td>...</td>\n",
       "      <td>SPOC</td>\n",
       "      <td>CIRCLE ICRS 81.72632138 35.45727236 0.00138889</td>\n",
       "      <td>NaN</td>\n",
       "      <td>mast:TESS/product/tess2019331140908-s0019-0000...</td>\n",
       "      <td>PUBLIC</td>\n",
       "      <td>False</td>\n",
       "      <td>NaN</td>\n",
       "      <td>science</td>\n",
       "      <td>17000696698</td>\n",
       "      <td>17003836934</td>\n",
       "    </tr>\n",
       "    <tr>\n",
       "      <th>3</th>\n",
       "      <td>timeseries</td>\n",
       "      <td>3</td>\n",
       "      <td>TESS</td>\n",
       "      <td>tess2019331140908-s0019-0000000310973373-0164-s</td>\n",
       "      <td>310973373</td>\n",
       "      <td>85.024499</td>\n",
       "      <td>49.066400</td>\n",
       "      <td>58815.575983</td>\n",
       "      <td>58840.648195</td>\n",
       "      <td>120</td>\n",
       "      <td>...</td>\n",
       "      <td>SPOC</td>\n",
       "      <td>CIRCLE ICRS 85.02449863 49.06640044 0.00138889</td>\n",
       "      <td>NaN</td>\n",
       "      <td>mast:TESS/product/tess2019331140908-s0019-0000...</td>\n",
       "      <td>PUBLIC</td>\n",
       "      <td>False</td>\n",
       "      <td>NaN</td>\n",
       "      <td>science</td>\n",
       "      <td>17000698786</td>\n",
       "      <td>17003843664</td>\n",
       "    </tr>\n",
       "    <tr>\n",
       "      <th>4</th>\n",
       "      <td>timeseries</td>\n",
       "      <td>3</td>\n",
       "      <td>TESS</td>\n",
       "      <td>tess2019331140908-s0019-0000000309866670-0164-s</td>\n",
       "      <td>309866670</td>\n",
       "      <td>81.805490</td>\n",
       "      <td>53.565967</td>\n",
       "      <td>58815.575983</td>\n",
       "      <td>58840.648195</td>\n",
       "      <td>120</td>\n",
       "      <td>...</td>\n",
       "      <td>SPOC</td>\n",
       "      <td>CIRCLE ICRS 81.80548963 53.56596720 0.00138889</td>\n",
       "      <td>NaN</td>\n",
       "      <td>mast:TESS/product/tess2019331140908-s0019-0000...</td>\n",
       "      <td>PUBLIC</td>\n",
       "      <td>False</td>\n",
       "      <td>NaN</td>\n",
       "      <td>science</td>\n",
       "      <td>17000699100</td>\n",
       "      <td>17003847924</td>\n",
       "    </tr>\n",
       "  </tbody>\n",
       "</table>\n",
       "<p>5 rows × 33 columns</p>\n",
       "</div>"
      ],
      "text/plain": [
       "  dataproduct_type  calib_level obs_collection  \\\n",
       "0       timeseries            3           TESS   \n",
       "1       timeseries            3           TESS   \n",
       "2       timeseries            3           TESS   \n",
       "3       timeseries            3           TESS   \n",
       "4       timeseries            3           TESS   \n",
       "\n",
       "                                            obs_id  target_name        s_ra  \\\n",
       "0  tess2019331140908-s0019-0000000310341755-0164-s    310341755   82.994473   \n",
       "1  tess2019331140908-s0019-0000000243353559-0164-s    243353559  290.355795   \n",
       "2  tess2019331140908-s0019-0000000127968322-0164-s    127968322   81.726321   \n",
       "3  tess2019331140908-s0019-0000000310973373-0164-s    310973373   85.024499   \n",
       "4  tess2019331140908-s0019-0000000309866670-0164-s    309866670   81.805490   \n",
       "\n",
       "       s_dec         t_min         t_max  t_exptime  ... provenance_name  \\\n",
       "0  51.395750  58815.575983  58840.648195        120  ...            SPOC   \n",
       "1  57.766808  58815.575983  58840.648195        120  ...            SPOC   \n",
       "2  35.457272  58815.575983  58840.648195        120  ...            SPOC   \n",
       "3  49.066400  58815.575983  58840.648195        120  ...            SPOC   \n",
       "4  53.565967  58815.575983  58840.648195        120  ...            SPOC   \n",
       "\n",
       "                                          s_region  jpegURL  \\\n",
       "0   CIRCLE ICRS 82.99447268 51.39575048 0.00138889      NaN   \n",
       "1  CIRCLE ICRS 290.35579495 57.76680784 0.00138889      NaN   \n",
       "2   CIRCLE ICRS 81.72632138 35.45727236 0.00138889      NaN   \n",
       "3   CIRCLE ICRS 85.02449863 49.06640044 0.00138889      NaN   \n",
       "4   CIRCLE ICRS 81.80548963 53.56596720 0.00138889      NaN   \n",
       "\n",
       "                                             dataURL  dataRights  mtFlag  \\\n",
       "0  mast:TESS/product/tess2019331140908-s0019-0000...      PUBLIC   False   \n",
       "1  mast:TESS/product/tess2019331140908-s0019-0000...      PUBLIC   False   \n",
       "2  mast:TESS/product/tess2019331140908-s0019-0000...      PUBLIC   False   \n",
       "3  mast:TESS/product/tess2019331140908-s0019-0000...      PUBLIC   False   \n",
       "4  mast:TESS/product/tess2019331140908-s0019-0000...      PUBLIC   False   \n",
       "\n",
       "   srcDen intentType        obsid        objID  \n",
       "0     NaN    science  17000696530  17003836598  \n",
       "1     NaN    science  17000696546  17003836630  \n",
       "2     NaN    science  17000696698  17003836934  \n",
       "3     NaN    science  17000698786  17003843664  \n",
       "4     NaN    science  17000699100  17003847924  \n",
       "\n",
       "[5 rows x 33 columns]"
      ]
     },
     "execution_count": 9,
     "metadata": {},
     "output_type": "execute_result"
    }
   ],
   "source": [
    "## open mast query file to match ticids then get lc url\n",
    "# got from mast at https://mast.stsci.edu/portal/Mashup/Clients/Mast/Portal.html\n",
    "# then top menu 'Advanced Search' and query ra/dec bounds\n",
    "\n",
    "\n",
    "# supposed to be full Northern Hemisphere \n",
    "northern_hem_mast_file = pd.read_csv('data/SECTORS/MAST_2020-08-06T2317.csv',skiprows=4) #dec=(19-81),filters=TESS\n",
    "print('northern hemp total number of files:',len(northern_hem_mast_file))\n",
    "northern_hem_mast_file[0:5]"
   ]
  },
  {
   "cell_type": "code",
   "execution_count": 10,
   "metadata": {},
   "outputs": [
    {
     "name": "stderr",
     "output_type": "stream",
     "text": [
      "/Users/helenfellow/opt/anaconda3/lib/python3.7/site-packages/IPython/core/interactiveshell.py:3331: TableReplaceWarning: converted column 'HIP' from integer to float\n",
      "  exec(code_obj, self.user_global_ns, self.user_ns)\n",
      "/Users/helenfellow/opt/anaconda3/lib/python3.7/site-packages/IPython/core/interactiveshell.py:3331: TableReplaceWarning: converted column 'KIC' from integer to float\n",
      "  exec(code_obj, self.user_global_ns, self.user_ns)\n",
      "/Users/helenfellow/opt/anaconda3/lib/python3.7/site-packages/IPython/core/interactiveshell.py:3331: TableReplaceWarning: converted column 'numcont' from integer to float\n",
      "  exec(code_obj, self.user_global_ns, self.user_ns)\n",
      "/Users/helenfellow/opt/anaconda3/lib/python3.7/site-packages/IPython/core/interactiveshell.py:3331: TableReplaceWarning: converted column 'gaiaqflag' from integer to float\n",
      "  exec(code_obj, self.user_global_ns, self.user_ns)\n"
     ]
    },
    {
     "name": "stdout",
     "output_type": "stream",
     "text": [
      "SEC-14 before merge: 16326  after merge: 99721 targets\n",
      "there are 16326 unique tics. Use the first output dictionary to see number of occurances for duplicates\n",
      "These two better match: 16326 16326\n"
     ]
    }
   ],
   "source": [
    "## match mast file with tempcut tic ids\n",
    "\n",
    "mastid = northern_hem_mast_file['target_name'].to_numpy()\n",
    "# convert types for merge\n",
    "tempcut_sec15_df = tempcut_sec15.to_pandas() #make table a df for joining\n",
    "tempcut_sec14_df = tempcut_sec14.to_pandas() #make table a df for joining\n",
    "northern_hem_mast_file['target_name'] = northern_hem_mast_file['target_name'].astype(str) #b/c tempcut tic catalog is string IDs (and cant convert that to int for some reason?(N/A)??)\n",
    "\n",
    "\n",
    "# merge ---use this table in FOUR\n",
    "# mast_ticcat_merge = pd.merge(tempcut_sec15_df, northern_hem_mast_file, how='left', on='target_name') #how to only keep mytics\n",
    "# print('SEC-15 before merge:',len(tempcut_sec15_df),' after merge:',len(mast_ticcat_merge),'targets')\n",
    "# print('--these are different b/c includes cvz where camera4 targets are observed in multiple sectors-- \\n'\n",
    "#       'i.e.-this is data from more than one sector ')\n",
    "mast_ticcat_merge = pd.merge(tempcut_sec14_df, northern_hem_mast_file, how='left', on='target_name') #how to only keep mytics\n",
    "print('SEC-14 before merge:',len(tempcut_sec14_df),' after merge:',len(mast_ticcat_merge),'targets')\n",
    "\n",
    "\n",
    "# test for how many unique tics merged\n",
    "dupes, uniques = uniquefinder(mast_ticcat_merge['target_name'].to_numpy())\n",
    "# print('These two better match:', len(tempcut_sec15_df),len(uniques))#'otherwise some targets have no lc datafiles')\n",
    "print('These two better match:', len(tempcut_sec14_df),len(uniques))#'otherwise some targets have no lc datafiles')"
   ]
  },
  {
   "cell_type": "code",
   "execution_count": null,
   "metadata": {},
   "outputs": [],
   "source": []
  },
  {
   "cell_type": "markdown",
   "metadata": {},
   "source": [
    "# FOUR"
   ]
  },
  {
   "cell_type": "code",
   "execution_count": 13,
   "metadata": {},
   "outputs": [
    {
     "data": {
      "text/plain": [
       "(99721,)"
      ]
     },
     "execution_count": 13,
     "metadata": {},
     "output_type": "execute_result"
    }
   ],
   "source": [
    "## create shell text strings from mast url's\n",
    "\n",
    "curlscript = []\n",
    "for i in range(len(mast_ticcat_merge)):\n",
    "    firststr = 'curl -C - -L -o '\n",
    "    middlestr = str(mast_ticcat_merge['obs_id'][i]) +'_lc.fits '\n",
    "    webaddy = \"https://mast.stsci.edu/api/v0.1/Download/file/?uri=\" \n",
    "    laststr = webaddy +str(mast_ticcat_merge['dataURL'][i])\n",
    "    script = firststr + middlestr + laststr \n",
    "    #print(script)\n",
    "    curlscript.append(script)\n",
    "curlscript=np.array(curlscript)\n",
    "curlscript.shape\n",
    "\n"
   ]
  },
  {
   "cell_type": "code",
   "execution_count": null,
   "metadata": {},
   "outputs": [],
   "source": [
    "## SECTOR-15 create shell script (remove outter ''' ''' if need to rerun)\n",
    "\n",
    "''' \n",
    "\n",
    "\n",
    "with open ('data/SECTORS/Sector_15/dl_sec15.sh', 'w') as rsh:\n",
    "    for count,script in enumerate(curlscript):\n",
    "        rsh.write('''\\\n",
    "#! /bin/bash\n",
    "{}\n",
    "'''.format(script))\n",
    "\n",
    "\n",
    "\n",
    "'''"
   ]
  },
  {
   "cell_type": "code",
   "execution_count": 14,
   "metadata": {},
   "outputs": [],
   "source": [
    "## SECTOR-14 create shell script (remove outter ''' ''' if need to rerun)\n",
    "\n",
    "''' \n",
    "\n",
    "\n",
    "with open ('{}Sec14_rawLCs/dl_sec14.sh'.format(externalpath), 'w') as rsh:\n",
    "    for count,script in enumerate(curlscript):\n",
    "        rsh.write('''\\\n",
    "#! /bin/bash\n",
    "{}\n",
    "'''.format(script))\n",
    "\n",
    "\n",
    "\n",
    "'''"
   ]
  },
  {
   "cell_type": "markdown",
   "metadata": {},
   "source": [
    "# FIVE"
   ]
  },
  {
   "cell_type": "code",
   "execution_count": null,
   "metadata": {},
   "outputs": [],
   "source": []
  },
  {
   "cell_type": "code",
   "execution_count": null,
   "metadata": {},
   "outputs": [],
   "source": []
  },
  {
   "cell_type": "code",
   "execution_count": null,
   "metadata": {},
   "outputs": [],
   "source": []
  },
  {
   "cell_type": "markdown",
   "metadata": {},
   "source": [
    "# SIX"
   ]
  },
  {
   "cell_type": "code",
   "execution_count": null,
   "metadata": {},
   "outputs": [],
   "source": [
    "##open table of kics & periods\n",
    "path = externalpath #or 'data/' if on my computer\n",
    "\n",
    "# keplers = pd.read_csv('data/KeplerEBs_file.csv',skiprows=3,header=4) #more columns\n",
    "keplers2 = pd.read_csv('{}KeplerEBs/KeplerEBs_file-2'.format(path),header=1) #min columns needed\n",
    "shortkep = keplers2[(keplers2['period']>.5) &(keplers2['period']<15)] # only periods within TESS likely range\n",
    "\n",
    "print('column names:',list(shortkep.columns))\n",
    "print('all EBs:',len(keplers2),'; EBs within 0-15period range:',len(shortkep))"
   ]
  },
  {
   "cell_type": "code",
   "execution_count": null,
   "metadata": {},
   "outputs": [],
   "source": [
    "# DO ~NOT~ RUN AGAIN --DATA ALREADY DOWNLOADED\n",
    "\n",
    "#dl data for all targets desired---every 3rd to get diverse sample (og table sorted by period lo-hi)\n",
    "# path = externalpath #or 'data/' if on my computer\n",
    "\n",
    "\n",
    "# import requests\n",
    "# n = 3 #only dl every 3rd lc\n",
    "# dl_count = 0\n",
    "# for count,i in enumerate(list(shortkep['KIC'])):\n",
    "#     if count % n == 0: #remainder ==0 after division by interval\n",
    "#         kic = i\n",
    "#         url = 'http://keplerebs.villanova.edu/data/?k={}.00&cadence=lc&data=data'.format(kic)\n",
    "#         r = requests.get(url, allow_redirects=True)\n",
    "#         filename = '{}KeplerEBs/KepEB_rawLCs/{}_lc.csv'.format(path,kic)\n",
    "#         open(filename, 'wb').write(r.content)\n",
    "#         dl_count +=1\n",
    "#     else:\n",
    "#         pass\n",
    "# print('Total files downloaded (.5<per<15):',dl_count)\n",
    "print('Total files downloaded (.5<per<15): 554'"
   ]
  },
  {
   "cell_type": "code",
   "execution_count": null,
   "metadata": {},
   "outputs": [],
   "source": []
  },
  {
   "cell_type": "code",
   "execution_count": null,
   "metadata": {},
   "outputs": [],
   "source": []
  },
  {
   "cell_type": "code",
   "execution_count": null,
   "metadata": {},
   "outputs": [],
   "source": []
  },
  {
   "cell_type": "markdown",
   "metadata": {},
   "source": [
    "# ----------------------TESTS--------------------------"
   ]
  },
  {
   "cell_type": "code",
   "execution_count": null,
   "metadata": {},
   "outputs": [],
   "source": [
    "# type(tempcut_sec15),type(catalog_data_sec15)"
   ]
  },
  {
   "cell_type": "code",
   "execution_count": null,
   "metadata": {},
   "outputs": [],
   "source": [
    "# left = pd.DataFrame({'key1': ['K0', 'K0', 'K1', 'K2'],\n",
    "#                     'key2': ['K0', 'K1', 'K0', 'K1'],\n",
    "#                      'A': ['A0', 'A1', 'A2', 'A3'],\n",
    "#                       'B': ['B0', 'B1', 'B2', 'B3']})\n",
    "# right = pd.DataFrame({'key1': ['K0', 'K1', 'K1', 'K2'],\n",
    "#                        'key2': ['K0', 'K0', 'K0', 'K0'],\n",
    "#                        'C': ['C0', 'C1', 'C2', 'C3'],\n",
    "#                      'D': ['D0', 'D1', 'D2', 'D3']})  \n",
    "# result = pd.merge(left, right, on=['key1', 'key2'])"
   ]
  },
  {
   "cell_type": "code",
   "execution_count": null,
   "metadata": {},
   "outputs": [],
   "source": [
    "# northern_hem_mast_file['target_name'] = northern_hem_mast_file['target_name'].astype(str)\n"
   ]
  },
  {
   "cell_type": "code",
   "execution_count": null,
   "metadata": {},
   "outputs": [],
   "source": [
    "# northern_hem_mast_file['target_name'].dtypes"
   ]
  },
  {
   "cell_type": "code",
   "execution_count": null,
   "metadata": {},
   "outputs": [],
   "source": []
  },
  {
   "cell_type": "code",
   "execution_count": null,
   "metadata": {},
   "outputs": [],
   "source": []
  },
  {
   "cell_type": "code",
   "execution_count": null,
   "metadata": {},
   "outputs": [],
   "source": [
    "# catalog_data_sec15['target_name']=catalog_data_sec15['target_name'].astype(int)\n",
    "# catalog_data_sec15"
   ]
  },
  {
   "cell_type": "code",
   "execution_count": null,
   "metadata": {},
   "outputs": [],
   "source": [
    "# for i in catalog_data_sec15['target_name']:\n",
    "# #     print(i[0])\n",
    "#     if i[0] =='1':\n",
    "#         print(i)"
   ]
  },
  {
   "cell_type": "code",
   "execution_count": null,
   "metadata": {},
   "outputs": [],
   "source": []
  }
 ],
 "metadata": {
  "kernelspec": {
   "display_name": "Python 3",
   "language": "python",
   "name": "python3"
  },
  "language_info": {
   "codemirror_mode": {
    "name": "ipython",
    "version": 3
   },
   "file_extension": ".py",
   "mimetype": "text/x-python",
   "name": "python",
   "nbconvert_exporter": "python",
   "pygments_lexer": "ipython3",
   "version": "3.7.6"
  }
 },
 "nbformat": 4,
 "nbformat_minor": 4
}
