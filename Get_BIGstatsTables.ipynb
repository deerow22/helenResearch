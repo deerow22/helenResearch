{
 "cells": [
  {
   "cell_type": "code",
   "execution_count": 1,
   "metadata": {},
   "outputs": [],
   "source": [
    "import lightkurve as lk\n",
    "import numpy as np\n",
    "import pandas as pd\n",
    "import glob\n",
    "from astropy.io import ascii\n",
    "from astropy.table import Table, join, vstack\n",
    "from astropy.io import fits\n",
    "import matplotlib.pyplot as plt\n",
    "from astroquery.mast import Observations, Catalogs\n",
    "from operator import itemgetter\n",
    "import glob\n"
   ]
  },
  {
   "cell_type": "markdown",
   "metadata": {},
   "source": [
    "# useful functions"
   ]
  },
  {
   "cell_type": "code",
   "execution_count": 2,
   "metadata": {},
   "outputs": [],
   "source": [
    "def getIndexes(dfObj, value):\n",
    "    ''' Get index positions of value in dataframe i.e. dfObj.'''\n",
    " \n",
    "    listOfPos = list()\n",
    "    # Get bool dataframe with True at positions where the given value exists\n",
    "    result = dfObj.isin([value])\n",
    "    # Get list of columns that contains the value\n",
    "    seriesObj = result.any()\n",
    "    columnNames = list(seriesObj[seriesObj == True].index)\n",
    "    # Iterate over list of columns and fetch the rows indexes where value exists\n",
    "    for col in columnNames:\n",
    "        rows = list(result[col][result[col] == True].index)\n",
    "        for row in rows:\n",
    "            listOfPos.append((row, col))\n",
    "    # Return a list of tuples indicating the positions of value in the dataframe\n",
    "    return listOfPos\n",
    "\n"
   ]
  },
  {
   "cell_type": "code",
   "execution_count": 3,
   "metadata": {},
   "outputs": [],
   "source": [
    "# unique item finder\n",
    "\n",
    "def uniquefinder(mylist):\n",
    "    seen = {}\n",
    "    dupes = []\n",
    "    uniq_tics = []\n",
    "    for x in mylist:\n",
    "        if x not in seen:\n",
    "            seen[x] = 1\n",
    "            uniq_tics.append(x)\n",
    "        else:\n",
    "            if seen[x] == 1:\n",
    "                dupes.append(x)\n",
    "            seen[x] += 1\n",
    "    uniques = len(uniq_tics)\n",
    "    print('there are {} unique tics. Use the first output dictionary'.format(uniques), \\\n",
    "          'to see number of occurances for duplicates')\n",
    "    return seen, uniq_tics"
   ]
  },
  {
   "cell_type": "code",
   "execution_count": 4,
   "metadata": {},
   "outputs": [],
   "source": [
    "#useful fcn - compares lists & returns what didnt match\n",
    "def returnNotMatches(a, b):\n",
    "    return [[x for x in a if x not in b], [x for x in b if x not in a]] #not in b , not in a"
   ]
  },
  {
   "cell_type": "markdown",
   "metadata": {},
   "source": [
    "#  Creating table"
   ]
  },
  {
   "cell_type": "code",
   "execution_count": 5,
   "metadata": {},
   "outputs": [
    {
     "name": "stdout",
     "output_type": "stream",
     "text": [
      "ls: 112219\n",
      "24085 112219\n",
      "lsmap: 112219\n",
      "182\n"
     ]
    }
   ],
   "source": [
    "#Opening stats from each sector \n",
    "\n",
    "\n",
    "tic_list = np.load('data/all_dled_tics.npy')\n",
    "# tic_list = np.load('data/additional_cvz_tics.npy') #list of new tics \n",
    "#tic_list = np.load('data/ticadds_needbysector.npy')\n",
    "# tic_list = np.load('data/good_cvz_tics.npy') #only 10+ sectors\n",
    "\n",
    "\n",
    "\n",
    "ls1=[]\n",
    "ls2=[]\n",
    "ls3=[]\n",
    "tics=[]\n",
    "rvars=[]\n",
    "sector=[]\n",
    "lsamp1=[]\n",
    "lsamp2=[]\n",
    "lsamp3=[]\n",
    "missing=[]\n",
    "acfamp1=[]\n",
    "acfamp2=[]\n",
    "acfamp3=[]\n",
    "acf1=[]\n",
    "acf2=[]\n",
    "acf3=[]\n",
    "#tic_list=['349309133',123] #used while testing\n",
    "for count,tic in enumerate(tic_list):\n",
    "    sectors = [1,2,3,4,5,6,7,8,9,10,11,12,13]\n",
    "    for sec in sectors:\n",
    "        try:\n",
    "            statsecpath = 'data/SECONDRUN/cleaned_LightCurves/{}/stats.csv'.format(tic)\n",
    "            stats = pd.read_csv(statsecpath)\n",
    "        except:\n",
    "            missing.append(tic)\n",
    "            continue\n",
    "        else:\n",
    "            #sec check b/c additons used float for sec instead on int\n",
    "            if sec is float:\n",
    "                sec = int(sec)\n",
    "            else: \n",
    "                sec = sec\n",
    "            ix = getIndexes(stats,sec)\n",
    "            #print('ix:',ix,'mysector:',sec, tic,'at idx',count)\n",
    "            if len(ix) > 0:\n",
    "                idx = ix[0][0] #gets row index for that sectors row data\n",
    "                #print('index:',idx)\n",
    "                lsrp1 = stats.iloc[idx,2]\n",
    "                ls1amp = stats.iloc[idx,5]\n",
    "                lsrp2= stats.iloc[idx,3]\n",
    "                ls2amp = stats.iloc[idx,6]\n",
    "                lsrp3= stats.iloc[idx,4]\n",
    "                ls3amp = stats.iloc[idx,7]\n",
    "                rvar = stats.iloc[idx,1] \n",
    "                sect = int(stats.iloc[idx,0])\n",
    "                acf_rp1 = stats.iloc[idx,8]####\n",
    "                acf_rp2 = stats.iloc[idx,9]  \n",
    "                acf_rp3  = stats.iloc[idx,10]\n",
    "                acf_amp1  = stats.iloc[idx,11]\n",
    "                acf_amp2 = stats.iloc[idx,12]\n",
    "                acf_amp3 = stats.iloc[idx,13]\n",
    "                ls1.append(lsrp1)\n",
    "                ls2.append(lsrp2)\n",
    "                ls3.append(lsrp3)\n",
    "                lsamp1.append(ls1amp)\n",
    "                lsamp2.append(ls2amp)\n",
    "                lsamp3.append(ls3amp)\n",
    "                tics.append(tic)\n",
    "                rvars.append(rvar)\n",
    "                sector.append(sect)\n",
    "                acf1.append(acf_rp1)\n",
    "                acf2.append(acf_rp2)\n",
    "                acf3.append(acf_rp3)\n",
    "                acfamp1.append(acf_amp1)\n",
    "                acfamp2.append(acf_amp2)\n",
    "                acfamp3.append(acf_amp3)\n",
    "            else:\n",
    "                continue\n",
    "print('ls:',len(ls1)) # 112219\n",
    "print(len(tic_list),len(tics)) # 24085 112219\n",
    "print('lsmap:',len(lsamp1)) # 112219\n",
    "print(len(missing))#,missing) #182"
   ]
  },
  {
   "cell_type": "code",
   "execution_count": 6,
   "metadata": {},
   "outputs": [],
   "source": [
    "#creating stats by sectors table\n",
    "cvzstat_table = Table([tics,sector,rvars,ls1,ls2,ls3,lsamp1,lsamp2,lsamp3,acf1,acf2,acf3,acfamp1,acfamp2,acfamp3],names=('ID','sector','rvar','ls1','ls2','ls3','lsamp1','lsamp2','lsamp3','acf1','acf2','acf3','acfamp1','acfamp2','acfamp3'))\n",
    "#ascii.write(stat_table_extras,'data/statstable_by_sector_CVZ.dat')\n",
    "#this is not the final big table, its missing the extras, keep going"
   ]
  },
  {
   "cell_type": "code",
   "execution_count": 7,
   "metadata": {},
   "outputs": [
    {
     "data": {
      "text/html": [
       "<i>Table length=112219</i>\n",
       "<table id=\"table112359916752\" class=\"table-striped table-bordered table-condensed\">\n",
       "<thead><tr><th>ID</th><th>sector</th><th>rvar</th><th>ls1</th><th>ls2</th><th>ls3</th><th>lsamp1</th><th>lsamp2</th><th>lsamp3</th><th>acf1</th><th>acf2</th><th>acf3</th><th>acfamp1</th><th>acfamp2</th><th>acfamp3</th></tr></thead>\n",
       "<thead><tr><th>int64</th><th>int64</th><th>float64</th><th>float64</th><th>float64</th><th>float64</th><th>float64</th><th>float64</th><th>float64</th><th>float64</th><th>float64</th><th>float64</th><th>float64</th><th>float64</th><th>float64</th></tr></thead>\n",
       "<tr><td>117935303</td><td>13</td><td>0.0018316209316253664</td><td>3.7441029788381184</td><td>5.525001989020606</td><td>2.274048301268932</td><td>0.0042324812546760855</td><td>0.003801049689865179</td><td>0.0017535487620507484</td><td>0.0694445</td><td>0.07500006000000001</td><td>0.07222228</td><td>0.01477058380131474</td><td>0.014756393144739647</td><td>0.014742200479031298</td></tr>\n",
       "<tr><td>118010415</td><td>13</td><td>0.0033662557601930048</td><td>10.663761828896098</td><td>7.485380904901776</td><td>2.3192659171651977</td><td>0.007021002768735549</td><td>0.002659233810989161</td><td>0.0017524567399611294</td><td>0.07222228</td><td>0.09027785</td><td>0.09444452</td><td>0.02829308275403821</td><td>0.025799902993370708</td><td>0.02563864755250311</td></tr>\n",
       "<tr><td>118053599</td><td>13</td><td>0.03137373924255371</td><td>6.932589597683937</td><td>5.128358980513067</td><td>3.3811500352995587</td><td>0.7790142854090246</td><td>0.0946020476001007</td><td>0.09104618836139353</td><td>0.0694445</td><td>6.80139433</td><td>6.805561</td><td>0.9190830186168646</td><td>0.6209071596330339</td><td>0.6209057867285954</td></tr>\n",
       "<tr><td>118054887</td><td>13</td><td>0.02897542715072632</td><td>2.645035351250982</td><td>2.342284227790356</td><td>3.05346238615815</td><td>0.01685398984976197</td><td>0.002929709316659785</td><td>0.002264096668025945</td><td>0.00416667</td><td>0.07083339</td><td>0.07638895</td><td>0.07954484211484705</td><td>0.022339768615663842</td><td>0.021949506079630917</td></tr>\n",
       "<tr><td>118055540</td><td>13</td><td>0.004783421754836925</td><td>5.7679329713342415</td><td>9.373365503045434</td><td>4.472163189077795</td><td>0.1032360778001358</td><td>0.024314551053414117</td><td>0.015072241112760674</td><td>0.07222228</td><td>0.0694445</td><td>0.09305563</td><td>0.18075212795276804</td><td>0.18066979749302026</td><td>0.17979913011820925</td></tr>\n",
       "<tr><td>118060883</td><td>13</td><td>0.0039537250995635995</td><td>3.481849632730828</td><td>4.368115235526761</td><td>2.985945016258633</td><td>0.025679204506716676</td><td>0.002366434928258501</td><td>0.0018518686527940016</td><td>0.07638895</td><td>0.07083339</td><td>0.08055562000000001</td><td>0.04489353434264285</td><td>0.044877044691616304</td><td>0.044649316871818084</td></tr>\n",
       "<tr><td>118074571</td><td>8</td><td>0.0030632138252257857</td><td>0.5884521235860678</td><td>11.242992734705444</td><td>0.5703371307899922</td><td>0.12275529831900853</td><td>0.0423746088512277</td><td>0.03753652611527136</td><td>0.00277778</td><td>0.0694445</td><td>0.58611158</td><td>0.2774313113963845</td><td>0.1799757858255744</td><td>0.145681008004694</td></tr>\n",
       "<tr><td>118074571</td><td>9</td><td>0.003200823068618797</td><td>0.5876305125728919</td><td>0.6083339173397341</td><td>0.5682195922483617</td><td>0.09019131591630122</td><td>0.008728656200310617</td><td>0.00709676890686698</td><td>0.0694445</td><td>0.59166714</td><td>0.58750047</td><td>0.08956603758167632</td><td>0.08414176893993404</td><td>0.08412875767767251</td></tr>\n",
       "<tr><td>118074571</td><td>10</td><td>0.0031239092350006104</td><td>3.132241423054154</td><td>0.5863002769241161</td><td>2.4027939967994465</td><td>0.012342140736587494</td><td>0.00674340845501243</td><td>0.005697960624838172</td><td>0.0694445</td><td>0.20555572</td><td>0.22777796</td><td>0.12506716519035424</td><td>0.09303926417014274</td><td>0.08889806518072946</td></tr>\n",
       "<tr><td>118078652</td><td>8</td><td>0.12149235606193542</td><td>4.067668787570382</td><td>5.088572580054224</td><td>3.346202958608393</td><td>0.024945315113160508</td><td>0.011051474142667774</td><td>0.0073722126222327015</td><td>0.00277778</td><td>0.0694445</td><td>0.08333339999999999</td><td>0.09678925625220468</td><td>0.037212268526680234</td><td>0.035665608067213764</td></tr>\n",
       "<tr><td>...</td><td>...</td><td>...</td><td>...</td><td>...</td><td>...</td><td>...</td><td>...</td><td>...</td><td>...</td><td>...</td><td>...</td><td>...</td><td>...</td><td>...</td></tr>\n",
       "<tr><td>388131734</td><td>4</td><td>0.021627533435821574</td><td>0.9789013328070708</td><td>0.9320401705874259</td><td>1.02929569531884</td><td>0.5725680076254855</td><td>0.2880497952912468</td><td>0.1040390573183694</td><td>0.95138965</td><td>1.92777932</td><td>4.85000388</td><td>0.6628057790721639</td><td>0.4316666185986682</td><td>0.4191701136042616</td></tr>\n",
       "<tr><td>388131734</td><td>5</td><td>0.016354340314865157</td><td>0.9404226866075888</td><td>0.98206109973873</td><td>0.8057638475930787</td><td>0.4482312881793937</td><td>0.22497234865402074</td><td>0.067013342195034</td><td>0.93888964</td><td>1.89861263</td><td>4.76944826</td><td>0.6757464339410376</td><td>0.4899903992604386</td><td>0.4444372782716789</td></tr>\n",
       "<tr><td>388131734</td><td>6</td><td>0.01903121769428251</td><td>0.9498318495861636</td><td>1.1138065499162966</td><td>5.29337220824758</td><td>0.7102894138283166</td><td>0.0353358937874444</td><td>0.03515771618590655</td><td>0.9444452</td><td>1.9027793</td><td>4.76250381</td><td>0.7650854842957769</td><td>0.6327111969474856</td><td>0.6136019363042228</td></tr>\n",
       "<tr><td>388131734</td><td>7</td><td>0.02075375318527217</td><td>0.9793948924437362</td><td>0.9311294396462864</td><td>1.0336352405334603</td><td>0.5580787721329176</td><td>0.2641095274012569</td><td>0.09836233282790544</td><td>0.9444452</td><td>1.92500154</td><td>3.88333644</td><td>0.7000317908287471</td><td>0.4587258998625418</td><td>0.4208568414368241</td></tr>\n",
       "<tr><td>388131734</td><td>8</td><td>0.018336424231529255</td><td>0.9818892641707184</td><td>0.9356143089792364</td><td>0.811108337092858</td><td>0.3965729966246427</td><td>0.3707445326463815</td><td>0.10124123973644934</td><td>0.93472297</td><td>1.89583485</td><td>3.8611142</td><td>0.7155111406117447</td><td>0.4630525499922215</td><td>0.3924848951070816</td></tr>\n",
       "<tr><td>388131734</td><td>9</td><td>0.01616901159286499</td><td>0.9478531480223984</td><td>1.0014366754213135</td><td>0.8997606252895008</td><td>0.7504557278303993</td><td>0.16449686306829078</td><td>0.08384825759872051</td><td>0.93333408</td><td>3.8194475</td><td>1.89166818</td><td>0.7142831738003486</td><td>0.546714170798103</td><td>0.5375197950740694</td></tr>\n",
       "<tr><td>388131734</td><td>10</td><td>0.018563055992126376</td><td>0.9798129087330422</td><td>0.9321949999916102</td><td>1.0348212556067176</td><td>0.5133233803178529</td><td>0.3120357970430729</td><td>0.1718275471578408</td><td>0.96388966</td><td>1.93750155</td><td>3.88333644</td><td>0.7477862432361915</td><td>0.512275179437373</td><td>0.39613866034645795</td></tr>\n",
       "<tr><td>388131734</td><td>11</td><td>0.019467595219611944</td><td>0.9787875050652759</td><td>0.9309406430034084</td><td>1.032515263309513</td><td>0.517473815482582</td><td>0.2758153803528254</td><td>0.1604440981452746</td><td>0.94861187</td><td>1.92500154</td><td>3.9027809</td><td>0.6789945466547121</td><td>0.465145523313234</td><td>0.44109544841485854</td></tr>\n",
       "<tr><td>388131734</td><td>12</td><td>0.017186409235000474</td><td>0.9474264041283952</td><td>0.9965165419414092</td><td>1.175505972217814</td><td>0.7182513321695012</td><td>0.0868034776475309</td><td>0.04962533107815982</td><td>0.95000076</td><td>1.90139041</td><td>4.74722602</td><td>0.7632914616747716</td><td>0.6402134428341031</td><td>0.6231219457142595</td></tr>\n",
       "<tr><td>388131734</td><td>13</td><td>0.01954483985900879</td><td>0.9473020095318482</td><td>0.9686502885638064</td><td>1.021488867600848</td><td>0.4249859572820649</td><td>0.383804571161651</td><td>0.04409120526807818</td><td>0.94583409</td><td>1.90694597</td><td>3.84444752</td><td>0.7911878571472042</td><td>0.6469299143354168</td><td>0.5516672593285463</td></tr>\n",
       "</table>"
      ],
      "text/plain": [
       "<Table length=112219>\n",
       "    ID    sector ...       acfamp2              acfamp3       \n",
       "  int64   int64  ...       float64              float64       \n",
       "--------- ------ ... -------------------- --------------------\n",
       "117935303     13 ... 0.014756393144739647 0.014742200479031298\n",
       "118010415     13 ... 0.025799902993370708  0.02563864755250311\n",
       "118053599     13 ...   0.6209071596330339   0.6209057867285954\n",
       "118054887     13 ... 0.022339768615663842 0.021949506079630917\n",
       "118055540     13 ...  0.18066979749302026  0.17979913011820925\n",
       "118060883     13 ... 0.044877044691616304 0.044649316871818084\n",
       "118074571      8 ...   0.1799757858255744    0.145681008004694\n",
       "118074571      9 ...  0.08414176893993404  0.08412875767767251\n",
       "118074571     10 ...  0.09303926417014274  0.08889806518072946\n",
       "118078652      8 ... 0.037212268526680234 0.035665608067213764\n",
       "      ...    ... ...                  ...                  ...\n",
       "388131734      4 ...   0.4316666185986682   0.4191701136042616\n",
       "388131734      5 ...   0.4899903992604386   0.4444372782716789\n",
       "388131734      6 ...   0.6327111969474856   0.6136019363042228\n",
       "388131734      7 ...   0.4587258998625418   0.4208568414368241\n",
       "388131734      8 ...   0.4630525499922215   0.3924848951070816\n",
       "388131734      9 ...    0.546714170798103   0.5375197950740694\n",
       "388131734     10 ...    0.512275179437373  0.39613866034645795\n",
       "388131734     11 ...    0.465145523313234  0.44109544841485854\n",
       "388131734     12 ...   0.6402134428341031   0.6231219457142595\n",
       "388131734     13 ...   0.6469299143354168   0.5516672593285463"
      ]
     },
     "execution_count": 7,
     "metadata": {},
     "output_type": "execute_result"
    }
   ],
   "source": [
    "cvzstat_table"
   ]
  },
  {
   "cell_type": "code",
   "execution_count": 8,
   "metadata": {},
   "outputs": [
    {
     "data": {
      "text/html": [
       "<i>Table length=112400</i>\n",
       "<table id=\"table112427154448\" class=\"table-striped table-bordered table-condensed\">\n",
       "<thead><tr><th>ID</th><th>NUMsectors</th><th>sector</th><th>rvar</th><th>ls1</th><th>ls2</th><th>ls3</th><th>lsamp1</th><th>lsamp2</th><th>lsamp3</th><th>version</th><th>HIP</th><th>TYC</th><th>UCAC</th><th>TWOMASS</th><th>SDSS</th><th>ALLWISE</th><th>GAIA</th><th>APASS</th><th>KIC</th><th>objType</th><th>typeSrc</th><th>ra</th><th>dec</th><th>POSflag</th><th>pmRA</th><th>e_pmRA</th><th>pmDEC</th><th>e_pmDEC</th><th>PMflag</th><th>plx</th><th>e_plx</th><th>PARflag</th><th>gallong</th><th>gallat</th><th>eclong</th><th>eclat</th><th>Bmag</th><th>e_Bmag</th><th>Vmag</th><th>e_Vmag</th><th>umag</th><th>e_umag</th><th>gmag</th><th>e_gmag</th><th>rmag</th><th>e_rmag</th><th>imag</th><th>e_imag</th><th>zmag</th><th>e_zmag</th><th>Jmag</th><th>e_Jmag</th><th>Hmag</th><th>e_Hmag</th><th>Kmag</th><th>e_Kmag</th><th>TWOMflag</th><th>prox</th><th>w1mag</th><th>e_w1mag</th><th>w2mag</th><th>e_w2mag</th><th>w3mag</th><th>e_w3mag</th><th>w4mag</th><th>e_w4mag</th><th>GAIAmag</th><th>e_GAIAmag</th><th>Tmag</th><th>e_Tmag</th><th>TESSflag</th><th>SPFlag</th><th>Teff</th><th>e_Teff</th><th>logg</th><th>e_logg</th><th>MH</th><th>e_MH</th><th>rad</th><th>e_rad</th><th>mass</th><th>e_mass</th><th>rho</th><th>e_rho</th><th>lumclass</th><th>lum</th><th>e_lum</th><th>d</th><th>e_d</th><th>ebv</th><th>e_ebv</th><th>numcont</th><th>contratio</th><th>disposition</th><th>duplicate_id</th><th>priority</th><th>eneg_EBV</th><th>epos_EBV</th><th>EBVflag</th><th>eneg_Mass</th><th>epos_Mass</th><th>eneg_Rad</th><th>epos_Rad</th><th>eneg_rho</th><th>epos_rho</th><th>eneg_logg</th><th>epos_logg</th><th>eneg_lum</th><th>epos_lum</th><th>eneg_dist</th><th>epos_dist</th><th>distflag</th><th>eneg_Teff</th><th>epos_Teff</th><th>TeffFlag</th><th>gaiabp</th><th>e_gaiabp</th><th>gaiarp</th><th>e_gaiarp</th><th>gaiaqflag</th><th>starchareFlag</th><th>VmagFlag</th><th>BmagFlag</th><th>splists</th><th>e_RA</th><th>e_Dec</th><th>RA_orig</th><th>Dec_orig</th><th>e_RA_orig</th><th>e_Dec_orig</th><th>raddflag</th><th>wdflag</th><th>objID</th></tr></thead>\n",
       "<thead><tr><th>int64</th><th>int64</th><th>int64</th><th>float64</th><th>float64</th><th>float64</th><th>float64</th><th>float64</th><th>float64</th><th>float64</th><th>int64</th><th>int64</th><th>str12</th><th>str10</th><th>str16</th><th>str1</th><th>str19</th><th>str19</th><th>str8</th><th>int64</th><th>str4</th><th>str10</th><th>float64</th><th>float64</th><th>str10</th><th>float64</th><th>float64</th><th>float64</th><th>float64</th><th>str6</th><th>float64</th><th>float64</th><th>str5</th><th>float64</th><th>float64</th><th>float64</th><th>float64</th><th>float64</th><th>float64</th><th>float64</th><th>float64</th><th>float64</th><th>float64</th><th>float64</th><th>float64</th><th>float64</th><th>float64</th><th>float64</th><th>float64</th><th>float64</th><th>float64</th><th>float64</th><th>float64</th><th>float64</th><th>float64</th><th>float64</th><th>float64</th><th>str19</th><th>float64</th><th>float64</th><th>float64</th><th>float64</th><th>float64</th><th>float64</th><th>float64</th><th>float64</th><th>float64</th><th>float64</th><th>float64</th><th>float64</th><th>float64</th><th>str5</th><th>str5</th><th>float64</th><th>float64</th><th>float64</th><th>float64</th><th>float64</th><th>float64</th><th>float64</th><th>float64</th><th>float64</th><th>float64</th><th>float64</th><th>float64</th><th>str5</th><th>float64</th><th>float64</th><th>float64</th><th>float64</th><th>float64</th><th>float64</th><th>int64</th><th>float64</th><th>str5</th><th>str1</th><th>float64</th><th>float64</th><th>float64</th><th>str8</th><th>float64</th><th>float64</th><th>float64</th><th>float64</th><th>float64</th><th>float64</th><th>float64</th><th>float64</th><th>float64</th><th>float64</th><th>float64</th><th>float64</th><th>str6</th><th>float64</th><th>float64</th><th>str6</th><th>float64</th><th>float64</th><th>float64</th><th>float64</th><th>int64</th><th>str1</th><th>str8</th><th>str8</th><th>str15</th><th>float64</th><th>float64</th><th>float64</th><th>float64</th><th>float64</th><th>float64</th><th>int64</th><th>int64</th><th>int64</th></tr></thead>\n",
       "<tr><td>117935303</td><td>1</td><td>13</td><td>0.0018316209316253664</td><td>3.7441029788381184</td><td>5.525001989020606</td><td>2.274048301268932</td><td>0.0042324812546760855</td><td>0.003801049689865179</td><td>0.0017535487620507484</td><td>20190415</td><td>--</td><td>8755-01228-1</td><td>157-195298</td><td>18051266-5837057</td><td>N</td><td>J180512.67-583705.9</td><td>6647718671011095680</td><td>N/A</td><td>--</td><td>STAR</td><td>tmgaia2</td><td>271.302779383338</td><td>-58.6182469259589</td><td>tmgaia2</td><td>4.89615</td><td>0.0590119</td><td>-23.3937</td><td>0.0619381</td><td>gaia2</td><td>7.44041</td><td>0.0461462</td><td>gaia2</td><td>335.220989192817</td><td>-17.2435744099619</td><td>270.829994331233</td><td>-35.1827190969001</td><td>9.688</td><td>0.039</td><td>9.117</td><td>0.003</td><td>nan</td><td>nan</td><td>nan</td><td>nan</td><td>nan</td><td>nan</td><td>nan</td><td>nan</td><td>nan</td><td>nan</td><td>8.211</td><td>0.029</td><td>7.956</td><td>0.033</td><td>7.927</td><td>0.038</td><td>AAA-111-111-000-0-0</td><td>nan</td><td>7.864</td><td>0.027</td><td>7.884</td><td>0.021</td><td>7.854</td><td>0.018</td><td>8.004</td><td>0.215</td><td>9.04906</td><td>0.000282</td><td>8.6869</td><td>0.006</td><td>rered</td><td>gaia2</td><td>6321.0</td><td>134.697</td><td>4.16952</td><td>0.0861593</td><td>nan</td><td>nan</td><td>1.52309</td><td>0.0662111</td><td>1.25</td><td>0.194881</td><td>0.353778</td><td>0.0823205</td><td>DWARF</td><td>3.33649659</td><td>0.1421345</td><td>133.889</td><td>0.8335</td><td>0.0237361</td><td>0.01036807</td><td>627</td><td>0.008751403</td><td>N/A</td><td>N</td><td>0.00239241053</td><td>0.00833304</td><td>0.0124031</td><td>schlegel</td><td>0.176539</td><td>0.213224</td><td>0.0759362</td><td>0.0564859</td><td>0.0823694</td><td>0.0822717</td><td>0.0984868</td><td>0.0738318</td><td>0.153813</td><td>0.130456</td><td>0.828</td><td>0.839</td><td>bj2018</td><td>145.799</td><td>123.595</td><td>dered</td><td>9.33075</td><td>0.00121</td><td>8.64378</td><td>0.000882</td><td>1</td><td>N</td><td>tycho2v3</td><td>tycho2b3</td><td>N/A</td><td>1.04958812582618</td><td>0.96073247115476</td><td>271.302819865606</td><td>-58.618347648841</td><td>0.0362761076718781</td><td>0.0364557743962286</td><td>1</td><td>0</td><td>1420035826</td></tr>\n",
       "<tr><td>118010415</td><td>1</td><td>13</td><td>0.0033662557601930048</td><td>10.663761828896098</td><td>7.485380904901776</td><td>2.3192659171651977</td><td>0.007021002768735549</td><td>0.002659233810989161</td><td>0.0017524567399611294</td><td>20190415</td><td>--</td><td>8751-02247-1</td><td>167-191417</td><td>18053362-5639566</td><td>N</td><td>J180533.60-563957.7</td><td>6651872243685919360</td><td>29458630</td><td>--</td><td>STAR</td><td>tmgaia2</td><td>271.390094426986</td><td>-56.6657534462633</td><td>tmgaia2</td><td>-16.3723</td><td>0.0605407</td><td>-96.8914</td><td>0.0523163</td><td>gaia2</td><td>7.15085</td><td>0.0378829</td><td>gaia2</td><td>337.100330070397</td><td>-16.4821426841295</td><td>270.913176207169</td><td>-33.230878549371</td><td>11.26</td><td>0.119</td><td>10.513</td><td>0.008</td><td>nan</td><td>nan</td><td>nan</td><td>nan</td><td>nan</td><td>nan</td><td>nan</td><td>nan</td><td>nan</td><td>nan</td><td>9.198</td><td>0.027</td><td>8.967</td><td>0.042</td><td>8.832</td><td>0.021</td><td>AAA-112-111-000-0-0</td><td>nan</td><td>8.765</td><td>0.022</td><td>8.807</td><td>0.02</td><td>8.731</td><td>0.025</td><td>8.337</td><td>nan</td><td>10.3267</td><td>0.000486</td><td>9.8536</td><td>0.006</td><td>rered</td><td>gaia2</td><td>5623.0</td><td>123.445</td><td>4.32845</td><td>0.0766169</td><td>nan</td><td>nan</td><td>1.13452</td><td>0.0550226</td><td>1.0</td><td>0.126666</td><td>0.684805</td><td>0.144612</td><td>DWARF</td><td>1.15928245</td><td>0.03864105</td><td>139.286</td><td>0.7405</td><td>0.0278073</td><td>0.01051959</td><td>690</td><td>0.164200917</td><td>N/A</td><td>N</td><td>0.00192848686</td><td>0.012734</td><td>0.00830518</td><td>schlegel</td><td>0.110279</td><td>0.143053</td><td>0.0378829</td><td>0.0721623</td><td>0.164522</td><td>0.124702</td><td>0.0819445</td><td>0.0712893</td><td>0.0380887</td><td>0.0391934</td><td>0.737</td><td>0.744</td><td>bj2018</td><td>125.675</td><td>121.214</td><td>dered</td><td>10.7148</td><td>0.000559</td><td>9.80897</td><td>0.000755</td><td>1</td><td>N</td><td>tycho2v3</td><td>tycho2b3</td><td>N/A</td><td>1.06661674510622</td><td>0.811561555869491</td><td>271.389966148573</td><td>-56.6661706176382</td><td>0.0333436164461887</td><td>0.0326963482408394</td><td>1</td><td>0</td><td>1420037348</td></tr>\n",
       "<tr><td>118053599</td><td>1</td><td>13</td><td>0.03137373924255371</td><td>6.932589597683937</td><td>5.128358980513067</td><td>3.3811500352995587</td><td>0.7790142854090246</td><td>0.0946020476001007</td><td>0.09104618836139353</td><td>20190415</td><td>--</td><td>N/A</td><td>165-198386</td><td>18055491-5704307</td><td>N</td><td>J180554.91-570431.4</td><td>6648834361774839040</td><td>29459186</td><td>--</td><td>STAR</td><td>tmgaia2</td><td>271.478843864213</td><td>-57.0752063158304</td><td>tmgaia2</td><td>0.862477</td><td>0.0798546</td><td>-73.033</td><td>0.0760707</td><td>gaia2</td><td>17.757</td><td>0.0564114</td><td>gaia2</td><td>336.732399536777</td><td>-16.6958392108136</td><td>270.965440603591</td><td>-33.6408810255481</td><td>15.143</td><td>0.079</td><td>13.632</td><td>0.011</td><td>nan</td><td>nan</td><td>nan</td><td>nan</td><td>nan</td><td>nan</td><td>nan</td><td>nan</td><td>nan</td><td>nan</td><td>9.564</td><td>0.024</td><td>8.881</td><td>0.059</td><td>8.63</td><td>0.02</td><td>AAA-212-111-000-0-0</td><td>nan</td><td>8.512</td><td>0.023</td><td>8.375</td><td>0.02</td><td>8.254</td><td>0.023</td><td>8.404</td><td>0.279</td><td>12.3728</td><td>0.002295</td><td>11.1269</td><td>0.00912575</td><td>cdwrf</td><td>cdwrf</td><td>3364.0</td><td>157.0</td><td>4.62296</td><td>0.0113983</td><td>nan</td><td>nan</td><td>0.633757</td><td>0.0187431</td><td>0.614803</td><td>0.0202325</td><td>2.41528</td><td>0.135016</td><td>DWARF</td><td>0.04634087</td><td>0.0114543159</td><td>56.2251</td><td>0.1797</td><td>0.0</td><td>0.0</td><td>667</td><td>0.09591281</td><td>N/A</td><td>N</td><td>0.00202157674</td><td>0.0</td><td>0.0</td><td>N/A</td><td>nan</td><td>nan</td><td>nan</td><td>nan</td><td>nan</td><td>nan</td><td>nan</td><td>nan</td><td>nan</td><td>nan</td><td>0.1791</td><td>0.1803</td><td>bj2018</td><td>nan</td><td>nan</td><td>cdwrf</td><td>13.8244</td><td>0.01101</td><td>11.1951</td><td>0.005973</td><td>1</td><td>N</td><td>apassdr9</td><td>apassdr9</td><td>cooldwarfs_v8</td><td>1.4097320101781</td><td>1.18001730556532</td><td>271.4788506962</td><td>-57.075520763472</td><td>0.0476158793635348</td><td>0.0466242205985003</td><td>1</td><td>0</td><td>1421763271</td></tr>\n",
       "<tr><td>118054887</td><td>1</td><td>13</td><td>0.02897542715072632</td><td>2.645035351250982</td><td>2.342284227790356</td><td>3.05346238615815</td><td>0.01685398984976197</td><td>0.002929709316659785</td><td>0.002264096668025945</td><td>20190415</td><td>--</td><td>N/A</td><td>161-206251</td><td>18060944-5748262</td><td>N</td><td>J180609.46-574825.9</td><td>6648553200336692224</td><td>N/A</td><td>--</td><td>STAR</td><td>tmgaia2</td><td>271.539388557824</td><td>-57.8073045375965</td><td>tmgaia2</td><td>16.0892</td><td>0.0813252</td><td>30.5026</td><td>0.0859161</td><td>gaia2</td><td>18.7847</td><td>0.0737572</td><td>gaia2</td><td>336.048881530741</td><td>-17.02620194858</td><td>270.993581006055</td><td>-34.3733325128409</td><td>17.558</td><td>0.162</td><td>15.712</td><td>0.286</td><td>nan</td><td>nan</td><td>nan</td><td>nan</td><td>nan</td><td>nan</td><td>nan</td><td>nan</td><td>nan</td><td>nan</td><td>11.522</td><td>0.024</td><td>10.92</td><td>0.024</td><td>10.699</td><td>0.021</td><td>AAA-222-111-000-0-0</td><td>nan</td><td>10.546</td><td>0.023</td><td>10.379</td><td>0.02</td><td>10.265</td><td>0.061</td><td>8.998</td><td>nan</td><td>14.3591</td><td>0.000444</td><td>13.0986</td><td>0.00735835</td><td>cdwrf</td><td>cdwrf</td><td>3345.0</td><td>157.0</td><td>4.923</td><td>0.00528679</td><td>nan</td><td>nan</td><td>0.302458</td><td>0.00911813</td><td>0.279423</td><td>0.0202186</td><td>10.0987</td><td>0.181383</td><td>DWARF</td><td>0.0103183286</td><td>0.00257357955</td><td>53.1545</td><td>0.21</td><td>0.0</td><td>0.0</td><td>639</td><td>0.111718006</td><td>N/A</td><td>N</td><td>0.00181529426</td><td>0.0</td><td>0.0</td><td>N/A</td><td>nan</td><td>nan</td><td>nan</td><td>nan</td><td>nan</td><td>nan</td><td>nan</td><td>nan</td><td>nan</td><td>nan</td><td>0.2092</td><td>0.2108</td><td>bj2018</td><td>nan</td><td>nan</td><td>cdwrf</td><td>15.8362</td><td>0.003324</td><td>13.1687</td><td>0.001501</td><td>1</td><td>N</td><td>ucac4</td><td>bpbj</td><td>cooldwarfs_v8</td><td>1.44080910584635</td><td>1.33304662785623</td><td>271.539518582326</td><td>-57.8071732070231</td><td>0.0510816419042713</td><td>0.0599134423036808</td><td>1</td><td>0</td><td>1423434296</td></tr>\n",
       "<tr><td>118055540</td><td>1</td><td>13</td><td>0.004783421754836925</td><td>5.7679329713342415</td><td>9.373365503045434</td><td>4.472163189077795</td><td>0.1032360778001358</td><td>0.024314551053414117</td><td>0.015072241112760674</td><td>20190415</td><td>--</td><td>8755-00516-1</td><td>159-199974</td><td>18062030-5812136</td><td>N</td><td>J180620.29-581214.2</td><td>6648487676314791680</td><td>29459878</td><td>--</td><td>STAR</td><td>tmgaia2</td><td>271.5845911274</td><td>-58.2038066073508</td><td>tmgaia2</td><td>-0.00263573</td><td>0.122721</td><td>-51.5963</td><td>0.121798</td><td>gaia2</td><td>5.78871</td><td>0.0945403</td><td>gaia2</td><td>335.680225294536</td><td>-17.2096540052292</td><td>271.016323414892</td><td>-34.7701155722463</td><td>11.544</td><td>0.15</td><td>10.934</td><td>0.01</td><td>nan</td><td>nan</td><td>nan</td><td>nan</td><td>nan</td><td>nan</td><td>nan</td><td>nan</td><td>nan</td><td>nan</td><td>9.767</td><td>0.021</td><td>9.432</td><td>0.025</td><td>9.366</td><td>0.022</td><td>AAA-222-111-000-0-0</td><td>nan</td><td>9.316</td><td>0.024</td><td>9.341</td><td>0.021</td><td>9.244</td><td>0.036</td><td>8.895</td><td>0.415</td><td>10.8462</td><td>0.000512</td><td>10.4011</td><td>0.006</td><td>rered</td><td>gaia2</td><td>5820.0</td><td>128.831</td><td>4.43498</td><td>0.0773404</td><td>nan</td><td>nan</td><td>1.02834</td><td>0.0517361</td><td>1.05</td><td>0.13019</td><td>0.965562</td><td>0.205839</td><td>DWARF</td><td>1.0930984</td><td>0.0561383</td><td>171.975</td><td>2.8185</td><td>0.0325447</td><td>0.00994848</td><td>572</td><td>0.0328014754</td><td>N/A</td><td>N</td><td>0.0016542821</td><td>0.00910956</td><td>0.0107874</td><td>schlegel</td><td>0.106057</td><td>0.154323</td><td>0.0438427</td><td>0.0596296</td><td>0.170934</td><td>0.240745</td><td>0.093321</td><td>0.0613599</td><td>0.0541043</td><td>0.0581723</td><td>2.773</td><td>2.864</td><td>bj2018</td><td>169.463</td><td>88.198</td><td>dered</td><td>11.2003</td><td>0.00132</td><td>10.3512</td><td>0.001139</td><td>1</td><td>N</td><td>tycho2v3</td><td>tycho2b3</td><td>N/A</td><td>2.17831624699106</td><td>1.88967736960947</td><td>271.584591105862</td><td>-58.2040287580887</td><td>0.0753539524981738</td><td>0.0826510741197323</td><td>1</td><td>0</td><td>1423434592</td></tr>\n",
       "<tr><td>118060883</td><td>1</td><td>13</td><td>0.0039537250995635995</td><td>3.481849632730828</td><td>4.368115235526761</td><td>2.985945016258633</td><td>0.025679204506716676</td><td>0.002366434928258501</td><td>0.0018518686527940016</td><td>20190415</td><td>--</td><td>8751-00238-1</td><td>160-206395</td><td>18064111-5806452</td><td>N</td><td>J180641.08-580645.8</td><td>6648500698655646976</td><td>29460462</td><td>--</td><td>STAR</td><td>tmgaia2</td><td>271.671324836094</td><td>-58.1125942659786</td><td>tmgaia2</td><td>-20.0906</td><td>0.0742786</td><td>-54.9363</td><td>0.0645359</td><td>gaia2</td><td>4.35214</td><td>0.04479</td><td>gaia2</td><td>335.78693885124</td><td>-17.2144384690243</td><td>271.073518369679</td><td>-34.679541018572</td><td>11.606</td><td>0.15</td><td>10.995</td><td>0.01</td><td>nan</td><td>nan</td><td>nan</td><td>nan</td><td>nan</td><td>nan</td><td>nan</td><td>nan</td><td>nan</td><td>nan</td><td>9.445</td><td>0.024</td><td>9.073</td><td>0.024</td><td>8.964</td><td>0.019</td><td>AAA-222-111-000-0-0</td><td>nan</td><td>8.877</td><td>0.023</td><td>8.947</td><td>0.02</td><td>8.865</td><td>0.027</td><td>8.74</td><td>nan</td><td>10.6806</td><td>0.000261</td><td>10.1399</td><td>0.006</td><td>rered</td><td>gaia2</td><td>5277.0</td><td>128.33</td><td>3.85478</td><td>0.0826103</td><td>nan</td><td>nan</td><td>1.8568</td><td>0.104035</td><td>0.9</td><td>0.110105</td><td>0.140588</td><td>0.0330778</td><td>DWARF</td><td>2.40864444</td><td>0.08260135</td><td>228.296</td><td>2.3525</td><td>0.0399045</td><td>0.009958765</td><td>651</td><td>0.0519903339</td><td>N/A</td><td>N</td><td>0.0008038974</td><td>0.00926773</td><td>0.0106498</td><td>schlegel</td><td>0.113948</td><td>0.106261</td><td>0.086907</td><td>0.121163</td><td>0.0276612</td><td>0.0384944</td><td>0.0745975</td><td>0.0906231</td><td>0.0856225</td><td>0.0795802</td><td>2.329</td><td>2.376</td><td>bj2018</td><td>124.759</td><td>131.901</td><td>dered</td><td>11.1374</td><td>0.000782</td><td>10.0919</td><td>0.000815</td><td>1</td><td>N</td><td>tycho2v3</td><td>tycho2b3</td><td>N/A</td><td>1.3177090647226</td><td>1.0011343101745</td><td>271.671161086139</td><td>-58.112830797372</td><td>0.0405816261384266</td><td>0.0407051974197141</td><td>1</td><td>0</td><td>1425185189</td></tr>\n",
       "<tr><td>118074571</td><td>3</td><td>10</td><td>0.0031239092350006104</td><td>3.132241423054154</td><td>0.5863002769241161</td><td>2.4027939967994465</td><td>0.012342140736587494</td><td>0.00674340845501243</td><td>0.005697960624838172</td><td>20190415</td><td>--</td><td>8576-01249-1</td><td>168-017232</td><td>08322193-5633102</td><td>N</td><td>J083221.96-563310.6</td><td>5316077800482635264</td><td>27467922</td><td>--</td><td>STAR</td><td>tmgaia2</td><td>128.091421306424</td><td>-56.5528523399079</td><td>tmgaia2</td><td>15.8117</td><td>0.0502764</td><td>-39.6431</td><td>0.0520987</td><td>gaia2</td><td>3.43165</td><td>0.0268199</td><td>gaia2</td><td>272.529766541266</td><td>-9.86715871879525</td><td>169.001329761615</td><td>-69.7334597036323</td><td>11.284</td><td>0.09</td><td>10.375</td><td>0.007</td><td>nan</td><td>nan</td><td>nan</td><td>nan</td><td>nan</td><td>nan</td><td>nan</td><td>nan</td><td>nan</td><td>nan</td><td>8.595</td><td>0.024</td><td>8.104</td><td>0.053</td><td>7.953</td><td>0.029</td><td>AAA-111-111-000-0-0</td><td>nan</td><td>7.86</td><td>0.027</td><td>7.981</td><td>0.02</td><td>7.915</td><td>0.019</td><td>7.978</td><td>0.176</td><td>10.0597</td><td>0.000174</td><td>9.4493</td><td>0.006</td><td>rered</td><td>spect</td><td>4926.0</td><td>49.0</td><td>nan</td><td>nan</td><td>0.0</td><td>0.09</td><td>3.89085</td><td>nan</td><td>nan</td><td>nan</td><td>nan</td><td>nan</td><td>GIANT</td><td>nan</td><td>nan</td><td>288.995</td><td>2.257</td><td>0.0776293</td><td>nan</td><td>--</td><td>nan</td><td>N/A</td><td>N</td><td>nan</td><td>nan</td><td>nan</td><td>schlegel</td><td>nan</td><td>nan</td><td>nan</td><td>nan</td><td>nan</td><td>nan</td><td>nan</td><td>nan</td><td>nan</td><td>nan</td><td>nan</td><td>nan</td><td>bj2018</td><td>nan</td><td>nan</td><td>spect</td><td>10.5978</td><td>0.001026</td><td>9.4067</td><td>0.000969</td><td>1</td><td>N</td><td>tycho2v3</td><td>tycho2b3</td><td>N/A</td><td>0.885223162843013</td><td>0.808052185621839</td><td>128.091544822685</td><td>-56.55302302554</td><td>0.0248285830607463</td><td>0.0290495446988217</td><td>0</td><td>0</td><td>644506696</td></tr>\n",
       "<tr><td>118074571</td><td>3</td><td>9</td><td>0.003200823068618797</td><td>0.5876305125728919</td><td>0.6083339173397341</td><td>0.5682195922483617</td><td>0.09019131591630122</td><td>0.008728656200310617</td><td>0.00709676890686698</td><td>20190415</td><td>--</td><td>8576-01249-1</td><td>168-017232</td><td>08322193-5633102</td><td>N</td><td>J083221.96-563310.6</td><td>5316077800482635264</td><td>27467922</td><td>--</td><td>STAR</td><td>tmgaia2</td><td>128.091421306424</td><td>-56.5528523399079</td><td>tmgaia2</td><td>15.8117</td><td>0.0502764</td><td>-39.6431</td><td>0.0520987</td><td>gaia2</td><td>3.43165</td><td>0.0268199</td><td>gaia2</td><td>272.529766541266</td><td>-9.86715871879525</td><td>169.001329761615</td><td>-69.7334597036323</td><td>11.284</td><td>0.09</td><td>10.375</td><td>0.007</td><td>nan</td><td>nan</td><td>nan</td><td>nan</td><td>nan</td><td>nan</td><td>nan</td><td>nan</td><td>nan</td><td>nan</td><td>8.595</td><td>0.024</td><td>8.104</td><td>0.053</td><td>7.953</td><td>0.029</td><td>AAA-111-111-000-0-0</td><td>nan</td><td>7.86</td><td>0.027</td><td>7.981</td><td>0.02</td><td>7.915</td><td>0.019</td><td>7.978</td><td>0.176</td><td>10.0597</td><td>0.000174</td><td>9.4493</td><td>0.006</td><td>rered</td><td>spect</td><td>4926.0</td><td>49.0</td><td>nan</td><td>nan</td><td>0.0</td><td>0.09</td><td>3.89085</td><td>nan</td><td>nan</td><td>nan</td><td>nan</td><td>nan</td><td>GIANT</td><td>nan</td><td>nan</td><td>288.995</td><td>2.257</td><td>0.0776293</td><td>nan</td><td>--</td><td>nan</td><td>N/A</td><td>N</td><td>nan</td><td>nan</td><td>nan</td><td>schlegel</td><td>nan</td><td>nan</td><td>nan</td><td>nan</td><td>nan</td><td>nan</td><td>nan</td><td>nan</td><td>nan</td><td>nan</td><td>nan</td><td>nan</td><td>bj2018</td><td>nan</td><td>nan</td><td>spect</td><td>10.5978</td><td>0.001026</td><td>9.4067</td><td>0.000969</td><td>1</td><td>N</td><td>tycho2v3</td><td>tycho2b3</td><td>N/A</td><td>0.885223162843013</td><td>0.808052185621839</td><td>128.091544822685</td><td>-56.55302302554</td><td>0.0248285830607463</td><td>0.0290495446988217</td><td>0</td><td>0</td><td>644506696</td></tr>\n",
       "<tr><td>118074571</td><td>3</td><td>8</td><td>0.0030632138252257857</td><td>0.5884521235860678</td><td>11.242992734705444</td><td>0.5703371307899922</td><td>0.12275529831900853</td><td>0.0423746088512277</td><td>0.03753652611527136</td><td>20190415</td><td>--</td><td>8576-01249-1</td><td>168-017232</td><td>08322193-5633102</td><td>N</td><td>J083221.96-563310.6</td><td>5316077800482635264</td><td>27467922</td><td>--</td><td>STAR</td><td>tmgaia2</td><td>128.091421306424</td><td>-56.5528523399079</td><td>tmgaia2</td><td>15.8117</td><td>0.0502764</td><td>-39.6431</td><td>0.0520987</td><td>gaia2</td><td>3.43165</td><td>0.0268199</td><td>gaia2</td><td>272.529766541266</td><td>-9.86715871879525</td><td>169.001329761615</td><td>-69.7334597036323</td><td>11.284</td><td>0.09</td><td>10.375</td><td>0.007</td><td>nan</td><td>nan</td><td>nan</td><td>nan</td><td>nan</td><td>nan</td><td>nan</td><td>nan</td><td>nan</td><td>nan</td><td>8.595</td><td>0.024</td><td>8.104</td><td>0.053</td><td>7.953</td><td>0.029</td><td>AAA-111-111-000-0-0</td><td>nan</td><td>7.86</td><td>0.027</td><td>7.981</td><td>0.02</td><td>7.915</td><td>0.019</td><td>7.978</td><td>0.176</td><td>10.0597</td><td>0.000174</td><td>9.4493</td><td>0.006</td><td>rered</td><td>spect</td><td>4926.0</td><td>49.0</td><td>nan</td><td>nan</td><td>0.0</td><td>0.09</td><td>3.89085</td><td>nan</td><td>nan</td><td>nan</td><td>nan</td><td>nan</td><td>GIANT</td><td>nan</td><td>nan</td><td>288.995</td><td>2.257</td><td>0.0776293</td><td>nan</td><td>--</td><td>nan</td><td>N/A</td><td>N</td><td>nan</td><td>nan</td><td>nan</td><td>schlegel</td><td>nan</td><td>nan</td><td>nan</td><td>nan</td><td>nan</td><td>nan</td><td>nan</td><td>nan</td><td>nan</td><td>nan</td><td>nan</td><td>nan</td><td>bj2018</td><td>nan</td><td>nan</td><td>spect</td><td>10.5978</td><td>0.001026</td><td>9.4067</td><td>0.000969</td><td>1</td><td>N</td><td>tycho2v3</td><td>tycho2b3</td><td>N/A</td><td>0.885223162843013</td><td>0.808052185621839</td><td>128.091544822685</td><td>-56.55302302554</td><td>0.0248285830607463</td><td>0.0290495446988217</td><td>0</td><td>0</td><td>644506696</td></tr>\n",
       "<tr><td>118078652</td><td>2</td><td>8</td><td>0.12149235606193542</td><td>4.067668787570382</td><td>5.088572580054224</td><td>3.346202958608393</td><td>0.024945315113160508</td><td>0.011051474142667774</td><td>0.0073722126222327015</td><td>20190415</td><td>--</td><td>N/A</td><td>N/A</td><td>08321326-5823409</td><td>N</td><td>N/A</td><td>5314885521864471424</td><td>N/A</td><td>--</td><td>STAR</td><td>tmgaia2</td><td>128.055170826544</td><td>-58.3946353459845</td><td>tmgaia2</td><td>-108.156</td><td>0.0971989</td><td>235.674</td><td>0.0915825</td><td>gaia2</td><td>19.521</td><td>0.0507081</td><td>gaia2</td><td>274.051428944884</td><td>-10.9407859572512</td><td>172.971342073228</td><td>-71.0046950942224</td><td>19.173</td><td>0.162</td><td>17.24</td><td>0.2</td><td>nan</td><td>nan</td><td>nan</td><td>nan</td><td>nan</td><td>nan</td><td>nan</td><td>nan</td><td>nan</td><td>nan</td><td>12.585</td><td>0.024</td><td>12.046</td><td>0.023</td><td>11.745</td><td>0.021</td><td>AAA-222-111-000-0-0</td><td>nan</td><td>nan</td><td>nan</td><td>nan</td><td>nan</td><td>nan</td><td>nan</td><td>nan</td><td>nan</td><td>15.6983</td><td>0.000689</td><td>14.3088</td><td>0.0074455</td><td>cdwrf</td><td>cdwrf</td><td>3148.0</td><td>157.0</td><td>5.07368</td><td>0.0272943</td><td>nan</td><td>nan</td><td>0.194678</td><td>0.00586689</td><td>0.163775</td><td>0.0200657</td><td>22.1971</td><td>0.721534</td><td>DWARF</td><td>0.003353261</td><td>0.0008763486</td><td>51.1517</td><td>0.1337</td><td>0.0</td><td>0.0</td><td>600</td><td>0.234761119</td><td>N/A</td><td>N</td><td>0.002395986</td><td>0.0</td><td>0.0</td><td>N/A</td><td>nan</td><td>nan</td><td>nan</td><td>nan</td><td>nan</td><td>nan</td><td>nan</td><td>nan</td><td>nan</td><td>nan</td><td>0.1334</td><td>0.134</td><td>bj2018</td><td>nan</td><td>nan</td><td>cdwrf</td><td>17.4835</td><td>0.005192</td><td>14.4098</td><td>0.001915</td><td>1</td><td>N</td><td>cdwrf</td><td>bpbj</td><td>cooldwarfs_v8</td><td>1.72643226629594</td><td>1.42036430297814</td><td>128.054282251479</td><td>-58.3936206415517</td><td>0.0446728724904496</td><td>0.0487122273972959</td><td>1</td><td>0</td><td>644509732</td></tr>\n",
       "<tr><td>...</td><td>...</td><td>...</td><td>...</td><td>...</td><td>...</td><td>...</td><td>...</td><td>...</td><td>...</td><td>...</td><td>...</td><td>...</td><td>...</td><td>...</td><td>...</td><td>...</td><td>...</td><td>...</td><td>...</td><td>...</td><td>...</td><td>...</td><td>...</td><td>...</td><td>...</td><td>...</td><td>...</td><td>...</td><td>...</td><td>...</td><td>...</td><td>...</td><td>...</td><td>...</td><td>...</td><td>...</td><td>...</td><td>...</td><td>...</td><td>...</td><td>...</td><td>...</td><td>...</td><td>...</td><td>...</td><td>...</td><td>...</td><td>...</td><td>...</td><td>...</td><td>...</td><td>...</td><td>...</td><td>...</td><td>...</td><td>...</td><td>...</td><td>...</td><td>...</td><td>...</td><td>...</td><td>...</td><td>...</td><td>...</td><td>...</td><td>...</td><td>...</td><td>...</td><td>...</td><td>...</td><td>...</td><td>...</td><td>...</td><td>...</td><td>...</td><td>...</td><td>...</td><td>...</td><td>...</td><td>...</td><td>...</td><td>...</td><td>...</td><td>...</td><td>...</td><td>...</td><td>...</td><td>...</td><td>...</td><td>...</td><td>...</td><td>...</td><td>...</td><td>...</td><td>...</td><td>...</td><td>...</td><td>...</td><td>...</td><td>...</td><td>...</td><td>...</td><td>...</td><td>...</td><td>...</td><td>...</td><td>...</td><td>...</td><td>...</td><td>...</td><td>...</td><td>...</td><td>...</td><td>...</td><td>...</td><td>...</td><td>...</td><td>...</td><td>...</td><td>...</td><td>...</td><td>...</td><td>...</td><td>...</td><td>...</td><td>...</td><td>...</td><td>...</td><td>...</td><td>...</td><td>...</td><td>...</td><td>...</td></tr>\n",
       "<tr><td>471015740</td><td>12</td><td>11</td><td>0.014200815558433557</td><td>6.5099192631739315</td><td>10.688587040172386</td><td>2.7755711766263484</td><td>0.13360133356390502</td><td>0.08321653011417159</td><td>0.057539599735943865</td><td>20190415</td><td>--</td><td>N/A</td><td>145-004854</td><td>04555759-6109459</td><td>N</td><td>N/A</td><td>N/A</td><td>N/A</td><td>--</td><td>STAR</td><td>cooldwarfs</td><td>73.99</td><td>-61.1628</td><td>cooldwarfs</td><td>nan</td><td>nan</td><td>nan</td><td>nan</td><td>N/A</td><td>nan</td><td>nan</td><td>N/A</td><td>270.835966</td><td>-37.350777</td><td>30.033885</td><td>-81.160977</td><td>nan</td><td>nan</td><td>11.91</td><td>0.2</td><td>nan</td><td>nan</td><td>nan</td><td>nan</td><td>nan</td><td>nan</td><td>nan</td><td>nan</td><td>nan</td><td>nan</td><td>9.042</td><td>0.03</td><td>8.507</td><td>0.033</td><td>8.312</td><td>0.022</td><td>N/A</td><td>nan</td><td>nan</td><td>nan</td><td>nan</td><td>nan</td><td>nan</td><td>nan</td><td>nan</td><td>nan</td><td>nan</td><td>nan</td><td>10.328</td><td>0.059</td><td>cdwrf</td><td>cdwrf</td><td>nan</td><td>nan</td><td>4.90016</td><td>0.381047</td><td>nan</td><td>nan</td><td>0.367</td><td>0.058</td><td>0.39</td><td>0.083</td><td>7.88981</td><td>3.74067</td><td>DWARF</td><td>0.02487891</td><td>0.007863633</td><td>nan</td><td>nan</td><td>nan</td><td>nan</td><td>--</td><td>nan</td><td>N/A</td><td>N</td><td>nan</td><td>nan</td><td>nan</td><td>N/A</td><td>nan</td><td>nan</td><td>nan</td><td>nan</td><td>nan</td><td>nan</td><td>nan</td><td>nan</td><td>nan</td><td>nan</td><td>nan</td><td>nan</td><td>N/A</td><td>nan</td><td>nan</td><td>N/A</td><td>nan</td><td>nan</td><td>nan</td><td>nan</td><td>--</td><td>N</td><td>cdwrf</td><td>N/A</td><td>N/A</td><td>0.0817733865468688</td><td>0.184321735778672</td><td>73.9884999559197</td><td>-61.162548266339</td><td>0.0817733865468688</td><td>0.184321735778672</td><td>1</td><td>0</td><td>529487153</td></tr>\n",
       "<tr><td>471015740</td><td>12</td><td>10</td><td>0.011552000045776391</td><td>4.455592448229954</td><td>10.58331587068752</td><td>3.0132015707374222</td><td>0.022451290927640127</td><td>0.022360388707983923</td><td>0.007743396955807277</td><td>20190415</td><td>--</td><td>N/A</td><td>145-004854</td><td>04555759-6109459</td><td>N</td><td>N/A</td><td>N/A</td><td>N/A</td><td>--</td><td>STAR</td><td>cooldwarfs</td><td>73.99</td><td>-61.1628</td><td>cooldwarfs</td><td>nan</td><td>nan</td><td>nan</td><td>nan</td><td>N/A</td><td>nan</td><td>nan</td><td>N/A</td><td>270.835966</td><td>-37.350777</td><td>30.033885</td><td>-81.160977</td><td>nan</td><td>nan</td><td>11.91</td><td>0.2</td><td>nan</td><td>nan</td><td>nan</td><td>nan</td><td>nan</td><td>nan</td><td>nan</td><td>nan</td><td>nan</td><td>nan</td><td>9.042</td><td>0.03</td><td>8.507</td><td>0.033</td><td>8.312</td><td>0.022</td><td>N/A</td><td>nan</td><td>nan</td><td>nan</td><td>nan</td><td>nan</td><td>nan</td><td>nan</td><td>nan</td><td>nan</td><td>nan</td><td>nan</td><td>10.328</td><td>0.059</td><td>cdwrf</td><td>cdwrf</td><td>nan</td><td>nan</td><td>4.90016</td><td>0.381047</td><td>nan</td><td>nan</td><td>0.367</td><td>0.058</td><td>0.39</td><td>0.083</td><td>7.88981</td><td>3.74067</td><td>DWARF</td><td>0.02487891</td><td>0.007863633</td><td>nan</td><td>nan</td><td>nan</td><td>nan</td><td>--</td><td>nan</td><td>N/A</td><td>N</td><td>nan</td><td>nan</td><td>nan</td><td>N/A</td><td>nan</td><td>nan</td><td>nan</td><td>nan</td><td>nan</td><td>nan</td><td>nan</td><td>nan</td><td>nan</td><td>nan</td><td>nan</td><td>nan</td><td>N/A</td><td>nan</td><td>nan</td><td>N/A</td><td>nan</td><td>nan</td><td>nan</td><td>nan</td><td>--</td><td>N</td><td>cdwrf</td><td>N/A</td><td>N/A</td><td>0.0817733865468688</td><td>0.184321735778672</td><td>73.9884999559197</td><td>-61.162548266339</td><td>0.0817733865468688</td><td>0.184321735778672</td><td>1</td><td>0</td><td>529487153</td></tr>\n",
       "<tr><td>471015740</td><td>12</td><td>9</td><td>0.011127763986587548</td><td>5.477068380787129</td><td>1.1210255603109935</td><td>1.6144875226313051</td><td>0.018142145017470145</td><td>0.007570440974247197</td><td>0.007443491950022706</td><td>20190415</td><td>--</td><td>N/A</td><td>145-004854</td><td>04555759-6109459</td><td>N</td><td>N/A</td><td>N/A</td><td>N/A</td><td>--</td><td>STAR</td><td>cooldwarfs</td><td>73.99</td><td>-61.1628</td><td>cooldwarfs</td><td>nan</td><td>nan</td><td>nan</td><td>nan</td><td>N/A</td><td>nan</td><td>nan</td><td>N/A</td><td>270.835966</td><td>-37.350777</td><td>30.033885</td><td>-81.160977</td><td>nan</td><td>nan</td><td>11.91</td><td>0.2</td><td>nan</td><td>nan</td><td>nan</td><td>nan</td><td>nan</td><td>nan</td><td>nan</td><td>nan</td><td>nan</td><td>nan</td><td>9.042</td><td>0.03</td><td>8.507</td><td>0.033</td><td>8.312</td><td>0.022</td><td>N/A</td><td>nan</td><td>nan</td><td>nan</td><td>nan</td><td>nan</td><td>nan</td><td>nan</td><td>nan</td><td>nan</td><td>nan</td><td>nan</td><td>10.328</td><td>0.059</td><td>cdwrf</td><td>cdwrf</td><td>nan</td><td>nan</td><td>4.90016</td><td>0.381047</td><td>nan</td><td>nan</td><td>0.367</td><td>0.058</td><td>0.39</td><td>0.083</td><td>7.88981</td><td>3.74067</td><td>DWARF</td><td>0.02487891</td><td>0.007863633</td><td>nan</td><td>nan</td><td>nan</td><td>nan</td><td>--</td><td>nan</td><td>N/A</td><td>N</td><td>nan</td><td>nan</td><td>nan</td><td>N/A</td><td>nan</td><td>nan</td><td>nan</td><td>nan</td><td>nan</td><td>nan</td><td>nan</td><td>nan</td><td>nan</td><td>nan</td><td>nan</td><td>nan</td><td>N/A</td><td>nan</td><td>nan</td><td>N/A</td><td>nan</td><td>nan</td><td>nan</td><td>nan</td><td>--</td><td>N</td><td>cdwrf</td><td>N/A</td><td>N/A</td><td>0.0817733865468688</td><td>0.184321735778672</td><td>73.9884999559197</td><td>-61.162548266339</td><td>0.0817733865468688</td><td>0.184321735778672</td><td>1</td><td>0</td><td>529487153</td></tr>\n",
       "<tr><td>471015740</td><td>12</td><td>6</td><td>0.00953298807144165</td><td>5.364781999903434</td><td>8.625749153805545</td><td>4.107031966170862</td><td>0.01731302462014597</td><td>0.006300073711055979</td><td>0.005469313692642743</td><td>20190415</td><td>--</td><td>N/A</td><td>145-004854</td><td>04555759-6109459</td><td>N</td><td>N/A</td><td>N/A</td><td>N/A</td><td>--</td><td>STAR</td><td>cooldwarfs</td><td>73.99</td><td>-61.1628</td><td>cooldwarfs</td><td>nan</td><td>nan</td><td>nan</td><td>nan</td><td>N/A</td><td>nan</td><td>nan</td><td>N/A</td><td>270.835966</td><td>-37.350777</td><td>30.033885</td><td>-81.160977</td><td>nan</td><td>nan</td><td>11.91</td><td>0.2</td><td>nan</td><td>nan</td><td>nan</td><td>nan</td><td>nan</td><td>nan</td><td>nan</td><td>nan</td><td>nan</td><td>nan</td><td>9.042</td><td>0.03</td><td>8.507</td><td>0.033</td><td>8.312</td><td>0.022</td><td>N/A</td><td>nan</td><td>nan</td><td>nan</td><td>nan</td><td>nan</td><td>nan</td><td>nan</td><td>nan</td><td>nan</td><td>nan</td><td>nan</td><td>10.328</td><td>0.059</td><td>cdwrf</td><td>cdwrf</td><td>nan</td><td>nan</td><td>4.90016</td><td>0.381047</td><td>nan</td><td>nan</td><td>0.367</td><td>0.058</td><td>0.39</td><td>0.083</td><td>7.88981</td><td>3.74067</td><td>DWARF</td><td>0.02487891</td><td>0.007863633</td><td>nan</td><td>nan</td><td>nan</td><td>nan</td><td>--</td><td>nan</td><td>N/A</td><td>N</td><td>nan</td><td>nan</td><td>nan</td><td>N/A</td><td>nan</td><td>nan</td><td>nan</td><td>nan</td><td>nan</td><td>nan</td><td>nan</td><td>nan</td><td>nan</td><td>nan</td><td>nan</td><td>nan</td><td>N/A</td><td>nan</td><td>nan</td><td>N/A</td><td>nan</td><td>nan</td><td>nan</td><td>nan</td><td>--</td><td>N</td><td>cdwrf</td><td>N/A</td><td>N/A</td><td>0.0817733865468688</td><td>0.184321735778672</td><td>73.9884999559197</td><td>-61.162548266339</td><td>0.0817733865468688</td><td>0.184321735778672</td><td>1</td><td>0</td><td>529487153</td></tr>\n",
       "<tr><td>471015740</td><td>12</td><td>5</td><td>0.010006073117255987</td><td>5.6656978226505545</td><td>3.853517101694563</td><td>10.576666793587938</td><td>0.030733657998062564</td><td>0.01177159402440693</td><td>0.010262071020017744</td><td>20190415</td><td>--</td><td>N/A</td><td>145-004854</td><td>04555759-6109459</td><td>N</td><td>N/A</td><td>N/A</td><td>N/A</td><td>--</td><td>STAR</td><td>cooldwarfs</td><td>73.99</td><td>-61.1628</td><td>cooldwarfs</td><td>nan</td><td>nan</td><td>nan</td><td>nan</td><td>N/A</td><td>nan</td><td>nan</td><td>N/A</td><td>270.835966</td><td>-37.350777</td><td>30.033885</td><td>-81.160977</td><td>nan</td><td>nan</td><td>11.91</td><td>0.2</td><td>nan</td><td>nan</td><td>nan</td><td>nan</td><td>nan</td><td>nan</td><td>nan</td><td>nan</td><td>nan</td><td>nan</td><td>9.042</td><td>0.03</td><td>8.507</td><td>0.033</td><td>8.312</td><td>0.022</td><td>N/A</td><td>nan</td><td>nan</td><td>nan</td><td>nan</td><td>nan</td><td>nan</td><td>nan</td><td>nan</td><td>nan</td><td>nan</td><td>nan</td><td>10.328</td><td>0.059</td><td>cdwrf</td><td>cdwrf</td><td>nan</td><td>nan</td><td>4.90016</td><td>0.381047</td><td>nan</td><td>nan</td><td>0.367</td><td>0.058</td><td>0.39</td><td>0.083</td><td>7.88981</td><td>3.74067</td><td>DWARF</td><td>0.02487891</td><td>0.007863633</td><td>nan</td><td>nan</td><td>nan</td><td>nan</td><td>--</td><td>nan</td><td>N/A</td><td>N</td><td>nan</td><td>nan</td><td>nan</td><td>N/A</td><td>nan</td><td>nan</td><td>nan</td><td>nan</td><td>nan</td><td>nan</td><td>nan</td><td>nan</td><td>nan</td><td>nan</td><td>nan</td><td>nan</td><td>N/A</td><td>nan</td><td>nan</td><td>N/A</td><td>nan</td><td>nan</td><td>nan</td><td>nan</td><td>--</td><td>N</td><td>cdwrf</td><td>N/A</td><td>N/A</td><td>0.0817733865468688</td><td>0.184321735778672</td><td>73.9884999559197</td><td>-61.162548266339</td><td>0.0817733865468688</td><td>0.184321735778672</td><td>1</td><td>0</td><td>529487153</td></tr>\n",
       "<tr><td>471015740</td><td>12</td><td>4</td><td>0.011783874034881459</td><td>12.622693810778875</td><td>6.218170421857338</td><td>4.8012272059458985</td><td>0.13155150091359866</td><td>0.04425964358624684</td><td>0.03966815620076157</td><td>20190415</td><td>--</td><td>N/A</td><td>145-004854</td><td>04555759-6109459</td><td>N</td><td>N/A</td><td>N/A</td><td>N/A</td><td>--</td><td>STAR</td><td>cooldwarfs</td><td>73.99</td><td>-61.1628</td><td>cooldwarfs</td><td>nan</td><td>nan</td><td>nan</td><td>nan</td><td>N/A</td><td>nan</td><td>nan</td><td>N/A</td><td>270.835966</td><td>-37.350777</td><td>30.033885</td><td>-81.160977</td><td>nan</td><td>nan</td><td>11.91</td><td>0.2</td><td>nan</td><td>nan</td><td>nan</td><td>nan</td><td>nan</td><td>nan</td><td>nan</td><td>nan</td><td>nan</td><td>nan</td><td>9.042</td><td>0.03</td><td>8.507</td><td>0.033</td><td>8.312</td><td>0.022</td><td>N/A</td><td>nan</td><td>nan</td><td>nan</td><td>nan</td><td>nan</td><td>nan</td><td>nan</td><td>nan</td><td>nan</td><td>nan</td><td>nan</td><td>10.328</td><td>0.059</td><td>cdwrf</td><td>cdwrf</td><td>nan</td><td>nan</td><td>4.90016</td><td>0.381047</td><td>nan</td><td>nan</td><td>0.367</td><td>0.058</td><td>0.39</td><td>0.083</td><td>7.88981</td><td>3.74067</td><td>DWARF</td><td>0.02487891</td><td>0.007863633</td><td>nan</td><td>nan</td><td>nan</td><td>nan</td><td>--</td><td>nan</td><td>N/A</td><td>N</td><td>nan</td><td>nan</td><td>nan</td><td>N/A</td><td>nan</td><td>nan</td><td>nan</td><td>nan</td><td>nan</td><td>nan</td><td>nan</td><td>nan</td><td>nan</td><td>nan</td><td>nan</td><td>nan</td><td>N/A</td><td>nan</td><td>nan</td><td>N/A</td><td>nan</td><td>nan</td><td>nan</td><td>nan</td><td>--</td><td>N</td><td>cdwrf</td><td>N/A</td><td>N/A</td><td>0.0817733865468688</td><td>0.184321735778672</td><td>73.9884999559197</td><td>-61.162548266339</td><td>0.0817733865468688</td><td>0.184321735778672</td><td>1</td><td>0</td><td>529487153</td></tr>\n",
       "<tr><td>471015740</td><td>12</td><td>2</td><td>0.011010393500328064</td><td>1.215158918857438</td><td>2.398343974891965</td><td>4.836168323554504</td><td>0.005020842960037915</td><td>0.004856283508964178</td><td>0.00400774946208445</td><td>20190415</td><td>--</td><td>N/A</td><td>145-004854</td><td>04555759-6109459</td><td>N</td><td>N/A</td><td>N/A</td><td>N/A</td><td>--</td><td>STAR</td><td>cooldwarfs</td><td>73.99</td><td>-61.1628</td><td>cooldwarfs</td><td>nan</td><td>nan</td><td>nan</td><td>nan</td><td>N/A</td><td>nan</td><td>nan</td><td>N/A</td><td>270.835966</td><td>-37.350777</td><td>30.033885</td><td>-81.160977</td><td>nan</td><td>nan</td><td>11.91</td><td>0.2</td><td>nan</td><td>nan</td><td>nan</td><td>nan</td><td>nan</td><td>nan</td><td>nan</td><td>nan</td><td>nan</td><td>nan</td><td>9.042</td><td>0.03</td><td>8.507</td><td>0.033</td><td>8.312</td><td>0.022</td><td>N/A</td><td>nan</td><td>nan</td><td>nan</td><td>nan</td><td>nan</td><td>nan</td><td>nan</td><td>nan</td><td>nan</td><td>nan</td><td>nan</td><td>10.328</td><td>0.059</td><td>cdwrf</td><td>cdwrf</td><td>nan</td><td>nan</td><td>4.90016</td><td>0.381047</td><td>nan</td><td>nan</td><td>0.367</td><td>0.058</td><td>0.39</td><td>0.083</td><td>7.88981</td><td>3.74067</td><td>DWARF</td><td>0.02487891</td><td>0.007863633</td><td>nan</td><td>nan</td><td>nan</td><td>nan</td><td>--</td><td>nan</td><td>N/A</td><td>N</td><td>nan</td><td>nan</td><td>nan</td><td>N/A</td><td>nan</td><td>nan</td><td>nan</td><td>nan</td><td>nan</td><td>nan</td><td>nan</td><td>nan</td><td>nan</td><td>nan</td><td>nan</td><td>nan</td><td>N/A</td><td>nan</td><td>nan</td><td>N/A</td><td>nan</td><td>nan</td><td>nan</td><td>nan</td><td>--</td><td>N</td><td>cdwrf</td><td>N/A</td><td>N/A</td><td>0.0817733865468688</td><td>0.184321735778672</td><td>73.9884999559197</td><td>-61.162548266339</td><td>0.0817733865468688</td><td>0.184321735778672</td><td>1</td><td>0</td><td>529487153</td></tr>\n",
       "<tr><td>471015740</td><td>12</td><td>1</td><td>0.013882696628570446</td><td>2.3237477778939657</td><td>4.772643316753005</td><td>5.8821349539953625</td><td>0.014844343443710209</td><td>0.011145545790195069</td><td>0.00939940752790774</td><td>20190415</td><td>--</td><td>N/A</td><td>145-004854</td><td>04555759-6109459</td><td>N</td><td>N/A</td><td>N/A</td><td>N/A</td><td>--</td><td>STAR</td><td>cooldwarfs</td><td>73.99</td><td>-61.1628</td><td>cooldwarfs</td><td>nan</td><td>nan</td><td>nan</td><td>nan</td><td>N/A</td><td>nan</td><td>nan</td><td>N/A</td><td>270.835966</td><td>-37.350777</td><td>30.033885</td><td>-81.160977</td><td>nan</td><td>nan</td><td>11.91</td><td>0.2</td><td>nan</td><td>nan</td><td>nan</td><td>nan</td><td>nan</td><td>nan</td><td>nan</td><td>nan</td><td>nan</td><td>nan</td><td>9.042</td><td>0.03</td><td>8.507</td><td>0.033</td><td>8.312</td><td>0.022</td><td>N/A</td><td>nan</td><td>nan</td><td>nan</td><td>nan</td><td>nan</td><td>nan</td><td>nan</td><td>nan</td><td>nan</td><td>nan</td><td>nan</td><td>10.328</td><td>0.059</td><td>cdwrf</td><td>cdwrf</td><td>nan</td><td>nan</td><td>4.90016</td><td>0.381047</td><td>nan</td><td>nan</td><td>0.367</td><td>0.058</td><td>0.39</td><td>0.083</td><td>7.88981</td><td>3.74067</td><td>DWARF</td><td>0.02487891</td><td>0.007863633</td><td>nan</td><td>nan</td><td>nan</td><td>nan</td><td>--</td><td>nan</td><td>N/A</td><td>N</td><td>nan</td><td>nan</td><td>nan</td><td>N/A</td><td>nan</td><td>nan</td><td>nan</td><td>nan</td><td>nan</td><td>nan</td><td>nan</td><td>nan</td><td>nan</td><td>nan</td><td>nan</td><td>nan</td><td>N/A</td><td>nan</td><td>nan</td><td>N/A</td><td>nan</td><td>nan</td><td>nan</td><td>nan</td><td>--</td><td>N</td><td>cdwrf</td><td>N/A</td><td>N/A</td><td>0.0817733865468688</td><td>0.184321735778672</td><td>73.9884999559197</td><td>-61.162548266339</td><td>0.0817733865468688</td><td>0.184321735778672</td><td>1</td><td>0</td><td>529487153</td></tr>\n",
       "<tr><td>471015740</td><td>12</td><td>8</td><td>0.01004740595817566</td><td>5.896556848093742</td><td>2.431599634089228</td><td>0.8033542625278727</td><td>0.03261744968818822</td><td>0.03068300384456147</td><td>0.026100566178492383</td><td>20190415</td><td>--</td><td>N/A</td><td>145-004854</td><td>04555759-6109459</td><td>N</td><td>N/A</td><td>N/A</td><td>N/A</td><td>--</td><td>STAR</td><td>cooldwarfs</td><td>73.99</td><td>-61.1628</td><td>cooldwarfs</td><td>nan</td><td>nan</td><td>nan</td><td>nan</td><td>N/A</td><td>nan</td><td>nan</td><td>N/A</td><td>270.835966</td><td>-37.350777</td><td>30.033885</td><td>-81.160977</td><td>nan</td><td>nan</td><td>11.91</td><td>0.2</td><td>nan</td><td>nan</td><td>nan</td><td>nan</td><td>nan</td><td>nan</td><td>nan</td><td>nan</td><td>nan</td><td>nan</td><td>9.042</td><td>0.03</td><td>8.507</td><td>0.033</td><td>8.312</td><td>0.022</td><td>N/A</td><td>nan</td><td>nan</td><td>nan</td><td>nan</td><td>nan</td><td>nan</td><td>nan</td><td>nan</td><td>nan</td><td>nan</td><td>nan</td><td>10.328</td><td>0.059</td><td>cdwrf</td><td>cdwrf</td><td>nan</td><td>nan</td><td>4.90016</td><td>0.381047</td><td>nan</td><td>nan</td><td>0.367</td><td>0.058</td><td>0.39</td><td>0.083</td><td>7.88981</td><td>3.74067</td><td>DWARF</td><td>0.02487891</td><td>0.007863633</td><td>nan</td><td>nan</td><td>nan</td><td>nan</td><td>--</td><td>nan</td><td>N/A</td><td>N</td><td>nan</td><td>nan</td><td>nan</td><td>N/A</td><td>nan</td><td>nan</td><td>nan</td><td>nan</td><td>nan</td><td>nan</td><td>nan</td><td>nan</td><td>nan</td><td>nan</td><td>nan</td><td>nan</td><td>N/A</td><td>nan</td><td>nan</td><td>N/A</td><td>nan</td><td>nan</td><td>nan</td><td>nan</td><td>--</td><td>N</td><td>cdwrf</td><td>N/A</td><td>N/A</td><td>0.0817733865468688</td><td>0.184321735778672</td><td>73.9884999559197</td><td>-61.162548266339</td><td>0.0817733865468688</td><td>0.184321735778672</td><td>1</td><td>0</td><td>529487153</td></tr>\n",
       "<tr><td>471015740</td><td>12</td><td>3</td><td>0.0328553318977356</td><td>10.581098582965106</td><td>1.9991435583351929</td><td>2.451071226881265</td><td>0.0634040876640128</td><td>0.062162187150877825</td><td>0.05252252492472682</td><td>20190415</td><td>--</td><td>N/A</td><td>145-004854</td><td>04555759-6109459</td><td>N</td><td>N/A</td><td>N/A</td><td>N/A</td><td>--</td><td>STAR</td><td>cooldwarfs</td><td>73.99</td><td>-61.1628</td><td>cooldwarfs</td><td>nan</td><td>nan</td><td>nan</td><td>nan</td><td>N/A</td><td>nan</td><td>nan</td><td>N/A</td><td>270.835966</td><td>-37.350777</td><td>30.033885</td><td>-81.160977</td><td>nan</td><td>nan</td><td>11.91</td><td>0.2</td><td>nan</td><td>nan</td><td>nan</td><td>nan</td><td>nan</td><td>nan</td><td>nan</td><td>nan</td><td>nan</td><td>nan</td><td>9.042</td><td>0.03</td><td>8.507</td><td>0.033</td><td>8.312</td><td>0.022</td><td>N/A</td><td>nan</td><td>nan</td><td>nan</td><td>nan</td><td>nan</td><td>nan</td><td>nan</td><td>nan</td><td>nan</td><td>nan</td><td>nan</td><td>10.328</td><td>0.059</td><td>cdwrf</td><td>cdwrf</td><td>nan</td><td>nan</td><td>4.90016</td><td>0.381047</td><td>nan</td><td>nan</td><td>0.367</td><td>0.058</td><td>0.39</td><td>0.083</td><td>7.88981</td><td>3.74067</td><td>DWARF</td><td>0.02487891</td><td>0.007863633</td><td>nan</td><td>nan</td><td>nan</td><td>nan</td><td>--</td><td>nan</td><td>N/A</td><td>N</td><td>nan</td><td>nan</td><td>nan</td><td>N/A</td><td>nan</td><td>nan</td><td>nan</td><td>nan</td><td>nan</td><td>nan</td><td>nan</td><td>nan</td><td>nan</td><td>nan</td><td>nan</td><td>nan</td><td>N/A</td><td>nan</td><td>nan</td><td>N/A</td><td>nan</td><td>nan</td><td>nan</td><td>nan</td><td>--</td><td>N</td><td>cdwrf</td><td>N/A</td><td>N/A</td><td>0.0817733865468688</td><td>0.184321735778672</td><td>73.9884999559197</td><td>-61.162548266339</td><td>0.0817733865468688</td><td>0.184321735778672</td><td>1</td><td>0</td><td>529487153</td></tr>\n",
       "</table>"
      ],
      "text/plain": [
       "<Table length=112400>\n",
       "    ID    NUMsectors sector          rvar         ... raddflag wdflag   objID   \n",
       "  int64     int64    int64         float64        ...  int64   int64    int64   \n",
       "--------- ---------- ------ --------------------- ... -------- ------ ----------\n",
       "117935303          1     13 0.0018316209316253664 ...        1      0 1420035826\n",
       "118010415          1     13 0.0033662557601930048 ...        1      0 1420037348\n",
       "118053599          1     13   0.03137373924255371 ...        1      0 1421763271\n",
       "118054887          1     13   0.02897542715072632 ...        1      0 1423434296\n",
       "118055540          1     13  0.004783421754836925 ...        1      0 1423434592\n",
       "118060883          1     13 0.0039537250995635995 ...        1      0 1425185189\n",
       "118074571          3     10 0.0031239092350006104 ...        0      0  644506696\n",
       "118074571          3      9  0.003200823068618797 ...        0      0  644506696\n",
       "118074571          3      8 0.0030632138252257857 ...        0      0  644506696\n",
       "118078652          2      8   0.12149235606193542 ...        1      0  644509732\n",
       "      ...        ...    ...                   ... ...      ...    ...        ...\n",
       "471015740         12     11  0.014200815558433557 ...        1      0  529487153\n",
       "471015740         12     10  0.011552000045776391 ...        1      0  529487153\n",
       "471015740         12      9  0.011127763986587548 ...        1      0  529487153\n",
       "471015740         12      6   0.00953298807144165 ...        1      0  529487153\n",
       "471015740         12      5  0.010006073117255987 ...        1      0  529487153\n",
       "471015740         12      4  0.011783874034881459 ...        1      0  529487153\n",
       "471015740         12      2  0.011010393500328064 ...        1      0  529487153\n",
       "471015740         12      1  0.013882696628570446 ...        1      0  529487153\n",
       "471015740         12      8   0.01004740595817566 ...        1      0  529487153\n",
       "471015740         12      3    0.0328553318977356 ...        1      0  529487153"
      ]
     },
     "execution_count": 8,
     "metadata": {},
     "output_type": "execute_result"
    }
   ],
   "source": [
    "# opening original big stats\n",
    "og = ascii.read('data/OLDbigstats_by_sector.fits')\n",
    "og"
   ]
  },
  {
   "cell_type": "code",
   "execution_count": null,
   "metadata": {},
   "outputs": [],
   "source": []
  },
  {
   "cell_type": "code",
   "execution_count": 9,
   "metadata": {},
   "outputs": [
    {
     "data": {
      "text/plain": [
       "(166, 0)"
      ]
     },
     "execution_count": 9,
     "metadata": {},
     "output_type": "execute_result"
    }
   ],
   "source": [
    "#comparing ids to make sure theyre the same\n",
    "\n",
    "notin_b, notin_a = returnNotMatches(og['ID'], cvzstat_table['ID']) #a,b\n",
    "len(notin_b),len(notin_a)#, notin_b"
   ]
  },
  {
   "cell_type": "code",
   "execution_count": 10,
   "metadata": {},
   "outputs": [
    {
     "data": {
      "text/plain": [
       "(0, 0)"
      ]
     },
     "execution_count": 10,
     "metadata": {},
     "output_type": "execute_result"
    }
   ],
   "source": [
    "#confirms (in 2ways) that these werent able to get an acf - not lk objects\n",
    "\n",
    "# import glob\n",
    "# for tic in noLK:\n",
    "#     fullpath = glob.glob('/Volumes/Seagate-stars/LightCurves/*{}-*-s_lc.fits'.format(tic))\n",
    "#     for file in fullpath:\n",
    "#         try:\n",
    "#             lcfile = lk.open(file)\n",
    "#             print('HEY I WORKED!!',tic, file)\n",
    "#         except ValueError as err:\n",
    "#             print(err)\n",
    "\n",
    "noLK = [141867895,141870589,141910606,141974066,141975926,141976247,149037112,149039372,149060586,149102762,149103941,149154927,149156139,149158724]\n",
    "notin_b2, notin_a2 = returnNotMatches(notin_b, noLK) #a,b\n",
    "len(notin_b2),len(notin_a2)"
   ]
  },
  {
   "cell_type": "code",
   "execution_count": 11,
   "metadata": {},
   "outputs": [
    {
     "data": {
      "text/html": [
       "<i>Table length=112219</i>\n",
       "<table id=\"table4585506128\" class=\"table-striped table-bordered table-condensed\">\n",
       "<thead><tr><th>ID</th><th>NUMsectors</th><th>sector</th><th>rvar</th><th>ls1</th><th>ls2</th><th>ls3</th><th>lsamp1</th><th>lsamp2</th><th>lsamp3</th><th>version</th><th>HIP</th><th>TYC</th><th>UCAC</th><th>TWOMASS</th><th>SDSS</th><th>ALLWISE</th><th>GAIA</th><th>APASS</th><th>KIC</th><th>objType</th><th>typeSrc</th><th>ra</th><th>dec</th><th>POSflag</th><th>pmRA</th><th>e_pmRA</th><th>pmDEC</th><th>e_pmDEC</th><th>PMflag</th><th>plx</th><th>e_plx</th><th>PARflag</th><th>gallong</th><th>gallat</th><th>eclong</th><th>eclat</th><th>Bmag</th><th>e_Bmag</th><th>Vmag</th><th>e_Vmag</th><th>umag</th><th>e_umag</th><th>gmag</th><th>e_gmag</th><th>rmag</th><th>e_rmag</th><th>imag</th><th>e_imag</th><th>zmag</th><th>e_zmag</th><th>Jmag</th><th>e_Jmag</th><th>Hmag</th><th>e_Hmag</th><th>Kmag</th><th>e_Kmag</th><th>TWOMflag</th><th>prox</th><th>w1mag</th><th>e_w1mag</th><th>w2mag</th><th>e_w2mag</th><th>w3mag</th><th>e_w3mag</th><th>w4mag</th><th>e_w4mag</th><th>GAIAmag</th><th>e_GAIAmag</th><th>Tmag</th><th>e_Tmag</th><th>TESSflag</th><th>SPFlag</th><th>Teff</th><th>e_Teff</th><th>logg</th><th>e_logg</th><th>MH</th><th>e_MH</th><th>rad</th><th>e_rad</th><th>mass</th><th>e_mass</th><th>rho</th><th>e_rho</th><th>lumclass</th><th>lum</th><th>e_lum</th><th>d</th><th>e_d</th><th>ebv</th><th>e_ebv</th><th>numcont</th><th>contratio</th><th>disposition</th><th>duplicate_id</th><th>priority</th><th>eneg_EBV</th><th>epos_EBV</th><th>EBVflag</th><th>eneg_Mass</th><th>epos_Mass</th><th>eneg_Rad</th><th>epos_Rad</th><th>eneg_rho</th><th>epos_rho</th><th>eneg_logg</th><th>epos_logg</th><th>eneg_lum</th><th>epos_lum</th><th>eneg_dist</th><th>epos_dist</th><th>distflag</th><th>eneg_Teff</th><th>epos_Teff</th><th>TeffFlag</th><th>gaiabp</th><th>e_gaiabp</th><th>gaiarp</th><th>e_gaiarp</th><th>gaiaqflag</th><th>starchareFlag</th><th>VmagFlag</th><th>BmagFlag</th><th>splists</th><th>e_RA</th><th>e_Dec</th><th>RA_orig</th><th>Dec_orig</th><th>e_RA_orig</th><th>e_Dec_orig</th><th>raddflag</th><th>wdflag</th><th>objID</th><th>acf1</th><th>acf2</th><th>acf3</th><th>acfamp1</th><th>acfamp2</th><th>acfamp3</th></tr></thead>\n",
       "<thead><tr><th>int64</th><th>int64</th><th>int64</th><th>float64</th><th>float64</th><th>float64</th><th>float64</th><th>float64</th><th>float64</th><th>float64</th><th>int64</th><th>int64</th><th>str12</th><th>str10</th><th>str16</th><th>str1</th><th>str19</th><th>str19</th><th>str8</th><th>int64</th><th>str4</th><th>str10</th><th>float64</th><th>float64</th><th>str10</th><th>float64</th><th>float64</th><th>float64</th><th>float64</th><th>str6</th><th>float64</th><th>float64</th><th>str5</th><th>float64</th><th>float64</th><th>float64</th><th>float64</th><th>float64</th><th>float64</th><th>float64</th><th>float64</th><th>float64</th><th>float64</th><th>float64</th><th>float64</th><th>float64</th><th>float64</th><th>float64</th><th>float64</th><th>float64</th><th>float64</th><th>float64</th><th>float64</th><th>float64</th><th>float64</th><th>float64</th><th>float64</th><th>str19</th><th>float64</th><th>float64</th><th>float64</th><th>float64</th><th>float64</th><th>float64</th><th>float64</th><th>float64</th><th>float64</th><th>float64</th><th>float64</th><th>float64</th><th>float64</th><th>str5</th><th>str5</th><th>float64</th><th>float64</th><th>float64</th><th>float64</th><th>float64</th><th>float64</th><th>float64</th><th>float64</th><th>float64</th><th>float64</th><th>float64</th><th>float64</th><th>str5</th><th>float64</th><th>float64</th><th>float64</th><th>float64</th><th>float64</th><th>float64</th><th>int64</th><th>float64</th><th>str5</th><th>str1</th><th>float64</th><th>float64</th><th>float64</th><th>str8</th><th>float64</th><th>float64</th><th>float64</th><th>float64</th><th>float64</th><th>float64</th><th>float64</th><th>float64</th><th>float64</th><th>float64</th><th>float64</th><th>float64</th><th>str6</th><th>float64</th><th>float64</th><th>str6</th><th>float64</th><th>float64</th><th>float64</th><th>float64</th><th>int64</th><th>str1</th><th>str8</th><th>str8</th><th>str15</th><th>float64</th><th>float64</th><th>float64</th><th>float64</th><th>float64</th><th>float64</th><th>int64</th><th>int64</th><th>int64</th><th>float64</th><th>float64</th><th>float64</th><th>float64</th><th>float64</th><th>float64</th></tr></thead>\n",
       "<tr><td>24671921</td><td>1</td><td>13</td><td>0.0071094632148742684</td><td>4.714723379698388</td><td>6.56151084234894</td><td>3.710270948955808</td><td>0.3659571002372538</td><td>0.07985129054555644</td><td>0.04503873001476469</td><td>20190415</td><td>--</td><td>9147-00479-1</td><td>088-006118</td><td>02174757-7225033</td><td>N</td><td>J021747.55-722503.3</td><td>4644568429780642432</td><td>33528137</td><td>--</td><td>STAR</td><td>tmgaia2</td><td>34.4482217510531</td><td>-72.4176001947251</td><td>tmgaia2</td><td>-3.65382</td><td>0.0364772</td><td>5.77749</td><td>0.0357242</td><td>gaia2</td><td>2.97014</td><td>0.0214375</td><td>gaia2</td><td>294.160388804651</td><td>-43.2094271995752</td><td>318.2388411903</td><td>-70.4911761580997</td><td>11.906</td><td>0.175</td><td>11.455</td><td>0.012</td><td>nan</td><td>nan</td><td>nan</td><td>nan</td><td>nan</td><td>nan</td><td>nan</td><td>nan</td><td>nan</td><td>nan</td><td>10.328</td><td>0.026</td><td>10.029</td><td>0.025</td><td>9.986</td><td>0.025</td><td>AAA-222-111-000-0-0</td><td>nan</td><td>9.915</td><td>0.023</td><td>9.942</td><td>0.02</td><td>9.856</td><td>0.039</td><td>8.699</td><td>nan</td><td>11.276</td><td>0.000364</td><td>10.8858</td><td>0.006</td><td>rered</td><td>spect</td><td>6404.07</td><td>107.76</td><td>4.30389</td><td>0.0854392</td><td>-0.6</td><td>0.12</td><td>1.32552</td><td>0.0547688</td><td>1.29</td><td>0.201841</td><td>0.553901</td><td>0.122882</td><td>DWARF</td><td>2.66250777</td><td>0.1229225</td><td>333.453</td><td>2.402</td><td>0.0242846</td><td>0.0100505846</td><td>77</td><td>0.00598344952</td><td>N/A</td><td>N</td><td>0.00145012152</td><td>0.0103777</td><td>0.00972347</td><td>schlegel</td><td>0.138792</td><td>0.26489</td><td>0.0556266</td><td>0.0539111</td><td>0.110996</td><td>0.134767</td><td>0.0703183</td><td>0.10056</td><td>0.122903</td><td>0.122942</td><td>2.385</td><td>2.419</td><td>bj2018</td><td>128.371</td><td>87.1495</td><td>spect</td><td>11.5725</td><td>0.001416</td><td>10.8315</td><td>0.001285</td><td>1</td><td>N</td><td>tycho2v3</td><td>tycho2b3</td><td>N/A</td><td>0.701064465211099</td><td>0.554017317754182</td><td>34.4481696725391</td><td>-72.4175753194275</td><td>0.0217012028773991</td><td>0.0179917203604472</td><td>1</td><td>0</td><td>518150217</td><td>0.0694445</td><td>0.10138897</td><td>0.11250009</td><td>0.4609423773575478</td><td>0.4577526606916515</td><td>0.4567945412636466</td></tr>\n",
       "<tr><td>24672008</td><td>3</td><td>1</td><td>0.012634336948394777</td><td>0.7286541899419359</td><td>2.4993476637364016</td><td>0.8424150799198755</td><td>0.0006754832200712138</td><td>0.0006170244614573783</td><td>0.0005852819530078737</td><td>20190415</td><td>--</td><td>N/A</td><td>088-006116</td><td>02174403-7234346</td><td>N</td><td>J021744.49-723432.9</td><td>4644553478998527104</td><td>33528124</td><td>--</td><td>STAR</td><td>tmgaia2</td><td>34.4336744945758</td><td>-72.5762402095853</td><td>tmgaia2</td><td>178.354</td><td>0.0331487</td><td>131.544</td><td>0.0284528</td><td>gaia2</td><td>11.6551</td><td>0.0169377</td><td>gaia2</td><td>294.263282412239</td><td>-43.0696104538473</td><td>317.769209310265</td><td>-70.5160558879286</td><td>15.634</td><td>0.024</td><td>14.134</td><td>0.04</td><td>nan</td><td>nan</td><td>nan</td><td>nan</td><td>nan</td><td>nan</td><td>nan</td><td>nan</td><td>nan</td><td>nan</td><td>11.025</td><td>0.026</td><td>10.474</td><td>0.029</td><td>10.246</td><td>0.025</td><td>AAA-222-111-000-0-0</td><td>nan</td><td>10.065</td><td>0.023</td><td>9.999</td><td>0.02</td><td>9.809</td><td>0.035</td><td>8.892</td><td>nan</td><td>13.3904</td><td>0.000448</td><td>12.3603</td><td>0.00735645</td><td>cdwrf</td><td>cdwrf</td><td>3735.0</td><td>157.0</td><td>4.72886</td><td>0.0086209</td><td>-0.528549</td><td>0.0864722</td><td>0.509778</td><td>0.0153039</td><td>0.507636</td><td>0.0204006</td><td>3.83186</td><td>0.191317</td><td>DWARF</td><td>0.0455637351</td><td>0.0104462272</td><td>85.5865</td><td>0.125</td><td>0.0</td><td>0.0</td><td>82</td><td>0.0340252</td><td>N/A</td><td>N</td><td>0.002357681</td><td>0.0</td><td>0.0</td><td>N/A</td><td>nan</td><td>nan</td><td>nan</td><td>nan</td><td>nan</td><td>nan</td><td>nan</td><td>nan</td><td>nan</td><td>nan</td><td>0.1248</td><td>0.1252</td><td>bj2018</td><td>nan</td><td>nan</td><td>cdwrf</td><td>14.4237</td><td>0.002161</td><td>12.3819</td><td>0.001503</td><td>1</td><td>N</td><td>cdwrf</td><td>apassdr9</td><td>cooldwarfs_v8</td><td>0.637643865794281</td><td>0.441248549138486</td><td>34.4362390220148</td><td>-72.5756738559778</td><td>0.0164224430327239</td><td>0.0142496658998892</td><td>1</td><td>0</td><td>518150259</td><td>0.00416667</td><td>0.20555572</td><td>0.2083335</td><td>0.0689755413547862</td><td>0.006905549449161259</td><td>0.006847906529613067</td></tr>\n",
       "<tr><td>24672008</td><td>3</td><td>2</td><td>0.012531429529190173</td><td>4.309963614923312</td><td>8.392120726899199</td><td>5.702159543457733</td><td>0.0030272080951333808</td><td>0.002757157347126219</td><td>0.0026864330436162805</td><td>20190415</td><td>--</td><td>N/A</td><td>088-006116</td><td>02174403-7234346</td><td>N</td><td>J021744.49-723432.9</td><td>4644553478998527104</td><td>33528124</td><td>--</td><td>STAR</td><td>tmgaia2</td><td>34.4336744945758</td><td>-72.5762402095853</td><td>tmgaia2</td><td>178.354</td><td>0.0331487</td><td>131.544</td><td>0.0284528</td><td>gaia2</td><td>11.6551</td><td>0.0169377</td><td>gaia2</td><td>294.263282412239</td><td>-43.0696104538473</td><td>317.769209310265</td><td>-70.5160558879286</td><td>15.634</td><td>0.024</td><td>14.134</td><td>0.04</td><td>nan</td><td>nan</td><td>nan</td><td>nan</td><td>nan</td><td>nan</td><td>nan</td><td>nan</td><td>nan</td><td>nan</td><td>11.025</td><td>0.026</td><td>10.474</td><td>0.029</td><td>10.246</td><td>0.025</td><td>AAA-222-111-000-0-0</td><td>nan</td><td>10.065</td><td>0.023</td><td>9.999</td><td>0.02</td><td>9.809</td><td>0.035</td><td>8.892</td><td>nan</td><td>13.3904</td><td>0.000448</td><td>12.3603</td><td>0.00735645</td><td>cdwrf</td><td>cdwrf</td><td>3735.0</td><td>157.0</td><td>4.72886</td><td>0.0086209</td><td>-0.528549</td><td>0.0864722</td><td>0.509778</td><td>0.0153039</td><td>0.507636</td><td>0.0204006</td><td>3.83186</td><td>0.191317</td><td>DWARF</td><td>0.0455637351</td><td>0.0104462272</td><td>85.5865</td><td>0.125</td><td>0.0</td><td>0.0</td><td>82</td><td>0.0340252</td><td>N/A</td><td>N</td><td>0.002357681</td><td>0.0</td><td>0.0</td><td>N/A</td><td>nan</td><td>nan</td><td>nan</td><td>nan</td><td>nan</td><td>nan</td><td>nan</td><td>nan</td><td>nan</td><td>nan</td><td>0.1248</td><td>0.1252</td><td>bj2018</td><td>nan</td><td>nan</td><td>cdwrf</td><td>14.4237</td><td>0.002161</td><td>12.3819</td><td>0.001503</td><td>1</td><td>N</td><td>cdwrf</td><td>apassdr9</td><td>cooldwarfs_v8</td><td>0.637643865794281</td><td>0.441248549138486</td><td>34.4362390220148</td><td>-72.5756738559778</td><td>0.0164224430327239</td><td>0.0142496658998892</td><td>1</td><td>0</td><td>518150259</td><td>0.00694445</td><td>0.15138901000000002</td><td>0.15555568</td><td>0.0686382006475858</td><td>0.024404931520461092</td><td>0.024274567034454173</td></tr>\n",
       "<tr><td>24672008</td><td>3</td><td>13</td><td>0.012451925873756542</td><td>2.840351343613236</td><td>6.7052490555562265</td><td>4.982153746816373</td><td>0.002758160845677397</td><td>0.002576163615599857</td><td>0.002467471984498505</td><td>20190415</td><td>--</td><td>N/A</td><td>088-006116</td><td>02174403-7234346</td><td>N</td><td>J021744.49-723432.9</td><td>4644553478998527104</td><td>33528124</td><td>--</td><td>STAR</td><td>tmgaia2</td><td>34.4336744945758</td><td>-72.5762402095853</td><td>tmgaia2</td><td>178.354</td><td>0.0331487</td><td>131.544</td><td>0.0284528</td><td>gaia2</td><td>11.6551</td><td>0.0169377</td><td>gaia2</td><td>294.263282412239</td><td>-43.0696104538473</td><td>317.769209310265</td><td>-70.5160558879286</td><td>15.634</td><td>0.024</td><td>14.134</td><td>0.04</td><td>nan</td><td>nan</td><td>nan</td><td>nan</td><td>nan</td><td>nan</td><td>nan</td><td>nan</td><td>nan</td><td>nan</td><td>11.025</td><td>0.026</td><td>10.474</td><td>0.029</td><td>10.246</td><td>0.025</td><td>AAA-222-111-000-0-0</td><td>nan</td><td>10.065</td><td>0.023</td><td>9.999</td><td>0.02</td><td>9.809</td><td>0.035</td><td>8.892</td><td>nan</td><td>13.3904</td><td>0.000448</td><td>12.3603</td><td>0.00735645</td><td>cdwrf</td><td>cdwrf</td><td>3735.0</td><td>157.0</td><td>4.72886</td><td>0.0086209</td><td>-0.528549</td><td>0.0864722</td><td>0.509778</td><td>0.0153039</td><td>0.507636</td><td>0.0204006</td><td>3.83186</td><td>0.191317</td><td>DWARF</td><td>0.0455637351</td><td>0.0104462272</td><td>85.5865</td><td>0.125</td><td>0.0</td><td>0.0</td><td>82</td><td>0.0340252</td><td>N/A</td><td>N</td><td>0.002357681</td><td>0.0</td><td>0.0</td><td>N/A</td><td>nan</td><td>nan</td><td>nan</td><td>nan</td><td>nan</td><td>nan</td><td>nan</td><td>nan</td><td>nan</td><td>nan</td><td>0.1248</td><td>0.1252</td><td>bj2018</td><td>nan</td><td>nan</td><td>cdwrf</td><td>14.4237</td><td>0.002161</td><td>12.3819</td><td>0.001503</td><td>1</td><td>N</td><td>cdwrf</td><td>apassdr9</td><td>cooldwarfs_v8</td><td>0.637643865794281</td><td>0.441248549138486</td><td>34.4362390220148</td><td>-72.5756738559778</td><td>0.0164224430327239</td><td>0.0142496658998892</td><td>1</td><td>0</td><td>518150259</td><td>0.00416667</td><td>0.07083339</td><td>0.09722230000000001</td><td>0.0619929747843586</td><td>0.014824130559866625</td><td>0.011906629228535949</td></tr>\n",
       "<tr><td>24692702</td><td>2</td><td>2</td><td>0.0058454275131225595</td><td>5.206068670814903</td><td>9.850526614418948</td><td>4.027767708257812</td><td>0.2286965921733565</td><td>0.06376634156895007</td><td>0.0455876151510635</td><td>20190415</td><td>--</td><td>9150-00946-1</td><td>081-003629</td><td>02181069-7352196</td><td>N</td><td>J021810.69-735219.5</td><td>4643574952305830400</td><td>33528245</td><td>--</td><td>STAR</td><td>tmgaia2</td><td>34.5445645571174</td><td>-73.8721345296519</td><td>tmgaia2</td><td>-0.596054</td><td>0.0450867</td><td>10.9411</td><td>0.0380853</td><td>gaia2</td><td>5.30746</td><td>0.0201792</td><td>gaia2</td><td>295.006139062424</td><td>-41.8947627507098</td><td>313.919124373061</td><td>-70.7397263108381</td><td>11.826</td><td>0.157</td><td>11.267</td><td>0.011</td><td>nan</td><td>nan</td><td>nan</td><td>nan</td><td>nan</td><td>nan</td><td>nan</td><td>nan</td><td>nan</td><td>nan</td><td>10.155</td><td>0.023</td><td>9.834</td><td>0.024</td><td>9.742</td><td>0.021</td><td>AAA-222-111-000-0-0</td><td>nan</td><td>9.716</td><td>0.023</td><td>9.76</td><td>0.02</td><td>9.705</td><td>0.034</td><td>9.124</td><td>nan</td><td>11.1543</td><td>0.000506</td><td>10.7132</td><td>0.006</td><td>rered</td><td>gaia2</td><td>5842.0</td><td>128.348</td><td>4.49148</td><td>0.0765498</td><td>nan</td><td>nan</td><td>0.963581</td><td>0.0447965</td><td>1.05</td><td>0.135209</td><td>1.17361</td><td>0.248563</td><td>DWARF</td><td>0.97435534</td><td>0.0372535</td><td>187.395</td><td>0.714</td><td>0.0317292</td><td>0.0103266053</td><td>78</td><td>0.00553017342</td><td>N/A</td><td>N</td><td>0.00265983259</td><td>0.0131199</td><td>0.00753331</td><td>schlegel</td><td>0.115898</td><td>0.15452</td><td>0.0611513</td><td>0.0284417</td><td>0.213077</td><td>0.284049</td><td>0.0741052</td><td>0.0789943</td><td>0.0354442</td><td>0.0390628</td><td>0.712</td><td>0.716</td><td>bj2018</td><td>135.147</td><td>121.548</td><td>dered</td><td>11.5074</td><td>0.001553</td><td>10.666</td><td>0.001212</td><td>1</td><td>N</td><td>tycho2v3</td><td>tycho2b3</td><td>N/A</td><td>0.874561903757437</td><td>0.590601769045822</td><td>34.5445553184171</td><td>-73.8720874221379</td><td>0.0208870987753918</td><td>0.018171648781334</td><td>1</td><td>0</td><td>518150614</td><td>0.0694445</td><td>0.09305563</td><td>0.09861119</td><td>0.3692242077342809</td><td>0.3671083680410408</td><td>0.3668819856334358</td></tr>\n",
       "<tr><td>24692702</td><td>2</td><td>13</td><td>0.006332159042358398</td><td>5.120559662285473</td><td>10.279587003182593</td><td>4.009859541235404</td><td>0.19231900033596894</td><td>0.08529180378293835</td><td>0.03789741373421217</td><td>20190415</td><td>--</td><td>9150-00946-1</td><td>081-003629</td><td>02181069-7352196</td><td>N</td><td>J021810.69-735219.5</td><td>4643574952305830400</td><td>33528245</td><td>--</td><td>STAR</td><td>tmgaia2</td><td>34.5445645571174</td><td>-73.8721345296519</td><td>tmgaia2</td><td>-0.596054</td><td>0.0450867</td><td>10.9411</td><td>0.0380853</td><td>gaia2</td><td>5.30746</td><td>0.0201792</td><td>gaia2</td><td>295.006139062424</td><td>-41.8947627507098</td><td>313.919124373061</td><td>-70.7397263108381</td><td>11.826</td><td>0.157</td><td>11.267</td><td>0.011</td><td>nan</td><td>nan</td><td>nan</td><td>nan</td><td>nan</td><td>nan</td><td>nan</td><td>nan</td><td>nan</td><td>nan</td><td>10.155</td><td>0.023</td><td>9.834</td><td>0.024</td><td>9.742</td><td>0.021</td><td>AAA-222-111-000-0-0</td><td>nan</td><td>9.716</td><td>0.023</td><td>9.76</td><td>0.02</td><td>9.705</td><td>0.034</td><td>9.124</td><td>nan</td><td>11.1543</td><td>0.000506</td><td>10.7132</td><td>0.006</td><td>rered</td><td>gaia2</td><td>5842.0</td><td>128.348</td><td>4.49148</td><td>0.0765498</td><td>nan</td><td>nan</td><td>0.963581</td><td>0.0447965</td><td>1.05</td><td>0.135209</td><td>1.17361</td><td>0.248563</td><td>DWARF</td><td>0.97435534</td><td>0.0372535</td><td>187.395</td><td>0.714</td><td>0.0317292</td><td>0.0103266053</td><td>78</td><td>0.00553017342</td><td>N/A</td><td>N</td><td>0.00265983259</td><td>0.0131199</td><td>0.00753331</td><td>schlegel</td><td>0.115898</td><td>0.15452</td><td>0.0611513</td><td>0.0284417</td><td>0.213077</td><td>0.284049</td><td>0.0741052</td><td>0.0789943</td><td>0.0354442</td><td>0.0390628</td><td>0.712</td><td>0.716</td><td>bj2018</td><td>135.147</td><td>121.548</td><td>dered</td><td>11.5074</td><td>0.001553</td><td>10.666</td><td>0.001212</td><td>1</td><td>N</td><td>tycho2v3</td><td>tycho2b3</td><td>N/A</td><td>0.874561903757437</td><td>0.590601769045822</td><td>34.5445553184171</td><td>-73.8720874221379</td><td>0.0208870987753918</td><td>0.018171648781334</td><td>1</td><td>0</td><td>518150614</td><td>0.00277778</td><td>0.0694445</td><td>10.27361933</td><td>0.4499097768072442</td><td>0.4028234164561205</td><td>0.14055269600368386</td></tr>\n",
       "<tr><td>24692708</td><td>2</td><td>2</td><td>0.00684295296669024</td><td>0.5452106256943327</td><td>0.6958265437379371</td><td>1.0170866157589382</td><td>0.0006200313061615692</td><td>0.0005510534600304493</td><td>0.0005196986389490698</td><td>20190415</td><td>--</td><td>N/A</td><td>081-003640</td><td>02184401-7352479</td><td>N</td><td>J021844.17-735247.7</td><td>4643574741850928128</td><td>33528412</td><td>--</td><td>STAR</td><td>tmgaia2</td><td>34.6834126846814</td><td>-73.8800085432223</td><td>tmgaia2</td><td>53.5643</td><td>0.0498801</td><td>-6.27226</td><td>0.0437782</td><td>gaia2</td><td>8.97561</td><td>0.0233318</td><td>gaia2</td><td>294.96439282659</td><td>-41.8706195712244</td><td>313.90878553449</td><td>-70.7789346076664</td><td>13.78</td><td>0.04</td><td>12.477</td><td>0.069</td><td>nan</td><td>nan</td><td>nan</td><td>nan</td><td>nan</td><td>nan</td><td>nan</td><td>nan</td><td>nan</td><td>nan</td><td>10.395</td><td>0.027</td><td>9.759</td><td>0.028</td><td>9.586</td><td>0.024</td><td>EEE-222-111-000-0-0</td><td>nan</td><td>9.458</td><td>0.023</td><td>9.517</td><td>0.019</td><td>9.415</td><td>0.028</td><td>8.712</td><td>nan</td><td>12.155</td><td>0.000205</td><td>11.415</td><td>0.006</td><td>rered</td><td>spect</td><td>4484.0</td><td>123.288</td><td>4.60767</td><td>0.100148</td><td>-0.22</td><td>0.08</td><td>0.688252</td><td>0.0555905</td><td>0.7</td><td>0.0867993</td><td>2.14712</td><td>0.647695</td><td>DWARF</td><td>0.172525063</td><td>0.00961489</td><td>111.056</td><td>0.29</td><td>0.022581</td><td>0.0092223</td><td>82</td><td>0.05241372</td><td>N/A</td><td>N</td><td>0.00270293816</td><td>0.0104212</td><td>0.0080234</td><td>schlegel</td><td>0.0677826</td><td>0.105816</td><td>0.0433724</td><td>0.0678085</td><td>0.611057</td><td>0.684332</td><td>0.0853376</td><td>0.114959</td><td>0.00829858</td><td>0.0109312</td><td>0.29</td><td>0.29</td><td>bj2018</td><td>146.042</td><td>100.534</td><td>spect</td><td>12.8651</td><td>0.001351</td><td>11.3613</td><td>0.000852</td><td>1</td><td>N</td><td>ucac4</td><td>apassdr9</td><td>N/A</td><td>0.967607658728188</td><td>0.678866099831499</td><td>34.6842433138213</td><td>-73.8800355503924</td><td>0.0237732143893456</td><td>0.0203139839524464</td><td>1</td><td>0</td><td>518150620</td><td>0.00277778</td><td>0.07361117</td><td>0.08333339999999999</td><td>0.051718855282416216</td><td>0.00459534127203999</td><td>0.004394007935472968</td></tr>\n",
       "<tr><td>24692708</td><td>2</td><td>13</td><td>0.0068720191717147605</td><td>5.048893978224912</td><td>6.788162412482741</td><td>0.824428183260346</td><td>0.0020395420828186158</td><td>0.0008613052083082688</td><td>0.000679352232695449</td><td>20190415</td><td>--</td><td>N/A</td><td>081-003640</td><td>02184401-7352479</td><td>N</td><td>J021844.17-735247.7</td><td>4643574741850928128</td><td>33528412</td><td>--</td><td>STAR</td><td>tmgaia2</td><td>34.6834126846814</td><td>-73.8800085432223</td><td>tmgaia2</td><td>53.5643</td><td>0.0498801</td><td>-6.27226</td><td>0.0437782</td><td>gaia2</td><td>8.97561</td><td>0.0233318</td><td>gaia2</td><td>294.96439282659</td><td>-41.8706195712244</td><td>313.90878553449</td><td>-70.7789346076664</td><td>13.78</td><td>0.04</td><td>12.477</td><td>0.069</td><td>nan</td><td>nan</td><td>nan</td><td>nan</td><td>nan</td><td>nan</td><td>nan</td><td>nan</td><td>nan</td><td>nan</td><td>10.395</td><td>0.027</td><td>9.759</td><td>0.028</td><td>9.586</td><td>0.024</td><td>EEE-222-111-000-0-0</td><td>nan</td><td>9.458</td><td>0.023</td><td>9.517</td><td>0.019</td><td>9.415</td><td>0.028</td><td>8.712</td><td>nan</td><td>12.155</td><td>0.000205</td><td>11.415</td><td>0.006</td><td>rered</td><td>spect</td><td>4484.0</td><td>123.288</td><td>4.60767</td><td>0.100148</td><td>-0.22</td><td>0.08</td><td>0.688252</td><td>0.0555905</td><td>0.7</td><td>0.0867993</td><td>2.14712</td><td>0.647695</td><td>DWARF</td><td>0.172525063</td><td>0.00961489</td><td>111.056</td><td>0.29</td><td>0.022581</td><td>0.0092223</td><td>82</td><td>0.05241372</td><td>N/A</td><td>N</td><td>0.00270293816</td><td>0.0104212</td><td>0.0080234</td><td>schlegel</td><td>0.0677826</td><td>0.105816</td><td>0.0433724</td><td>0.0678085</td><td>0.611057</td><td>0.684332</td><td>0.0853376</td><td>0.114959</td><td>0.00829858</td><td>0.0109312</td><td>0.29</td><td>0.29</td><td>bj2018</td><td>146.042</td><td>100.534</td><td>spect</td><td>12.8651</td><td>0.001351</td><td>11.3613</td><td>0.000852</td><td>1</td><td>N</td><td>ucac4</td><td>apassdr9</td><td>N/A</td><td>0.967607658728188</td><td>0.678866099831499</td><td>34.6842433138213</td><td>-73.8800355503924</td><td>0.0237732143893456</td><td>0.0203139839524464</td><td>1</td><td>0</td><td>518150620</td><td>0.07361117</td><td>0.07638895</td><td>0.08333339999999999</td><td>0.007581407697277059</td><td>0.007452881839633358</td><td>0.007140979841627705</td></tr>\n",
       "<tr><td>24694131</td><td>2</td><td>2</td><td>0.0036868453025817867</td><td>0.6702563273500294</td><td>1.0187484183772642</td><td>5.384227716343125</td><td>0.000615355808395575</td><td>0.00048244481617576614</td><td>0.0004737708245567084</td><td>20190415</td><td>--</td><td>9349-00983-1</td><td>069-001729</td><td>02193614-7614125</td><td>N</td><td>J021936.43-761412.4</td><td>4634095650245969536</td><td>34574202</td><td>--</td><td>STAR</td><td>tmgaia2</td><td>34.9006996938761</td><td>-76.2368173154562</td><td>tmgaia2</td><td>94.2385</td><td>0.0542136</td><td>5.76543</td><td>0.0449027</td><td>gaia2</td><td>5.25499</td><td>0.0235552</td><td>gaia2</td><td>296.265529153278</td><td>-39.7286797062405</td><td>306.732190371929</td><td>-70.9588864116055</td><td>11.339</td><td>0.104</td><td>10.809</td><td>0.007</td><td>nan</td><td>nan</td><td>nan</td><td>nan</td><td>nan</td><td>nan</td><td>nan</td><td>nan</td><td>nan</td><td>nan</td><td>9.729</td><td>0.024</td><td>9.4</td><td>0.024</td><td>9.4</td><td>0.023</td><td>AAA-222-111-000-0-0</td><td>nan</td><td>9.346</td><td>0.024</td><td>9.374</td><td>0.02</td><td>9.3</td><td>0.029</td><td>8.718</td><td>0.278</td><td>10.7262</td><td>0.000282</td><td>10.3164</td><td>0.006</td><td>rered</td><td>gaia2</td><td>6037.0</td><td>128.59</td><td>4.40292</td><td>0.0774939</td><td>nan</td><td>nan</td><td>1.102</td><td>0.0488241</td><td>1.12</td><td>0.144451</td><td>0.836902</td><td>0.173453</td><td>DWARF</td><td>1.45325434</td><td>0.058743</td><td>189.257</td><td>0.85</td><td>0.0297038</td><td>0.0105157848</td><td>69</td><td>0.00129472651</td><td>N/A</td><td>N</td><td>0.00282809814</td><td>0.0114497</td><td>0.00958187</td><td>schlegel</td><td>0.144418</td><td>0.144483</td><td>0.0349206</td><td>0.0627276</td><td>0.147715</td><td>0.199191</td><td>0.0801018</td><td>0.074886</td><td>0.0419541</td><td>0.0755319</td><td>0.846</td><td>0.854</td><td>bj2018</td><td>115.212</td><td>141.969</td><td>dered</td><td>11.0458</td><td>0.001061</td><td>10.2665</td><td>0.000962</td><td>1</td><td>N</td><td>tycho2v3</td><td>tycho2b3</td><td>N/A</td><td>1.06837774705749</td><td>0.696280463122811</td><td>34.9024051714468</td><td>-76.2367924979423</td><td>0.0245157770333192</td><td>0.0200456494056185</td><td>1</td><td>0</td><td>518151835</td><td>0.00555556</td><td>0.00277778</td><td>0.20555572</td><td>0.049791753933967016</td><td>0.04969727060492669</td><td>0.003899300383146625</td></tr>\n",
       "<tr><td>24694131</td><td>2</td><td>13</td><td>0.0038547515869140634</td><td>2.3966368138599847</td><td>2.08428690412768</td><td>1.1338102186801635</td><td>0.0016877939278981905</td><td>0.0008964323714074318</td><td>0.0008341783715518838</td><td>20190415</td><td>--</td><td>9349-00983-1</td><td>069-001729</td><td>02193614-7614125</td><td>N</td><td>J021936.43-761412.4</td><td>4634095650245969536</td><td>34574202</td><td>--</td><td>STAR</td><td>tmgaia2</td><td>34.9006996938761</td><td>-76.2368173154562</td><td>tmgaia2</td><td>94.2385</td><td>0.0542136</td><td>5.76543</td><td>0.0449027</td><td>gaia2</td><td>5.25499</td><td>0.0235552</td><td>gaia2</td><td>296.265529153278</td><td>-39.7286797062405</td><td>306.732190371929</td><td>-70.9588864116055</td><td>11.339</td><td>0.104</td><td>10.809</td><td>0.007</td><td>nan</td><td>nan</td><td>nan</td><td>nan</td><td>nan</td><td>nan</td><td>nan</td><td>nan</td><td>nan</td><td>nan</td><td>9.729</td><td>0.024</td><td>9.4</td><td>0.024</td><td>9.4</td><td>0.023</td><td>AAA-222-111-000-0-0</td><td>nan</td><td>9.346</td><td>0.024</td><td>9.374</td><td>0.02</td><td>9.3</td><td>0.029</td><td>8.718</td><td>0.278</td><td>10.7262</td><td>0.000282</td><td>10.3164</td><td>0.006</td><td>rered</td><td>gaia2</td><td>6037.0</td><td>128.59</td><td>4.40292</td><td>0.0774939</td><td>nan</td><td>nan</td><td>1.102</td><td>0.0488241</td><td>1.12</td><td>0.144451</td><td>0.836902</td><td>0.173453</td><td>DWARF</td><td>1.45325434</td><td>0.058743</td><td>189.257</td><td>0.85</td><td>0.0297038</td><td>0.0105157848</td><td>69</td><td>0.00129472651</td><td>N/A</td><td>N</td><td>0.00282809814</td><td>0.0114497</td><td>0.00958187</td><td>schlegel</td><td>0.144418</td><td>0.144483</td><td>0.0349206</td><td>0.0627276</td><td>0.147715</td><td>0.199191</td><td>0.0801018</td><td>0.074886</td><td>0.0419541</td><td>0.0755319</td><td>0.846</td><td>0.854</td><td>bj2018</td><td>115.212</td><td>141.969</td><td>dered</td><td>11.0458</td><td>0.001061</td><td>10.2665</td><td>0.000962</td><td>1</td><td>N</td><td>tycho2v3</td><td>tycho2b3</td><td>N/A</td><td>1.06837774705749</td><td>0.696280463122811</td><td>34.9024051714468</td><td>-76.2367924979423</td><td>0.0245157770333192</td><td>0.0200456494056185</td><td>1</td><td>0</td><td>518151835</td><td>0.00416667</td><td>0.08194451</td><td>0.08611118000000001</td><td>0.06279733860163203</td><td>0.012717746788103213</td><td>0.012699931743418444</td></tr>\n",
       "<tr><td>...</td><td>...</td><td>...</td><td>...</td><td>...</td><td>...</td><td>...</td><td>...</td><td>...</td><td>...</td><td>...</td><td>...</td><td>...</td><td>...</td><td>...</td><td>...</td><td>...</td><td>...</td><td>...</td><td>...</td><td>...</td><td>...</td><td>...</td><td>...</td><td>...</td><td>...</td><td>...</td><td>...</td><td>...</td><td>...</td><td>...</td><td>...</td><td>...</td><td>...</td><td>...</td><td>...</td><td>...</td><td>...</td><td>...</td><td>...</td><td>...</td><td>...</td><td>...</td><td>...</td><td>...</td><td>...</td><td>...</td><td>...</td><td>...</td><td>...</td><td>...</td><td>...</td><td>...</td><td>...</td><td>...</td><td>...</td><td>...</td><td>...</td><td>...</td><td>...</td><td>...</td><td>...</td><td>...</td><td>...</td><td>...</td><td>...</td><td>...</td><td>...</td><td>...</td><td>...</td><td>...</td><td>...</td><td>...</td><td>...</td><td>...</td><td>...</td><td>...</td><td>...</td><td>...</td><td>...</td><td>...</td><td>...</td><td>...</td><td>...</td><td>...</td><td>...</td><td>...</td><td>...</td><td>...</td><td>...</td><td>...</td><td>...</td><td>...</td><td>...</td><td>...</td><td>...</td><td>...</td><td>...</td><td>...</td><td>...</td><td>...</td><td>...</td><td>...</td><td>...</td><td>...</td><td>...</td><td>...</td><td>...</td><td>...</td><td>...</td><td>...</td><td>...</td><td>...</td><td>...</td><td>...</td><td>...</td><td>...</td><td>...</td><td>...</td><td>...</td><td>...</td><td>...</td><td>...</td><td>...</td><td>...</td><td>...</td><td>...</td><td>...</td><td>...</td><td>...</td><td>...</td><td>...</td><td>...</td><td>...</td><td>...</td><td>...</td><td>...</td><td>...</td><td>...</td><td>...</td></tr>\n",
       "<tr><td>471015740</td><td>12</td><td>5</td><td>0.010006073117255987</td><td>5.6656978226505545</td><td>3.853517101694563</td><td>10.576666793587938</td><td>0.030733657998062564</td><td>0.01177159402440693</td><td>0.010262071020017744</td><td>20190415</td><td>--</td><td>N/A</td><td>145-004854</td><td>04555759-6109459</td><td>N</td><td>N/A</td><td>N/A</td><td>N/A</td><td>--</td><td>STAR</td><td>cooldwarfs</td><td>73.99</td><td>-61.1628</td><td>cooldwarfs</td><td>nan</td><td>nan</td><td>nan</td><td>nan</td><td>N/A</td><td>nan</td><td>nan</td><td>N/A</td><td>270.835966</td><td>-37.350777</td><td>30.033885</td><td>-81.160977</td><td>nan</td><td>nan</td><td>11.91</td><td>0.2</td><td>nan</td><td>nan</td><td>nan</td><td>nan</td><td>nan</td><td>nan</td><td>nan</td><td>nan</td><td>nan</td><td>nan</td><td>9.042</td><td>0.03</td><td>8.507</td><td>0.033</td><td>8.312</td><td>0.022</td><td>N/A</td><td>nan</td><td>nan</td><td>nan</td><td>nan</td><td>nan</td><td>nan</td><td>nan</td><td>nan</td><td>nan</td><td>nan</td><td>nan</td><td>10.328</td><td>0.059</td><td>cdwrf</td><td>cdwrf</td><td>nan</td><td>nan</td><td>4.90016</td><td>0.381047</td><td>nan</td><td>nan</td><td>0.367</td><td>0.058</td><td>0.39</td><td>0.083</td><td>7.88981</td><td>3.74067</td><td>DWARF</td><td>0.02487891</td><td>0.007863633</td><td>nan</td><td>nan</td><td>nan</td><td>nan</td><td>--</td><td>nan</td><td>N/A</td><td>N</td><td>nan</td><td>nan</td><td>nan</td><td>N/A</td><td>nan</td><td>nan</td><td>nan</td><td>nan</td><td>nan</td><td>nan</td><td>nan</td><td>nan</td><td>nan</td><td>nan</td><td>nan</td><td>nan</td><td>N/A</td><td>nan</td><td>nan</td><td>N/A</td><td>nan</td><td>nan</td><td>nan</td><td>nan</td><td>--</td><td>N</td><td>cdwrf</td><td>N/A</td><td>N/A</td><td>0.0817733865468688</td><td>0.184321735778672</td><td>73.9884999559197</td><td>-61.162548266339</td><td>0.0817733865468688</td><td>0.184321735778672</td><td>1</td><td>0</td><td>529487153</td><td>0.0694445</td><td>0.25972243</td><td>0.26666688</td><td>0.3749448238437534</td><td>0.19055167247272675</td><td>0.190056892336504</td></tr>\n",
       "<tr><td>471015740</td><td>12</td><td>6</td><td>0.00953298807144165</td><td>5.364781999903434</td><td>8.625749153805545</td><td>4.107031966170862</td><td>0.01731302462014597</td><td>0.006300073711055979</td><td>0.005469313692642743</td><td>20190415</td><td>--</td><td>N/A</td><td>145-004854</td><td>04555759-6109459</td><td>N</td><td>N/A</td><td>N/A</td><td>N/A</td><td>--</td><td>STAR</td><td>cooldwarfs</td><td>73.99</td><td>-61.1628</td><td>cooldwarfs</td><td>nan</td><td>nan</td><td>nan</td><td>nan</td><td>N/A</td><td>nan</td><td>nan</td><td>N/A</td><td>270.835966</td><td>-37.350777</td><td>30.033885</td><td>-81.160977</td><td>nan</td><td>nan</td><td>11.91</td><td>0.2</td><td>nan</td><td>nan</td><td>nan</td><td>nan</td><td>nan</td><td>nan</td><td>nan</td><td>nan</td><td>nan</td><td>nan</td><td>9.042</td><td>0.03</td><td>8.507</td><td>0.033</td><td>8.312</td><td>0.022</td><td>N/A</td><td>nan</td><td>nan</td><td>nan</td><td>nan</td><td>nan</td><td>nan</td><td>nan</td><td>nan</td><td>nan</td><td>nan</td><td>nan</td><td>10.328</td><td>0.059</td><td>cdwrf</td><td>cdwrf</td><td>nan</td><td>nan</td><td>4.90016</td><td>0.381047</td><td>nan</td><td>nan</td><td>0.367</td><td>0.058</td><td>0.39</td><td>0.083</td><td>7.88981</td><td>3.74067</td><td>DWARF</td><td>0.02487891</td><td>0.007863633</td><td>nan</td><td>nan</td><td>nan</td><td>nan</td><td>--</td><td>nan</td><td>N/A</td><td>N</td><td>nan</td><td>nan</td><td>nan</td><td>N/A</td><td>nan</td><td>nan</td><td>nan</td><td>nan</td><td>nan</td><td>nan</td><td>nan</td><td>nan</td><td>nan</td><td>nan</td><td>nan</td><td>nan</td><td>N/A</td><td>nan</td><td>nan</td><td>N/A</td><td>nan</td><td>nan</td><td>nan</td><td>nan</td><td>--</td><td>N</td><td>cdwrf</td><td>N/A</td><td>N/A</td><td>0.0817733865468688</td><td>0.184321735778672</td><td>73.9884999559197</td><td>-61.162548266339</td><td>0.0817733865468688</td><td>0.184321735778672</td><td>1</td><td>0</td><td>529487153</td><td>0.0694445</td><td>0.17777792</td><td>0.17500014</td><td>0.11433627256572194</td><td>0.10754993378107486</td><td>0.10750264890956483</td></tr>\n",
       "<tr><td>471015740</td><td>12</td><td>8</td><td>0.01004740595817566</td><td>5.896556848093742</td><td>2.431599634089228</td><td>0.8033542625278727</td><td>0.03261744968818822</td><td>0.03068300384456147</td><td>0.026100566178492383</td><td>20190415</td><td>--</td><td>N/A</td><td>145-004854</td><td>04555759-6109459</td><td>N</td><td>N/A</td><td>N/A</td><td>N/A</td><td>--</td><td>STAR</td><td>cooldwarfs</td><td>73.99</td><td>-61.1628</td><td>cooldwarfs</td><td>nan</td><td>nan</td><td>nan</td><td>nan</td><td>N/A</td><td>nan</td><td>nan</td><td>N/A</td><td>270.835966</td><td>-37.350777</td><td>30.033885</td><td>-81.160977</td><td>nan</td><td>nan</td><td>11.91</td><td>0.2</td><td>nan</td><td>nan</td><td>nan</td><td>nan</td><td>nan</td><td>nan</td><td>nan</td><td>nan</td><td>nan</td><td>nan</td><td>9.042</td><td>0.03</td><td>8.507</td><td>0.033</td><td>8.312</td><td>0.022</td><td>N/A</td><td>nan</td><td>nan</td><td>nan</td><td>nan</td><td>nan</td><td>nan</td><td>nan</td><td>nan</td><td>nan</td><td>nan</td><td>nan</td><td>10.328</td><td>0.059</td><td>cdwrf</td><td>cdwrf</td><td>nan</td><td>nan</td><td>4.90016</td><td>0.381047</td><td>nan</td><td>nan</td><td>0.367</td><td>0.058</td><td>0.39</td><td>0.083</td><td>7.88981</td><td>3.74067</td><td>DWARF</td><td>0.02487891</td><td>0.007863633</td><td>nan</td><td>nan</td><td>nan</td><td>nan</td><td>--</td><td>nan</td><td>N/A</td><td>N</td><td>nan</td><td>nan</td><td>nan</td><td>N/A</td><td>nan</td><td>nan</td><td>nan</td><td>nan</td><td>nan</td><td>nan</td><td>nan</td><td>nan</td><td>nan</td><td>nan</td><td>nan</td><td>nan</td><td>N/A</td><td>nan</td><td>nan</td><td>N/A</td><td>nan</td><td>nan</td><td>nan</td><td>nan</td><td>--</td><td>N</td><td>cdwrf</td><td>N/A</td><td>N/A</td><td>0.0817733865468688</td><td>0.184321735778672</td><td>73.9884999559197</td><td>-61.162548266339</td><td>0.0817733865468688</td><td>0.184321735778672</td><td>1</td><td>0</td><td>529487153</td><td>0.0694445</td><td>0.39583365</td><td>0.45694481</td><td>0.35917132277996244</td><td>0.17585184099928752</td><td>0.16761874390184187</td></tr>\n",
       "<tr><td>471015740</td><td>12</td><td>9</td><td>0.011127763986587548</td><td>5.477068380787129</td><td>1.1210255603109935</td><td>1.6144875226313051</td><td>0.018142145017470145</td><td>0.007570440974247197</td><td>0.007443491950022706</td><td>20190415</td><td>--</td><td>N/A</td><td>145-004854</td><td>04555759-6109459</td><td>N</td><td>N/A</td><td>N/A</td><td>N/A</td><td>--</td><td>STAR</td><td>cooldwarfs</td><td>73.99</td><td>-61.1628</td><td>cooldwarfs</td><td>nan</td><td>nan</td><td>nan</td><td>nan</td><td>N/A</td><td>nan</td><td>nan</td><td>N/A</td><td>270.835966</td><td>-37.350777</td><td>30.033885</td><td>-81.160977</td><td>nan</td><td>nan</td><td>11.91</td><td>0.2</td><td>nan</td><td>nan</td><td>nan</td><td>nan</td><td>nan</td><td>nan</td><td>nan</td><td>nan</td><td>nan</td><td>nan</td><td>9.042</td><td>0.03</td><td>8.507</td><td>0.033</td><td>8.312</td><td>0.022</td><td>N/A</td><td>nan</td><td>nan</td><td>nan</td><td>nan</td><td>nan</td><td>nan</td><td>nan</td><td>nan</td><td>nan</td><td>nan</td><td>nan</td><td>10.328</td><td>0.059</td><td>cdwrf</td><td>cdwrf</td><td>nan</td><td>nan</td><td>4.90016</td><td>0.381047</td><td>nan</td><td>nan</td><td>0.367</td><td>0.058</td><td>0.39</td><td>0.083</td><td>7.88981</td><td>3.74067</td><td>DWARF</td><td>0.02487891</td><td>0.007863633</td><td>nan</td><td>nan</td><td>nan</td><td>nan</td><td>--</td><td>nan</td><td>N/A</td><td>N</td><td>nan</td><td>nan</td><td>nan</td><td>N/A</td><td>nan</td><td>nan</td><td>nan</td><td>nan</td><td>nan</td><td>nan</td><td>nan</td><td>nan</td><td>nan</td><td>nan</td><td>nan</td><td>nan</td><td>N/A</td><td>nan</td><td>nan</td><td>N/A</td><td>nan</td><td>nan</td><td>nan</td><td>nan</td><td>--</td><td>N</td><td>cdwrf</td><td>N/A</td><td>N/A</td><td>0.0817733865468688</td><td>0.184321735778672</td><td>73.9884999559197</td><td>-61.162548266339</td><td>0.0817733865468688</td><td>0.184321735778672</td><td>1</td><td>0</td><td>529487153</td><td>0.0694445</td><td>0.14583345</td><td>0.16527791</td><td>0.07806323856391756</td><td>0.05873644428486395</td><td>0.055393401443205335</td></tr>\n",
       "<tr><td>471015740</td><td>12</td><td>10</td><td>0.011552000045776391</td><td>4.455592448229954</td><td>10.58331587068752</td><td>3.0132015707374222</td><td>0.022451290927640127</td><td>0.022360388707983923</td><td>0.007743396955807277</td><td>20190415</td><td>--</td><td>N/A</td><td>145-004854</td><td>04555759-6109459</td><td>N</td><td>N/A</td><td>N/A</td><td>N/A</td><td>--</td><td>STAR</td><td>cooldwarfs</td><td>73.99</td><td>-61.1628</td><td>cooldwarfs</td><td>nan</td><td>nan</td><td>nan</td><td>nan</td><td>N/A</td><td>nan</td><td>nan</td><td>N/A</td><td>270.835966</td><td>-37.350777</td><td>30.033885</td><td>-81.160977</td><td>nan</td><td>nan</td><td>11.91</td><td>0.2</td><td>nan</td><td>nan</td><td>nan</td><td>nan</td><td>nan</td><td>nan</td><td>nan</td><td>nan</td><td>nan</td><td>nan</td><td>9.042</td><td>0.03</td><td>8.507</td><td>0.033</td><td>8.312</td><td>0.022</td><td>N/A</td><td>nan</td><td>nan</td><td>nan</td><td>nan</td><td>nan</td><td>nan</td><td>nan</td><td>nan</td><td>nan</td><td>nan</td><td>nan</td><td>10.328</td><td>0.059</td><td>cdwrf</td><td>cdwrf</td><td>nan</td><td>nan</td><td>4.90016</td><td>0.381047</td><td>nan</td><td>nan</td><td>0.367</td><td>0.058</td><td>0.39</td><td>0.083</td><td>7.88981</td><td>3.74067</td><td>DWARF</td><td>0.02487891</td><td>0.007863633</td><td>nan</td><td>nan</td><td>nan</td><td>nan</td><td>--</td><td>nan</td><td>N/A</td><td>N</td><td>nan</td><td>nan</td><td>nan</td><td>N/A</td><td>nan</td><td>nan</td><td>nan</td><td>nan</td><td>nan</td><td>nan</td><td>nan</td><td>nan</td><td>nan</td><td>nan</td><td>nan</td><td>nan</td><td>N/A</td><td>nan</td><td>nan</td><td>N/A</td><td>nan</td><td>nan</td><td>nan</td><td>nan</td><td>--</td><td>N</td><td>cdwrf</td><td>N/A</td><td>N/A</td><td>0.0817733865468688</td><td>0.184321735778672</td><td>73.9884999559197</td><td>-61.162548266339</td><td>0.0817733865468688</td><td>0.184321735778672</td><td>1</td><td>0</td><td>529487153</td><td>0.00416667</td><td>0.0694445</td><td>0.6055560400000001</td><td>0.30768598659710017</td><td>0.25777325769019377</td><td>0.14716346087866014</td></tr>\n",
       "<tr><td>471015740</td><td>12</td><td>11</td><td>0.014200815558433557</td><td>6.5099192631739315</td><td>10.688587040172386</td><td>2.7755711766263484</td><td>0.13360133356390502</td><td>0.08321653011417159</td><td>0.057539599735943865</td><td>20190415</td><td>--</td><td>N/A</td><td>145-004854</td><td>04555759-6109459</td><td>N</td><td>N/A</td><td>N/A</td><td>N/A</td><td>--</td><td>STAR</td><td>cooldwarfs</td><td>73.99</td><td>-61.1628</td><td>cooldwarfs</td><td>nan</td><td>nan</td><td>nan</td><td>nan</td><td>N/A</td><td>nan</td><td>nan</td><td>N/A</td><td>270.835966</td><td>-37.350777</td><td>30.033885</td><td>-81.160977</td><td>nan</td><td>nan</td><td>11.91</td><td>0.2</td><td>nan</td><td>nan</td><td>nan</td><td>nan</td><td>nan</td><td>nan</td><td>nan</td><td>nan</td><td>nan</td><td>nan</td><td>9.042</td><td>0.03</td><td>8.507</td><td>0.033</td><td>8.312</td><td>0.022</td><td>N/A</td><td>nan</td><td>nan</td><td>nan</td><td>nan</td><td>nan</td><td>nan</td><td>nan</td><td>nan</td><td>nan</td><td>nan</td><td>nan</td><td>10.328</td><td>0.059</td><td>cdwrf</td><td>cdwrf</td><td>nan</td><td>nan</td><td>4.90016</td><td>0.381047</td><td>nan</td><td>nan</td><td>0.367</td><td>0.058</td><td>0.39</td><td>0.083</td><td>7.88981</td><td>3.74067</td><td>DWARF</td><td>0.02487891</td><td>0.007863633</td><td>nan</td><td>nan</td><td>nan</td><td>nan</td><td>--</td><td>nan</td><td>N/A</td><td>N</td><td>nan</td><td>nan</td><td>nan</td><td>N/A</td><td>nan</td><td>nan</td><td>nan</td><td>nan</td><td>nan</td><td>nan</td><td>nan</td><td>nan</td><td>nan</td><td>nan</td><td>nan</td><td>nan</td><td>N/A</td><td>nan</td><td>nan</td><td>N/A</td><td>nan</td><td>nan</td><td>nan</td><td>nan</td><td>--</td><td>N</td><td>cdwrf</td><td>N/A</td><td>N/A</td><td>0.0817733865468688</td><td>0.184321735778672</td><td>73.9884999559197</td><td>-61.162548266339</td><td>0.0817733865468688</td><td>0.184321735778672</td><td>1</td><td>0</td><td>529487153</td><td>0.0694445</td><td>12.66251013</td><td>11.96945402</td><td>0.6030697943359421</td><td>0.12070764484188624</td><td>0.06320931684376402</td></tr>\n",
       "<tr><td>471015740</td><td>12</td><td>12</td><td>0.015998816490173432</td><td>5.1236765411148415</td><td>8.50804784293306</td><td>3.642568648535236</td><td>0.042859700562669266</td><td>0.03634959396996803</td><td>0.03323847455805084</td><td>20190415</td><td>--</td><td>N/A</td><td>145-004854</td><td>04555759-6109459</td><td>N</td><td>N/A</td><td>N/A</td><td>N/A</td><td>--</td><td>STAR</td><td>cooldwarfs</td><td>73.99</td><td>-61.1628</td><td>cooldwarfs</td><td>nan</td><td>nan</td><td>nan</td><td>nan</td><td>N/A</td><td>nan</td><td>nan</td><td>N/A</td><td>270.835966</td><td>-37.350777</td><td>30.033885</td><td>-81.160977</td><td>nan</td><td>nan</td><td>11.91</td><td>0.2</td><td>nan</td><td>nan</td><td>nan</td><td>nan</td><td>nan</td><td>nan</td><td>nan</td><td>nan</td><td>nan</td><td>nan</td><td>9.042</td><td>0.03</td><td>8.507</td><td>0.033</td><td>8.312</td><td>0.022</td><td>N/A</td><td>nan</td><td>nan</td><td>nan</td><td>nan</td><td>nan</td><td>nan</td><td>nan</td><td>nan</td><td>nan</td><td>nan</td><td>nan</td><td>10.328</td><td>0.059</td><td>cdwrf</td><td>cdwrf</td><td>nan</td><td>nan</td><td>4.90016</td><td>0.381047</td><td>nan</td><td>nan</td><td>0.367</td><td>0.058</td><td>0.39</td><td>0.083</td><td>7.88981</td><td>3.74067</td><td>DWARF</td><td>0.02487891</td><td>0.007863633</td><td>nan</td><td>nan</td><td>nan</td><td>nan</td><td>--</td><td>nan</td><td>N/A</td><td>N</td><td>nan</td><td>nan</td><td>nan</td><td>N/A</td><td>nan</td><td>nan</td><td>nan</td><td>nan</td><td>nan</td><td>nan</td><td>nan</td><td>nan</td><td>nan</td><td>nan</td><td>nan</td><td>nan</td><td>N/A</td><td>nan</td><td>nan</td><td>N/A</td><td>nan</td><td>nan</td><td>nan</td><td>nan</td><td>--</td><td>N</td><td>cdwrf</td><td>N/A</td><td>N/A</td><td>0.0817733865468688</td><td>0.184321735778672</td><td>73.9884999559197</td><td>-61.162548266339</td><td>0.0817733865468688</td><td>0.184321735778672</td><td>1</td><td>0</td><td>529487153</td><td>0.0694445</td><td>0.51527819</td><td>0.5611115600000001</td><td>0.2937398106990736</td><td>0.0707772358079392</td><td>0.062166923231961935</td></tr>\n",
       "<tr><td>471015740</td><td>12</td><td>13</td><td>0.009769165515899571</td><td>2.960912017396123</td><td>5.461077962036391</td><td>1.8570516484655213</td><td>0.0048038867594718355</td><td>0.0038511001228031696</td><td>0.002737154561571791</td><td>20190415</td><td>--</td><td>N/A</td><td>145-004854</td><td>04555759-6109459</td><td>N</td><td>N/A</td><td>N/A</td><td>N/A</td><td>--</td><td>STAR</td><td>cooldwarfs</td><td>73.99</td><td>-61.1628</td><td>cooldwarfs</td><td>nan</td><td>nan</td><td>nan</td><td>nan</td><td>N/A</td><td>nan</td><td>nan</td><td>N/A</td><td>270.835966</td><td>-37.350777</td><td>30.033885</td><td>-81.160977</td><td>nan</td><td>nan</td><td>11.91</td><td>0.2</td><td>nan</td><td>nan</td><td>nan</td><td>nan</td><td>nan</td><td>nan</td><td>nan</td><td>nan</td><td>nan</td><td>nan</td><td>9.042</td><td>0.03</td><td>8.507</td><td>0.033</td><td>8.312</td><td>0.022</td><td>N/A</td><td>nan</td><td>nan</td><td>nan</td><td>nan</td><td>nan</td><td>nan</td><td>nan</td><td>nan</td><td>nan</td><td>nan</td><td>nan</td><td>10.328</td><td>0.059</td><td>cdwrf</td><td>cdwrf</td><td>nan</td><td>nan</td><td>4.90016</td><td>0.381047</td><td>nan</td><td>nan</td><td>0.367</td><td>0.058</td><td>0.39</td><td>0.083</td><td>7.88981</td><td>3.74067</td><td>DWARF</td><td>0.02487891</td><td>0.007863633</td><td>nan</td><td>nan</td><td>nan</td><td>nan</td><td>--</td><td>nan</td><td>N/A</td><td>N</td><td>nan</td><td>nan</td><td>nan</td><td>N/A</td><td>nan</td><td>nan</td><td>nan</td><td>nan</td><td>nan</td><td>nan</td><td>nan</td><td>nan</td><td>nan</td><td>nan</td><td>nan</td><td>nan</td><td>N/A</td><td>nan</td><td>nan</td><td>N/A</td><td>nan</td><td>nan</td><td>nan</td><td>nan</td><td>--</td><td>N</td><td>cdwrf</td><td>N/A</td><td>N/A</td><td>0.0817733865468688</td><td>0.184321735778672</td><td>73.9884999559197</td><td>-61.162548266339</td><td>0.0817733865468688</td><td>0.184321735778672</td><td>1</td><td>0</td><td>529487153</td><td>0.0694445</td><td>0.10555564</td><td>0.12222232</td><td>0.035260750752886795</td><td>0.030229232011386838</td><td>0.028151320358330588</td></tr>\n",
       "<tr><td>471016194</td><td>1</td><td>11</td><td>0.030031132698059126</td><td>6.99790900387968</td><td>3.497764905874205</td><td>5.1081299766453965</td><td>0.0022847148653686524</td><td>0.002100617871756864</td><td>0.0009194113180830093</td><td>20190415</td><td>--</td><td>N/A</td><td>171-088558</td><td>12573286-5554490</td><td>N</td><td>N/A</td><td>6061504013641319040</td><td>28500821</td><td>--</td><td>STAR</td><td>tmgaia2</td><td>194.38683359377</td><td>-55.9136269469894</td><td>tmgaia2</td><td>-359.498</td><td>0.0495388</td><td>121.941</td><td>0.0512262</td><td>gaia2</td><td>22.3753</td><td>0.0506681</td><td>gaia2</td><td>303.794182445265</td><td>6.94789188666611</td><td>220.103760657031</td><td>-44.7860774099529</td><td>nan</td><td>nan</td><td>14.41</td><td>0.2</td><td>nan</td><td>nan</td><td>nan</td><td>nan</td><td>nan</td><td>nan</td><td>nan</td><td>nan</td><td>nan</td><td>nan</td><td>10.485</td><td>0.023</td><td>9.895</td><td>0.024</td><td>9.665</td><td>0.023</td><td>N/A</td><td>nan</td><td>nan</td><td>nan</td><td>nan</td><td>nan</td><td>nan</td><td>nan</td><td>nan</td><td>nan</td><td>13.1767</td><td>0.000238</td><td>12.1002</td><td>0.006</td><td>gbprp</td><td>gaia2</td><td>3523.0</td><td>119.162</td><td>4.98345</td><td>0.186541</td><td>nan</td><td>nan</td><td>0.365898</td><td>0.0502462</td><td>0.47</td><td>0.091819</td><td>9.5944</td><td>4.97315</td><td>DWARF</td><td>0.0185808353</td><td>0.003171275</td><td>44.6347</td><td>0.1017</td><td>0.0</td><td>0.0</td><td>1812</td><td>1.42257988</td><td>N/A</td><td>N</td><td>0.000237542859</td><td>0.0</td><td>0.0</td><td>N/A</td><td>0.072412</td><td>0.111226</td><td>0.0350146</td><td>0.0654779</td><td>3.16474</td><td>6.78155</td><td>0.213207</td><td>0.159875</td><td>0.00235646</td><td>0.00398609</td><td>0.1015</td><td>0.1019</td><td>bj2018</td><td>156.786</td><td>81.5383</td><td>dered0</td><td>14.5335</td><td>0.001161</td><td>12.0349</td><td>0.000543</td><td>1</td><td>N</td><td>cdwrf</td><td>N/A</td><td>N/A</td><td>0.869507204968967</td><td>0.794497156908351</td><td>194.384071776361</td><td>-55.9131019541478</td><td>0.0191969395326716</td><td>0.0279292946248813</td><td>1</td><td>0</td><td>824187193</td><td>0.00416667</td><td>0.10277786</td><td>0.10694453</td><td>0.090875431303494</td><td>0.04656222311640704</td><td>0.046527753594704666</td></tr>\n",
       "<tr><td>471016484</td><td>1</td><td>12</td><td>0.013339436054229823</td><td>13.708821714990744</td><td>0.9012538549266004</td><td>1.4700317794648032</td><td>0.0039981155415160135</td><td>0.0013693258707262069</td><td>0.0012755535872549404</td><td>20190415</td><td>--</td><td>N/A</td><td>162-189699</td><td>17290063-5739341</td><td>N</td><td>N/A</td><td>5913219752343628672</td><td>29374604</td><td>--</td><td>STAR</td><td>tmgaia2</td><td>262.252681989057</td><td>-57.6593953314254</td><td>tmgaia2</td><td>-75.7894</td><td>0.048035</td><td>-387.317</td><td>0.0466875</td><td>gaia2</td><td>17.4288</td><td>0.0323691</td><td>gaia2</td><td>333.797600450349</td><td>-12.5732858710434</td><td>264.988735107211</td><td>-34.3548067089674</td><td>nan</td><td>nan</td><td>12.276</td><td>0.029</td><td>nan</td><td>nan</td><td>nan</td><td>nan</td><td>nan</td><td>nan</td><td>nan</td><td>nan</td><td>nan</td><td>nan</td><td>9.504</td><td>0.024</td><td>8.8</td><td>0.036</td><td>8.674</td><td>0.021</td><td>N/A</td><td>nan</td><td>nan</td><td>nan</td><td>nan</td><td>nan</td><td>nan</td><td>nan</td><td>nan</td><td>nan</td><td>11.6054</td><td>0.000717</td><td>10.7355</td><td>0.006</td><td>gbprp</td><td>gaia2</td><td>3960.0</td><td>130.708</td><td>4.59527</td><td>0.126337</td><td>nan</td><td>nan</td><td>0.657046</td><td>0.0736809</td><td>0.62</td><td>0.0846652</td><td>2.18577</td><td>0.830627</td><td>DWARF</td><td>0.0956461</td><td>0.00922881</td><td>57.2814</td><td>0.107</td><td>0.0</td><td>0.0</td><td>1389</td><td>1.12794268</td><td>N/A</td><td>N</td><td>0.00217268174</td><td>0.0</td><td>0.0</td><td>N/A</td><td>0.0898191</td><td>0.0795113</td><td>0.0693482</td><td>0.0780136</td><td>0.830642</td><td>0.830612</td><td>0.135381</td><td>0.117294</td><td>0.00770652</td><td>0.0107511</td><td>0.1068</td><td>0.1072</td><td>bj2018</td><td>122.666</td><td>138.751</td><td>dered0</td><td>12.5323</td><td>0.001625</td><td>10.678</td><td>0.000876</td><td>1</td><td>N</td><td>cdwrf</td><td>N/A</td><td>N/A</td><td>0.850301584400162</td><td>0.724114501278714</td><td>262.252071998031</td><td>-57.6610629476695</td><td>0.0265805602976198</td><td>0.0257573833697732</td><td>1</td><td>0</td><td>1254893966</td><td>0.00277778</td><td>0.07500006000000001</td><td>0.10138897</td><td>0.06622968318285777</td><td>0.01412003294740122</td><td>0.01393478442764746</td></tr>\n",
       "</table>"
      ],
      "text/plain": [
       "<Table length=112219>\n",
       "    ID    NUMsectors sector ...       acfamp2              acfamp3       \n",
       "  int64     int64    int64  ...       float64              float64       \n",
       "--------- ---------- ------ ... -------------------- --------------------\n",
       " 24671921          1     13 ...   0.4577526606916515   0.4567945412636466\n",
       " 24672008          3      1 ... 0.006905549449161259 0.006847906529613067\n",
       " 24672008          3      2 ... 0.024404931520461092 0.024274567034454173\n",
       " 24672008          3     13 ... 0.014824130559866625 0.011906629228535949\n",
       " 24692702          2      2 ...   0.3671083680410408   0.3668819856334358\n",
       " 24692702          2     13 ...   0.4028234164561205  0.14055269600368386\n",
       " 24692708          2      2 ...  0.00459534127203999 0.004394007935472968\n",
       " 24692708          2     13 ... 0.007452881839633358 0.007140979841627705\n",
       " 24694131          2      2 ...  0.04969727060492669 0.003899300383146625\n",
       " 24694131          2     13 ... 0.012717746788103213 0.012699931743418444\n",
       "      ...        ...    ... ...                  ...                  ...\n",
       "471015740         12      5 ...  0.19055167247272675    0.190056892336504\n",
       "471015740         12      6 ...  0.10754993378107486  0.10750264890956483\n",
       "471015740         12      8 ...  0.17585184099928752  0.16761874390184187\n",
       "471015740         12      9 ...  0.05873644428486395 0.055393401443205335\n",
       "471015740         12     10 ...  0.25777325769019377  0.14716346087866014\n",
       "471015740         12     11 ...  0.12070764484188624  0.06320931684376402\n",
       "471015740         12     12 ...   0.0707772358079392 0.062166923231961935\n",
       "471015740         12     13 ... 0.030229232011386838 0.028151320358330588\n",
       "471016194          1     11 ...  0.04656222311640704 0.046527753594704666\n",
       "471016484          1     12 ...  0.01412003294740122  0.01393478442764746"
      ]
     },
     "execution_count": 11,
     "metadata": {},
     "output_type": "execute_result"
    }
   ],
   "source": [
    "#joining the tables\n",
    "bigstats = join(og, cvzstat_table)\n",
    "bigstats #note ACF values are LAST columns"
   ]
  },
  {
   "cell_type": "markdown",
   "metadata": {},
   "source": [
    "# Uncomment here to remake table"
   ]
  },
  {
   "cell_type": "code",
   "execution_count": 12,
   "metadata": {},
   "outputs": [],
   "source": [
    "#saving sector table\n",
    "# ascii.write(bigstats,'data/bigstats_by_sector.fits',overwrite=True) #already ran\n"
   ]
  },
  {
   "cell_type": "code",
   "execution_count": 13,
   "metadata": {},
   "outputs": [
    {
     "data": {
      "text/plain": [
       "70865"
      ]
     },
     "execution_count": 13,
     "metadata": {},
     "output_type": "execute_result"
    }
   ],
   "source": [
    "shortstats = bigstats[bigstats['NUMsectors']>=10]\n",
    "len(shortstats)"
   ]
  },
  {
   "cell_type": "code",
   "execution_count": 14,
   "metadata": {},
   "outputs": [
    {
     "name": "stdout",
     "output_type": "stream",
     "text": [
      "there are 5995 unique tics. Use the first output dictionary to see number of occurances for duplicates\n"
     ]
    }
   ],
   "source": [
    "seen, uniqs = uniquefinder(shortstats['ID'])"
   ]
  },
  {
   "cell_type": "code",
   "execution_count": 15,
   "metadata": {},
   "outputs": [],
   "source": [
    "#verifying lk works---passed\n",
    "\n",
    "# tics=[118074571,24694131,141867895] #expect YES, YES, no\n",
    "# import glob\n",
    "# for tic in tics:\n",
    "#     fullpath = glob.glob('/Volumes/Seagate-stars/LightCurves/*{}-*-s_lc.fits'.format(tic))\n",
    "#     for file in fullpath:\n",
    "#         try:\n",
    "#             lcfile = lk.open(file)\n",
    "#             print('HEY I WORKED!!',tic, file)\n",
    "#         except ValueError as err:\n",
    "#             print(err)\n",
    "\n"
   ]
  },
  {
   "cell_type": "markdown",
   "metadata": {},
   "source": [
    "# Combining bigstats with BLS stats for stitched lcs"
   ]
  },
  {
   "cell_type": "code",
   "execution_count": 2,
   "metadata": {},
   "outputs": [],
   "source": [
    "#load data\n",
    "bigstats = ascii.read('data/bigstats_stitchedlcs.fits')\n",
    "bls_stats = pd.read_csv('data/bls_stats.csv')\n",
    "# master_stats = ascii.read('data/master_bls_bigstats_stitchedlcs.fits')\n",
    "\n"
   ]
  },
  {
   "cell_type": "code",
   "execution_count": 15,
   "metadata": {},
   "outputs": [
    {
     "name": "stdout",
     "output_type": "stream",
     "text": [
      "check these lengths: 24071 24069 24087\n"
     ]
    }
   ],
   "source": [
    "# match catalogs\n",
    "\n",
    "bigstats.columns,list(bls_stats.columns)\n",
    "\n",
    "#convert df to table\n",
    "bls_table = Table.from_pandas(bls_stats)\n",
    "#rename colname to match\n",
    "bls_table.rename_column('tic','ID')\n",
    "#match based on tic id \n",
    "master_table = join(bigstats, bls_table, keys='ID')\n",
    "print('check these lengths still:',len(master_table),len(bls_stats),len(bigstats))"
   ]
  },
  {
   "cell_type": "code",
   "execution_count": 16,
   "metadata": {},
   "outputs": [],
   "source": [
    "#save new master table\n",
    "\n",
    "master_table\n",
    "#ascii.write(master_table,'data/master_bls_bigstats_stitchedlcs.fits',overwrite=True) #already ran "
   ]
  },
  {
   "cell_type": "code",
   "execution_count": null,
   "metadata": {},
   "outputs": [],
   "source": []
  },
  {
   "cell_type": "code",
   "execution_count": null,
   "metadata": {},
   "outputs": [],
   "source": []
  },
  {
   "cell_type": "code",
   "execution_count": null,
   "metadata": {},
   "outputs": [],
   "source": []
  },
  {
   "cell_type": "markdown",
   "metadata": {},
   "source": [
    "# TESTS"
   ]
  },
  {
   "cell_type": "code",
   "execution_count": 16,
   "metadata": {},
   "outputs": [
    {
     "name": "stdout",
     "output_type": "stream",
     "text": [
      "there are 24071 unique tics. Use the first output dictionary to see number of occurances for duplicates\n"
     ]
    },
    {
     "data": {
      "text/plain": [
       "24085"
      ]
     },
     "execution_count": 16,
     "metadata": {},
     "output_type": "execute_result"
    }
   ],
   "source": [
    "seen, uniqs = uniquefinder(cvzstat_table['ID'])\n",
    "len(tic_list)"
   ]
  },
  {
   "cell_type": "code",
   "execution_count": 17,
   "metadata": {},
   "outputs": [
    {
     "name": "stdout",
     "output_type": "stream",
     "text": [
      "figured out these tics werent files lk could open\n"
     ]
    },
    {
     "data": {
      "text/plain": [
       "(14,\n",
       " 0,\n",
       " [141867895,\n",
       "  141870589,\n",
       "  141910606,\n",
       "  141974066,\n",
       "  141975926,\n",
       "  141976247,\n",
       "  149037112,\n",
       "  149039372,\n",
       "  149060586,\n",
       "  149102762,\n",
       "  149103941,\n",
       "  149154927,\n",
       "  149156139,\n",
       "  149158724])"
      ]
     },
     "execution_count": 17,
     "metadata": {},
     "output_type": "execute_result"
    }
   ],
   "source": [
    "#uses all dled tics\n",
    "notin_b, notin_a = returnNotMatches(tic_list, cvzstat_table['ID']) #a,b\n",
    "\n",
    "print('figured out these tics werent files lk could open')\n",
    "len(notin_b),len(notin_a), notin_b"
   ]
  },
  {
   "cell_type": "markdown",
   "metadata": {},
   "source": [
    "# ~~PYTHONPATH problems~~ Solved!"
   ]
  },
  {
   "cell_type": "code",
   "execution_count": 18,
   "metadata": {},
   "outputs": [],
   "source": [
    "#import starspot as ss"
   ]
  },
  {
   "cell_type": "code",
   "execution_count": 19,
   "metadata": {},
   "outputs": [],
   "source": [
    "#test ss module -- passed\n",
    "\n",
    "# time = [1,2,3,4,5,6,7,8,9,10]\n",
    "# flux = [1,2,3,2.5,1.1,2,3.1,1.9,1,2]\n",
    "# unc = [1,1,1,1,1,1,1,1,1,1]\n",
    "\n",
    "# model = ss.RotationModel(time,flux,unc)\n",
    "# rp = model.ls_rotation()\n",
    "# print(rp)"
   ]
  },
  {
   "cell_type": "code",
   "execution_count": 20,
   "metadata": {},
   "outputs": [],
   "source": [
    "#to find paths\n",
    "# import sys\n",
    "# for p in sys.path:\n",
    "#     print(p)\n",
    "# print(sys.path) #may not contain all paths & above method is easier to read"
   ]
  },
  {
   "cell_type": "code",
   "execution_count": 21,
   "metadata": {},
   "outputs": [],
   "source": [
    "#if i had needed to add any paths\n",
    "# sys.path.append('/Users/helenfellow/opt/anaconda3/lib/python3.7/site-packages/starspot-0.1-py3.7.egg\n",
    "# ')"
   ]
  },
  {
   "cell_type": "code",
   "execution_count": 22,
   "metadata": {},
   "outputs": [],
   "source": [
    "# to get environoment\n",
    "# import os\n",
    "# os.environ['PYTHONPATH'].split(os.pathsep) #error b/c this isnt set yet"
   ]
  },
  {
   "cell_type": "code",
   "execution_count": null,
   "metadata": {},
   "outputs": [],
   "source": []
  }
 ],
 "metadata": {
  "kernelspec": {
   "display_name": "Python 3",
   "language": "python",
   "name": "python3"
  },
  "language_info": {
   "codemirror_mode": {
    "name": "ipython",
    "version": 3
   },
   "file_extension": ".py",
   "mimetype": "text/x-python",
   "name": "python",
   "nbconvert_exporter": "python",
   "pygments_lexer": "ipython3",
   "version": "3.7.6"
  }
 },
 "nbformat": 4,
 "nbformat_minor": 2
}
